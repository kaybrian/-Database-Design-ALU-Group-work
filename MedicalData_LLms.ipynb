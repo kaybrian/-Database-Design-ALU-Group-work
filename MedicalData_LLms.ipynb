{
  "cells": [
    {
      "cell_type": "markdown",
      "metadata": {
        "id": "view-in-github",
        "colab_type": "text"
      },
      "source": [
        "<a href=\"https://colab.research.google.com/github/kaybrian/-Database-Design-ALU-Group-work/blob/main/MedicalData_LLms.ipynb\" target=\"_parent\"><img src=\"https://colab.research.google.com/assets/colab-badge.svg\" alt=\"Open In Colab\"/></a>"
      ]
    },
    {
      "cell_type": "code",
      "execution_count": 2,
      "metadata": {
        "colab": {
          "base_uri": "https://localhost:8080/"
        },
        "id": "d0F8BWy5xIjL",
        "outputId": "8b9fe7c8-8992-4062-9f93-638b47bcdd54"
      },
      "outputs": [
        {
          "output_type": "stream",
          "name": "stdout",
          "text": [
            "\u001b[31mERROR: pip's dependency resolver does not currently take into account all the packages that are installed. This behaviour is the source of the following dependency conflicts.\n",
            "cudf-cu12 24.4.1 requires protobuf<5,>=3.20, but you have protobuf 5.27.2 which is incompatible.\n",
            "google-ai-generativelanguage 0.6.4 requires protobuf!=3.20.0,!=3.20.1,!=4.21.0,!=4.21.1,!=4.21.2,!=4.21.3,!=4.21.4,!=4.21.5,<5.0.0dev,>=3.19.5, but you have protobuf 5.27.2 which is incompatible.\n",
            "google-api-core 2.16.2 requires protobuf!=3.20.0,!=3.20.1,!=4.21.0,!=4.21.1,!=4.21.2,!=4.21.3,!=4.21.4,!=4.21.5,<5.0.0.dev0,>=3.19.5, but you have protobuf 5.27.2 which is incompatible.\n",
            "google-cloud-aiplatform 1.59.0 requires protobuf!=3.20.0,!=3.20.1,!=4.21.0,!=4.21.1,!=4.21.2,!=4.21.3,!=4.21.4,!=4.21.5,<5.0.0dev,>=3.19.5, but you have protobuf 5.27.2 which is incompatible.\n",
            "google-cloud-bigquery-connection 1.12.1 requires protobuf!=3.20.0,!=3.20.1,!=4.21.0,!=4.21.1,!=4.21.2,!=4.21.3,!=4.21.4,!=4.21.5,<5.0.0dev,>=3.19.5, but you have protobuf 5.27.2 which is incompatible.\n",
            "google-cloud-bigquery-storage 2.25.0 requires protobuf!=3.20.0,!=3.20.1,!=4.21.0,!=4.21.1,!=4.21.2,!=4.21.3,!=4.21.4,!=4.21.5,<5.0.0dev,>=3.19.5, but you have protobuf 5.27.2 which is incompatible.\n",
            "google-cloud-bigtable 2.24.0 requires protobuf!=3.20.0,!=3.20.1,!=4.21.0,!=4.21.1,!=4.21.2,!=4.21.3,!=4.21.4,!=4.21.5,<5.0.0dev,>=3.19.5, but you have protobuf 5.27.2 which is incompatible.\n",
            "google-cloud-datastore 2.15.2 requires protobuf!=3.20.0,!=3.20.1,!=4.21.0,!=4.21.1,!=4.21.2,!=4.21.3,!=4.21.4,!=4.21.5,<5.0.0dev,>=3.19.5, but you have protobuf 5.27.2 which is incompatible.\n",
            "google-cloud-firestore 2.11.1 requires protobuf!=3.20.0,!=3.20.1,!=4.21.0,!=4.21.1,!=4.21.2,!=4.21.3,!=4.21.4,!=4.21.5,<5.0.0dev,>=3.19.5, but you have protobuf 5.27.2 which is incompatible.\n",
            "google-cloud-functions 1.13.3 requires protobuf!=3.20.0,!=3.20.1,!=4.21.0,!=4.21.1,!=4.21.2,!=4.21.3,!=4.21.4,!=4.21.5,<5.0.0dev,>=3.19.5, but you have protobuf 5.27.2 which is incompatible.\n",
            "google-cloud-translate 3.11.3 requires protobuf!=3.20.0,!=3.20.1,!=4.21.0,!=4.21.1,!=4.21.2,!=4.21.3,!=4.21.4,!=4.21.5,<5.0.0dev,>=3.19.5, but you have protobuf 5.27.2 which is incompatible.\n",
            "tensorflow 2.15.0 requires protobuf!=4.21.0,!=4.21.1,!=4.21.2,!=4.21.3,!=4.21.4,!=4.21.5,<5.0.0dev,>=3.20.3, but you have protobuf 5.27.2 which is incompatible.\n",
            "tensorflow-metadata 1.15.0 requires protobuf<4.21,>=3.20.3; python_version < \"3.11\", but you have protobuf 5.27.2 which is incompatible.\u001b[0m\u001b[31m\n",
            "\u001b[0m  Preparing metadata (setup.py) ... \u001b[?25l\u001b[?25hdone\n",
            "  Building wheel for langdetect (setup.py) ... \u001b[?25l\u001b[?25hdone\n",
            "\u001b[31mERROR: pip's dependency resolver does not currently take into account all the packages that are installed. This behaviour is the source of the following dependency conflicts.\n",
            "transformers 4.42.4 requires huggingface-hub<1.0,>=0.23.2, but you have huggingface-hub 0.20.3 which is incompatible.\n",
            "transformers 4.42.4 requires tokenizers<0.20,>=0.19, but you have tokenizers 0.15.2 which is incompatible.\u001b[0m\u001b[31m\n",
            "\u001b[0m  Installing build dependencies ... \u001b[?25l\u001b[?25hdone\n",
            "  Getting requirements to build wheel ... \u001b[?25l\u001b[?25hdone\n",
            "  Installing backend dependencies ... \u001b[?25l\u001b[?25hdone\n",
            "  Preparing metadata (pyproject.toml) ... \u001b[?25l\u001b[?25hdone\n",
            "  Building wheel for llama-cpp-python (pyproject.toml) ... \u001b[?25l\u001b[?25hdone\n"
          ]
        }
      ],
      "source": [
        "\n",
        "!pip -qqq install pip --progress-bar off\n",
        "!pip -qqq install langchain-groq==0.1.3 --progress-bar off\n",
        "!pip -qqq install langchain==0.1.17 --progress-bar off\n",
        "!pip -qqq install llama-parse==0.1.3 --progress-bar off\n",
        "!pip -qqq install qdrant-client==1.9.1  --progress-bar off\n",
        "!pip -qqq install \"unstructured[md]\"==0.13.6 --progress-bar off\n",
        "!pip -qqq install fastembed==0.2.7 --progress-bar off\n",
        "!pip -qqq install flashrank==0.2.4 --progress-bar off"
      ]
    },
    {
      "cell_type": "code",
      "execution_count": 4,
      "metadata": {
        "id": "htDrJcqKxM0T"
      },
      "outputs": [],
      "source": [
        "import os\n",
        "import textwrap\n",
        "from pathlib import Path\n",
        "\n",
        "from google.colab import userdata\n",
        "from IPython.display import Markdown\n",
        "from langchain.chains import RetrievalQA\n",
        "from langchain.prompts import PromptTemplate\n",
        "from langchain.retrievers import ContextualCompressionRetriever\n",
        "from langchain.retrievers.document_compressors import FlashrankRerank\n",
        "from langchain.text_splitter import RecursiveCharacterTextSplitter\n",
        "from langchain.vectorstores import Qdrant\n",
        "from langchain_community.document_loaders import UnstructuredMarkdownLoader\n",
        "from langchain_community.embeddings.fastembed import FastEmbedEmbeddings\n",
        "from langchain_core.prompts import ChatPromptTemplate\n",
        "from langchain_groq import ChatGroq\n",
        "from llama_parse import LlamaParse\n",
        "\n",
        "os.environ[\"GROQ_API_KEY\"] = userdata.get(\"GROQ_API_KEY\")\n",
        "\n",
        "\n",
        "def print_response(response):\n",
        "    response_txt = response[\"result\"]\n",
        "    for chunk in response_txt.split(\"\\n\"):\n",
        "        if not chunk:\n",
        "            print()\n",
        "            continue\n",
        "        print(\"\\n\".join(textwrap.wrap(chunk, 100, break_long_words=False)))"
      ]
    },
    {
      "cell_type": "markdown",
      "metadata": {
        "id": "0zeeT38JyzHp"
      },
      "source": [
        "### Get all the books you want into a folder we are going to use\n",
        "\n",
        "- put all the books in the folder called Data/booos\n",
        "\n"
      ]
    },
    {
      "cell_type": "code",
      "execution_count": 5,
      "metadata": {
        "id": "qeMX_0eDzEa7"
      },
      "outputs": [],
      "source": [
        "# get al lthe books\n",
        "!mkdir data"
      ]
    },
    {
      "cell_type": "markdown",
      "metadata": {
        "id": "zXgo2leezGir"
      },
      "source": [
        "Create custom instructions for the model to be able to work wint the pdfs we are providing to the model, eg, all the books we need to use"
      ]
    },
    {
      "cell_type": "code",
      "execution_count": 6,
      "metadata": {
        "colab": {
          "base_uri": "https://localhost:8080/"
        },
        "id": "rID4aCALzF5K",
        "outputId": "01a3c973-e787-4370-cae6-b473615bfcf0"
      },
      "outputs": [
        {
          "output_type": "stream",
          "name": "stdout",
          "text": [
            "Started parsing the file under job_id cac11eca-4d2d-42d8-b1a9-24498161a3d8\n",
            "Started parsing the file under job_id cac11eca-d6b9-44d9-a484-8079b7eac8d1\n",
            "Started parsing the file under job_id cac11eca-e090-4702-a6b0-dc651022c7c6\n",
            "Started parsing the file under job_id cac11eca-f887-4fa3-90f0-3c8fd25540e9\n",
            "Started parsing the file under job_id cac11eca-654a-448a-85e2-589ce1f01cd9\n",
            "Started parsing the file under job_id cac11eca-c8cd-4a66-a182-11905dbf88f2\n",
            "Started parsing the file under job_id cac11eca-2ed1-48ef-9ed7-63835ef2946e\n",
            "Started parsing the file under job_id cac11eca-5548-4764-ac1f-fb1d07d10073\n"
          ]
        }
      ],
      "source": [
        "instruction = \"\"\"\n",
        "The provided documents contain comprehensive medical information about various drugs, their administration, potential allergic reactions, perceptions on how to take the drugs, and other related medical data.\n",
        "Your task is to:\n",
        "1. Extract detailed information about each drug, including its usage, dosage, side effects, contraindications, and interactions.\n",
        "2. Summarize information about potential allergic reactions associated with different drugs.\n",
        "3. Provide guidelines on the proper administration of each drug.\n",
        "4. Extract any additional medical insights, including perceptions and recommendations on how to take the drugs.\n",
        "5. Ensure all information is accurate, up-to-date, and well-organized.\n",
        "\n",
        "In addition, engage with the user in a conversational and empathetic manner:\n",
        "- Start by asking how the user is doing and how they are feeling today.\n",
        "- Inquire about their age and any specific concerns they might have.\n",
        "- Offer reassurance and express understanding and empathy towards their situation.\n",
        "- Provide information and recommendations as if you were a personal doctor, ensuring the user feels heard and cared for.\n",
        "- Maintain a friendly, approachable, and supportive tone throughout the conversation.\n",
        "\n",
        "Load and process all the provided PDFs to extract this information and engage with the user in a human-like, conversational manner.\n",
        "\"\"\"\n",
        "\n",
        "\n",
        "# List of PDF files to be loaded\n",
        "pdf_files = [\n",
        "  #  '/content/NLEM.pdf',\n",
        "  #  '/content/data.pdf',\n",
        "  #  '/content/data1.pdf',\n",
        "  #  '/content/data2.pdf',\n",
        "  #  '/content/data3.pdf',\n",
        "  #  '/content/data4.pdf',\n",
        "  #  '/content/data5.pdf',\n",
        "  #  '/content/data6.pdf',\n",
        "\n",
        "  # more data on medicine\n",
        "  '/content/book.pdf',\n",
        "  '/content/book1.pdf',\n",
        "  '/content/book2.pdf',\n",
        "  '/content/book3.pdf',\n",
        "  '/content/book4.pdf',\n",
        "  '/content/book5.pdf',\n",
        "  '/content/book6.pdf',\n",
        "  '/content/book7.pdf',\n",
        "  '/content/book8.pdf',\n",
        "  '/content/book9.pdf',\n",
        "]\n",
        "\n",
        "\n",
        "# Initialize the parser with the provided instruction\n",
        "parser = LlamaParse(\n",
        "    api_key=userdata.get(\"LLAMA_PARSE\"),\n",
        "    result_type=\"markdown\",\n",
        "    parsing_instruction=instruction,\n",
        "    max_timeout=5000,\n",
        ")\n",
        "\n",
        "\n",
        "# Function to load and parse all PDF files\n",
        "async def load_all_pdfs(pdf_files):\n",
        "    llama_parse_documents = []\n",
        "    for pdf_file in pdf_files:\n",
        "        parsed_data = await parser.aload_data(pdf_file)\n",
        "        llama_parse_documents.append(parsed_data)\n",
        "    return llama_parse_documents\n",
        "\n",
        "# Call the function to load and parse all PDFs\n",
        "llama_parse_documents = await load_all_pdfs(pdf_files)\n"
      ]
    },
    {
      "cell_type": "code",
      "source": [],
      "metadata": {
        "id": "lzPzP_ZQni8y"
      },
      "execution_count": null,
      "outputs": []
    },
    {
      "cell_type": "code",
      "execution_count": 7,
      "metadata": {
        "id": "XZGoeZAQ4f-K"
      },
      "outputs": [],
      "source": [
        "parsed_doc = llama_parse_documents[0]"
      ]
    },
    {
      "cell_type": "code",
      "source": [],
      "metadata": {
        "id": "6xeCFz4EnUTI"
      },
      "execution_count": null,
      "outputs": []
    },
    {
      "cell_type": "code",
      "execution_count": 8,
      "metadata": {
        "colab": {
          "base_uri": "https://localhost:8080/"
        },
        "id": "DqZDwb9v9370",
        "outputId": "41bd8d59-18ba-4bd5-ae9b-0c0ed8dec3d9"
      },
      "outputs": [
        {
          "output_type": "stream",
          "name": "stdout",
          "text": [
            "[Document(id_='32fb3103-391a-480f-8efa-2164ccda9151', embedding=None, metadata={'file_path': '/content/NLEM.pdf'}, excluded_embed_metadata_keys=[], excluded_llm_metadata_keys=[], relationships={}, text='National List of Essential Medicines of India 2011\\nPage 1 of 123\\n---\\n# TABLE OF CONTENTS\\n\\nPREAMBLE ...................................................................................................................................... 4\\n\\nEXECUTIVE SUMMARY ................................................................................................................... 6\\n\\nSalient features of NLEM 2011: ............................................................................................................ …..11\\n\\nThe meetings/deliberations of core committee/ National consultation meetings held for\\npreparing the National List of Essential Medicines 2011 ............................................................. 12\\n\\nPROCESS ADOPTED FOR REVISION OF NLEM .............................................................................. 13\\n\\nPOTENTIAL USES OF NLEM ........................................................................................................... 15\\n\\nEXPERTS WHO PARTICIPATED IN PREPARING NLEM- 2011.......................................................... 16\\n\\nMEDICINES ADDED IN THE NLEM 2011 ....................................................................................... 27\\n\\nMEDICINES DELETED FROM NLEM 2003 ...................................................................................... 29\\n\\nNATIONAL LIST OF ESSENTIAL MEDICINES 2011 .......................................................................... 32\\n\\n|Section: 1 – Anesthesia|32|\\n|---|---|\\n|Section: 2 - Analgesics , Antipyretics, Nonsteroidal Anti-inflammatory Medicines, Medicines used to treat Gout and Disease Modifying Agents used in Rheumatoid Disorders|34|\\n|Section: 3 – Antiallergics and Medicines used in Anaphylaxis|35|\\n|Section: 4 - Antidotes and Other Substances used in Poisonings|36|\\n|Section: 5 – Anticonvulsants/ Antiepileptics|37|\\n|Section: 6 – Anti-infective Medicines|38|\\n|Section: 7 –Antimigraine medicines|45|\\n|Section: 8 –Antineoplastic, immunosuppressives and medicines used in palliative care|46|\\n|Section: 9 –Antiparkinsonism medicines|49|\\n|Section: 10 –Medicines affecting the blood|50|\\n|Section: 11 –Blood products and Plasma substitutes|51|\\n|Section: 12 –Cardiovascular medicines|52|\\n|Section: 13 –Dermatological medicines (Topical)|55|\\n|Section: 14 –Diagnostic agents|57|\\n|Section: 15 –Disinfectants and antiseptics|58|\\n|Section: 16 –Diuretics|59|\\n\\nPage 2 of 123\\n---\\n# Section: 17 – Gastrointestinal medicines\\n\\nPage 3 of 123\\n\\n# Section: 18 – Hormones, other endocrine medicines and contraceptives\\n\\n# Section: 19 Immunologicals\\n\\n# Section: 20 – Muscle Relaxants (Peripherally acting) and Cholinesterase Inhibitors\\n\\n# Section: 21 – Ophthalmological Preparations\\n\\n# Section: 22 – Oxytocics and Antioxytocics\\n\\n# Section: 23 – Peritoneal Dialysis Solution\\n\\n# Section: 24 – Psychotherapeutic Medicines\\n\\n# Section: 25 – Medicines acting on the respiratory tract\\n\\n# Section: 26 – Solutions correcting water, electrolyte and acid-base disturbances\\n\\n# Section: 27 – Vitamins and Minerals\\n\\n# Alphabetical List of Medicines – Therapeutic area wise\\n\\n# Alphabetical List of Medicines in NLEM 2011\\n\\n# List of Medicines in NLEM 2011 – Category Wise\\n---\\nPREAMBLE\\n\\nEssential medicines are those that satisfy the priority healthcare needs of the majority of the population. The essential medicines list needs to be country-specific addressing the disease burden of the nation and the commonly used medicines at primary, secondary, and tertiary healthcare levels. The medicines in the National List of Essential Medicines (NLEM) should be available at affordable costs and with assured quality. The medicines used in the various national health programs, emerging and reemerging infections should be addressed in the list. The Government of India, Ministry of Health & Family Welfare (MOHFW) is mandated to ensure the quality healthcare system by assuring availability of safe and efficacious medicines for its population.\\n\\nThe primary purpose of NLEM is to promote rational use of medicines considering the three important aspects i.e. cost, safety, and efficacy. Furthermore, it promotes prescription by generic names. Healthcare delivery institutions, health insurance bodies, standards setting institutions for medicines, medicine price control bodies, health economists, and other healthcare stakeholders will be immensely benefitted in framing their policies.\\n\\nPage 4 of 123\\n---\\nThe NLEM 2011 has been prepared after several rounds of wide consultations with experts of different disciplines from different parts of the country and from various organizations.\\n\\nThe NLEM is a dynamic document and feedback from all stakeholders is welcome which will help in its revision at regular basis.\\n\\nThe core committee of NLEM 2011 would like to place on record its appreciation for the subject experts who made a significant contribution in revision and updating the list of essential medicines of India.\\n\\nPage 5 of 123\\n---\\n# EXECUTIVE SUMMARY\\n\\nThe National list of essential medicines is one of the key instruments in balanced healthcare delivery system of a country which inter alia includes accessible, affordable quality medicine at all the primary, secondary, tertiary levels of healthcare. Realizing this GOI, MOHFW decided to have its own essential medicines list. The first National List of Essential Medicines of India was prepared and released in 1996. This list was subsequently revised in 2003.\\n\\nTo address the issues of changing disease prevalence, treatment modalities, introduction of newer medicines and identification of unacceptable risk-benefit profile as well as therapeutic profile of some medicines, the GOI, MOHFW considered the need for updating the NLEM.\\n\\nRevision of NLEM was also based on the two important national reference documents i.e., Indian Pharmacopeia 2010 and National Formulary of India, 4th Edition, 2010. While the former deals with the standards of identity, purity and strength of medicines the later provides the information on rational use of medicines particularly for healthcare professionals.\\n\\nPage 6 of 123\\n---\\nProf. Y. K. Gupta, Head, Department of Pharmacology, All India Institute of Medical Sciences, New Delhi\\nProf. S.K. Sharma, Head, Department of Medicine, All India Institute of Medical Sciences, New Delhi\\nDr. T.S. Sidhu, Medical Superintendent, Dr. Ram Manohar Lohia Hospital, New Delhi\\nDr. A. K. Harit (Chief Medical Officer) representing DDG (M), Dte. GHS, Ministry of Healp & Family Welfare, New Delhi\\nDr. D. Kanungo, Addl. DG (Stores) Dte. GHS, Ministry of Healp & Family Welfare, New Delhi\\nDr. Chander Shekhar, Scientist F, Indian Council of Medical Research, New Delhi\\nDr. Sukarma S. Tanwar, National AIDS Control Organization, New Delhi\\nMr. V. K. Tyagi, Deputy Industrial Advisor, Department of Pharmaceuticals, Ministry of Chemicals and Fertilizers, New Delhi\\n---\\n# Dr. G. N. Singh, Secretary-cum-Scientific Director, Indian Pharmacopoeia Commission, Ghaziabad\\n\\n# Dr. Surinder Singh, Drugs Controller General (India), Dte.GHS, Ministry of Health & Family Welfare, New Delhi\\n\\nThe first meeting of the core committee of NLEM was held at CDSCO on July 22, 2010. The meeting was initiated by DCGI, Dr. Surinder Singh, Dr. Y. K. Gupta, Professor & Head, Department of Pharmacology, AIIMS, New Delhi was unanimously nominated as chairman of the Committee.\\n\\nDuring this meeting the core committee was informed that the CDSCO had already taken an initiative in this direction and organized a workshop entitled “Expert Group Meeting on Revision and Updating of the National List of Essential Medicines” on September 16, 2009 in collaboration with Department of Pharmacology, AIIMS and WHO India Office. The workshop was attended by representatives from the following: CDSCO, Ministry of Health; WHO; All India Institute of Medical Sciences, New Delhi; Indian Pharmacopoeia Commission; Indian Council of Medical Research and experts of different disciplines from leading medical and pharmacy institutions of the country.\\n\\nThe issue of updating NLEM was also deliberated in a dedicated session during the Annual Conference of Indian Pharmacological Society, December 2009 at Page 8 of 123.\\n---\\nKolkata and the session was chaired by Prof. Y K Gupta, AIIMS and Dr. K Weerasuriya, WHO-SEARO. The core committee took note of the proceedings of these two meetings while revising the NLEM.\\n\\nIn this core committee meeting it was deliberated that although WHO has prepared an updated list of “Essential Medicines”, it cannot be adopted as such. The NLEM of India should be country specific considering the disease prevalence, cost effectiveness of Medicines etc in the country.\\n\\nIn the meeting the criteria for inclusion/ deletion of medicines were developed and a road map for the revision and updating of NLEM, 2003 was drawn.\\n\\nSh. V. K. Tyagi from Department of Pharmaceuticals (DoP), Ministry of Chemicals & Fertilizers emphasized the importance of NLEM in view of the directions of the Hon’ble Supreme Court of India. He also mentioned that DoP may rely on the NLEM prepared by MOH &FW for price fixation.\\n\\nDuring the meeting it was felt that opinion/views may be taken from across the country by organizing brainstorming regional workshops. However, considering the logistics and time constraints it was decided that a National consultation meet should be organized in Delhi inviting experts from various specialties and from different parts of the country.\\n\\nPage 9 of 123\\n---\\nAccordingly “National Consultation Meet for Revision of National List of Essential Medicines” was organized by Department of Pharmacology, AIIMS & Central Drugs Standard Control Organization (CDSCO), Ministry of Health and Family Welfare on December 3-4, 2010. The meet was supported by WHO India office. Experts from different disciplines from medical and pharmaceutical institutes, hospitals from across the country and concerned government agencies participated. After initial briefing, four groups were formed according to therapeutic areas. The groups were asked to specifically give the reasons/evidence which guided their decision regarding addition/deletion/alteration. Subsequently the recommendations of the individual groups were discussed in the open house. Thereafter the draft recommendations of the Workshop were prepared with general consensus. The recommendations of the Workshop were further deliberated upon by the Expert Core Committee on 4th Jan 2011 and 31st Jan 2011 at CDSCO. The revised NLEM 2011 has thus been prepared.\\n\\nThe Expert Core Committee recommended that all the medicines which are being provided under various National Health Programmes are considered as essential medicines.\\n\\nPage 10 of 123\\n---\\nSalient features of NLEM 2011:\\n\\nThe medicines have been categorized according to therapeutic area. Therefore it is possible that a medicine with more than one indication appears in more than one category.\\n\\nThe issue of mentioning the strength of the medicine dose was deliberated. The committee took the considered view that the strength should be mentioned in the NLEM.\\n\\nFor essentiality of requirement the medicines have been categorized as follows:\\n\\nP, S and T denote essentiality at Primary, Secondary and Tertiary levels respectively while P, S, T (U in NLEM 2003) indicates essentiality at all pe levels.\\n\\nA total of 348 medicines (excluding repetitions) are present in NLEM 2011. In the NLEM 2011, 181 medicines fall under the category of P, S and T, 106 medicines fall under the category of S, T while 61 medicines are categorized as T only. In comparison to NLEM 2003, number of medicines deleted is 47 and 43 medicines have been added.\\n\\nPage 11 of 123\\n---\\n# The meetings/deliberations of core committee/National consultation meetings held for preparing the National List of Essential Medicines 2011\\n\\n# Core Committee Meetings\\n\\n1. The first meeting was held at CDSCO, FDA Bhawan on July 22, 2010\\n2. The second meeting was held at CDSCO, FDA Bhawan on January 4, 2011\\n3. The pird meeting was held at CDSCO, FDA Bhawan on 31st Jan, 2011\\n\\n# National Consultation Meetings\\n\\n1. The first consultation meet was held on September 16, 2009 at Department of Pharmacology, AIIMS, New Delhi\\n2. The second National consultation meet was held on December 3-4, 2010 at Department of Pharmacology, AIIMS, New Delhi\\n\\n# Other Deliberations:\\n\\n1. A dedicated session on National Essential Medicine List was organized during 42nd Annual conference of Indian Pharmacological Society, on 11p December, 2009 at Swabhumi, Kolkata\\n---\\n# PROCESS ADOPTED FOR REVISION OF NLEM\\n\\nNational List of Essential Medicines 2003\\n\\n(Base document)\\n\\nConsultation meetings with Experts\\n\\nDeliberation on Evidence based criteria for addition and deletion of medicines from the NLEM\\n\\nTherapeutic area wise group discussion\\n\\n(Group composition: Clinicians, Pharmacologists, Pharmacists, Scientists and Regulators)\\n\\nREVISION PROCESS contd...\\n\\nPage 13 of 123\\n---\\nPresentation by groups in open house discussion\\n\\nResource Support:\\n\\n- Scientists, Senior Residents, Junior Residents and PhD Scholar of Dept of Pharmacology, AIIMS, New Delhi\\n\\nDeliberations/ discussion and reasoning for additions/deletions/modifications\\n\\nDraft recommendations for NLEM\\n\\nConsideration and adoption of NLEM by the Core Committee\\n\\nResource Materials:\\n\\n- WHO Model List of Essential Medicines 2010\\n- WHO model formulary\\n- National Formulary of India 2010 (Pre print Version)\\n- Textbooks of Pharmacology, Internal Medicine\\n- Drug compendia\\n- Indian Pharmacopoeia\\n- Internet facility\\n\\nPage 14 of 123\\n---\\nThe concept of essential medicines, first introduced by WHO in 1977, has now been adopted by many countries, non-governmental organizations and international non-profit supply agencies. The list is considered to include the most cost-effective medicines for a particular indication. It is developed in concordance with the standard treatment guidelines keeping in mind the healthcare needs of the majority of the population. Careful selection of a limited range of essential medicines results in a higher quality of care, better management of medicines and more cost-effective use of health resources.\\n\\nThe list of essential medicines guides the hospital drug policies, procurement and supply of medicines in the public sector, medicine cost reimbursement, and medicine donations. It helps in monitoring the pricing of medicines. The list serves as a reference document for correct dosage form and strength for prescribing. Preference is given to single drug formulations as opposed to fixed-dose combinations where appropriate. Hence use of NLEM is expected to improve prescribing practices as well as the health outcomes. The appropriate use of medicines selected in the NLEM promotes rational use of medicines. Such rational use of medicines, especially antimicrobial drugs, reduces the development of drug resistance. The list also serves as a reference for assessing the healthcare access of the populace. Lastly, NEML serves as a tool for public education and training of healthcare providers.\\n---\\n|S.No|NAME|AFFILIATION|Specialization/Department|Meeting held on September 16, 2009|Meeting held on December 3-4, 2010|\\n|---|---|---|---|---|---|\\n|1.|A B RAMTEKE|Joint Drug Controller (India), CDSCO, FDA Bhawan, Kotla Road, New Delhi|Regulatory Body|✓|✓|\\n|2.|A K PRADHAN|Assistant Drug Controller, CDSCO, FDA Bhawan, Kotla Road, New Delhi|Regulatory Body|✓|✓|\\n|3.|ANANT MOHAN|Associate Professor, Dept. of Medicine, AIIMS, New Delhi|Medicine|✓|✓|\\n|4.|ARTI KAPIL|Professor, Dept of Microbiology, AIIMS, New Delhi|Microbiology|✓|✓|\\n|5.|ARUN K AGARWAL|Dean and Director Professor, Department of ENT, Maulana Azad Medical College, New Delhi|ENT|--|✓|\\n|6.|ASEEM SAHU|Technical Officer, CDSCO, FDA Bhawan, Kotla Road, New Delhi|Regulatory Body|✓|✓|\\n|7.|BALRAM BHARGAVA|Professor, Dept. of Cardiology, AIIMS, New Delhi|Cardiology|✓|---|\\n---\\n|S.No|NAME|AFFILIATION|Specialization/Department|held on September 16, 2009|held on December 3-4, 2010|\\n|---|---|---|---|---|---|\\n|8.|BIKASH MEDHI|Department of Pharmacology, PGIMER, Chandigarh|Pharmacology|✓|✓|\\n|9.|BISWA MOHAN PADHY|Department of Pharmacology HIMSR, Jamia Hamdard|Pharmacology|√|✓|\\n|10.|C D TRIPATHI|Dept. of Pharmacology, Vardhman Medical College and Hospital, New Delhi|Pharmacology|✓|--|\\n|11.|D K SHARMA|AIIMS, New Delhi|Medicine|✓|✓|\\n|12.|D. KANUNGO|DGHS, MOHFW, Nirman Bhawan, New Delhi|MOHFW|--|✓|\\n|13.|DEEPIKA DEKA|Dept. of Obstetrics & Gynaecology, AIIMS, New Delhi|Gynaecology|✓|--|\\n|14.|PARTHASARATHI|JSS College of Pharmacy and JSS Medical College Mysore|Dept. of Clinical Pharmacy Pharmacy|---|✓|\\n|15.|GAURAV KUMAR|CDSCO, FDA Bhawan, Kotla Road, New Delhi|Regulatory Body|✓|✓|\\n---\\n|S.No|NAME|AFFILIATION|Specialization/Department|Meeting held on September 16, 2009|Meeting held on December 3-4, 2010|\\n|---|---|---|---|---|---|\\n|16.|GN SINGH|Indian Pharmacopeia Commission, Govt of India, Ghaziabad|Pharmacy|--|✓|\\n|17.|JAGRITI BHATIA|Dept. of Pharmacology, AIIMS, New Delhi|Pharmacology|✓|√|\\n|18.|JAI PRAKASH|Indian Pharmacopoea Commission, Govt of India, Ghaziabad|Pharmacy|✓|✓|\\n|19.|JANARDAN PANDEY|Department of AYUSH, Ministry of health and Family Welfare, Govt of India|MOHFW|---|✓|\\n|20.|JATINDER KATYAL|Dept. of Pharmacology, AIIMS, New Delhi|Pharmacology|✓|✓|\\n|21.|JITENDRA|Department of Hospital Administration, AIIMS, New Delhi|Hospital Administration|--|✓|\\n|22.|K D BARMAN|Department of Dermatology & STD, Maulana Azad Medical College, New Delhi|Dermatology and STD|--|✓|\\n|23.|K H REETA|Dept. of Pharmacology, AIIMS, New Delhi|Pharmacology|✓|✓|\\n\\nPage 18 of 123\\n---\\n|S.No|NAME|AFFILIATION|Specialization/Department|Meeting held on September 16, 2009|Meeting held on December 3-4, 2010|\\n|---|---|---|---|---|---|\\n|24.|K K PANT|Dept. of Pharmacology, CSM Medical College and Hospital, Lucknow|Pharmacology|✓|✓|\\n|25.|K K SHARMA|Dept. of Pharmacology, UCMS, New Delhi|Pharmacology|✓|---|\\n|26.|K WEERASURIYA|Regional Adviser Essential Drugs and Medicines Policy World Health Organization – SEARO|Clinical Pharmacology|✓|--|\\n|27.|KAMAL KISHORE|Dept. of Pharmacology, AIIMS, New Delhi|Pharmacology|✓|--|\\n|28.|M C GUPTA|Dept. of Pharmacology, PGIMS, Rohtak, Haryana|Pharmacology|✓|--|\\n|29.|MADHUR GUPTA|WHO country office for India|Clinical Pharmacology|--|✓|\\n|30.|MADHURI BEHARI|Dept. of Neurology, AIIMS, New Delhi|Neurology|✓|✓|\\n|31.|MANJARI TRIPATHI|Dept. of Neurology, AIIMS, New Delhi|Neurology|✓|--|\\n\\nPage 19 of 123\\n---\\n|S.No|NAME|AFFILIATION|Specialization/Department|held on September 16, 2009|held on December 3-4, 2010|\\n|---|---|---|---|---|---|\\n|32.|MK DAGA|Department of Medicine, Maulana Azad Medical College, New Delhi|Medicine|---|✓|\\n|33.|MPS CHAWLA|Department of Medicine, RML Hospital, New Delhi|Medicine|---|✓|\\n|34.|MUKUL MATHUR|Dept. of Pharmacology, SMS Medical college, Jaipur|Pharmacology|---|✓|\\n|35.|N R BISWAS|Dept. of Pharmacology, AIIMS, New Delhi|Clinical Pharmacology|✓|--|\\n|36.|NARESH KHANNA|Dept. of Pharmacology, UCMS, New Delhi|Pharmacology|✓|✓|\\n|37.|NASEEM SHAH|Chief, Professor and Head, Centre for Dental Education and Research, AIIMS, New Delhi|Dental Medicine|✓|---|\\n|38.|AJOY ROYCHAUDHURY|Associate Professor, Centre for Dental Education and Research, AIIMS, New Delhi|Dental Medicine|---|✓|\\n|39.|NEENA MALHOTRA|Department of Obstretics and Gynaecology, AIIMS, New Delhi|Obstetrics and gynecology|---|✓|\\n|40.|NEENA VALECHA|Dy. Director, National Institute of Malaria Research, Dwarka, New Delhi|Pharmacology and Malaria expertise|✓|-√--|\\n---\\n|S.No|NAME|AFFILIATION|Specialization/Department|held on September 16, 2009|held on December 3-4, 2010|\\n|---|---|---|---|---|---|\\n|41.|O P AGARWAL|Indian Council of Medical Research, New Delhi|Pharmacology|✓|---|\\n|42.|P K MEDIRATTA|Dept. of Pharmacology, UCMS, New Delhi|Pharmacology|✓|✓|\\n|43.|P USHA RANI|Nizams Institute of Medical Sciences, Hyderabad|Clinical Pharmacology|---|✓|\\n|44.|PRAMIL TIWARI|Dept. of Pharmacy Practice, NIPER, SAS Nagar, Mohali, Punjab|Pharmacy|✓|---|\\n|45.|PRAMOD GARG|Department of Gastroenterology and Human Nutrition, AIIMS, New Delhi|Physician|---|✓|\\n|46.|PRAVEEN AGGARWAL|Dept. of Emergency Medicine, AIIMS, New Delhi|Medicine|✓|✓|\\n|47.|R C DEKA|AIIMS, New Delhi.|Health Administrator and ENT|✓|√---|\\n|48.|R K BATRA|Dept. of Anaesthesia and Intensive Care, AIIMS, New Delhi|Anaesthesia|✓|✓|\\n\\nPage 21 of 123\\n---\\n|S.No|NAME|AFFILIATION|Specialization/Department|Meeting held on September 16, 2009|Meeting held on December 3-4, 2010|\\n|---|---|---|---|---|---|\\n|49.|RAJENDRA PRASAD|Dept of Pulmonary Medicine, CSM Medical College and Hospital, Lucknow|Pulmonary medicine|---|✓|\\n|50.|RAJNI KAUL|Indian Council of Medical Research, New Delhi|Basic Scientist|✓|---|\\n|51.|RAKESH CHADDHA|Department of Psychiatry, AIIMS|Psychiatry|---|✓|\\n|52.|RAKESH YADAV|Dept of Cardiology, AIIMS, New Delhi|Cardiology|✓|✓|\\n|53.|RESHU AGARWAL|Programme Officer (CST), NACO, New Delhi|Medicine|---|✓|\\n|54.|ROHIT SAXENA|Associtate Professor, Dr. R P Centre for Opthalmic Sciences, AIIMS|Ophthalmology|---|✓|\\n|55.|S K TRIPATHI|Professor and Head, Dept. of Clinical Pharmacology, School of Tropical Medicine, Kolkata, WB|Clinical Pharmacology|✓|✓|\\n|56.|SAMEER BAKSHI|Associate Professor, Medical Oncology, IRCH, AIIMS, New Delhi|Medical Oncology|✓|✓|\\n\\nPage 22 of 123\\n---\\n|S.No|NAME|AFFILIATION|Specialization/Department|Meeting held on September 16, 2009|Meeting held on December 3-4, 2010|\\n|---|---|---|---|---|---|\\n|57.|SANDEEP KAUSHAL|Department of Pharmacology, Dayanand Medical College, Ludhiana|Pharmacology|✓|---|\\n|58.|SANGEETA SHARMA|Dept of Neuropsycho Pharmacology, IHBAS, Delhi|Clinical Pharmacology|✓|✓|\\n|59.|SANJAY KR. RAI|Centre for Community Medicine AIIMS, New Delhi.|Community Medicine|---|✓|\\n|60.|SEEMA DUBEY|Institute of Liver and Biliary Sciences New Delhi|Pharmacy|---|✓|\\n|61.|SHAKTI GUPTA|R.P. Centre for Ophthalmic Sciences & Head, Dept. of Hosp. Administration, AIIMS, New Delhi|Hospital Administration|✓|✓|\\n|62.|SHARDA PESHIN|Dept. of Pharmacology, AIIMS, New Delhi|Toxicology|✓|✓|\\n|63.|SHRIDHAR DWIVEDI|Department of Medicine UCMS, New Delhi|Medicine|---|✓|\\n\\nPage 23 of 123\\n---\\n|S.No|NAME|AFFILIATION|Specialization/Department|Meeting held on September 16, 2009|Meeting held on December 3-4, 2010|\\n|---|---|---|---|---|---|\\n|64.|SHYAM SUNDER SHARMA|Department of Pharmacology, NIPER, Mohali|Pharmacology|---|✓|\\n|65.|SK MAULIK|Department of Pharmacology AIIMS, New Delhi|Pharmacology|---|✓|\\n|66.|SK PRADHAN|DGHS, MOHFW New Delhi|Community Medicine|---|✓|\\n|67.|SUNIL KULSHESTRA|CDSCO, FDA Bhawan, Kotla Road, New Delhi|Pharmacy Regulatory Body|✓|✓|\\n|68.|SUNIL NANDRAJ|National Professional Officer (Health Systems Development), WHO, New Delhi|World Health Organization|✓|---|\\n|69.|SURENDER SINGH|Dept. of Pharmacology, AIIMS, New Delhi|Pharmacy and Pharmacology|✓|✓|\\n|70.|T.S. SIDHU|Medical Superintendent, RML Hospital, New Delhi|ENT surgeon and Hospital Administration|---|✓|\\n|71.|TUSHAR AGGARWAL|Assistant Professor, Department of Ophthalmology AIIMS, New Delhi|Ophthalmology|---|✓|\\n|72.|U S GARG|Department of Hospital Administration, AIIMS, New Delhi|Hospital Administration|---|✓|\\n\\nPage 24 of 123\\n---\\n|S.No|NAME|AFFILIATION|Specialization/Department|Meeting held on September 16, 2009|Meeting held on December 3-4, 2010|\\n|---|---|---|---|---|---|\\n|73.|UMA TEKUR|Maulana Azad Medical College, New Delhi|Professor & Head, Department of Pharmacology|---|✓|\\n|74.|V K PAUL|AIIMS, New Delhi|Professor & Head, Department of Pediatrics|✓|---|\\n|75.|V. K. TYAGI|Ministry of Chemical & Fertilisers, New Delhi|Deputy Industrial Advisor, Dept. of Pharmaceuticals, Ministry of Chemicals & Fertilizers|---|✓|\\n|76.|VANDANA JAIN|AIIMS, New Delhi|Assistant Professor, Dept. of Pediatrics|✓|---|\\n|77.|VIJAY KUMAR|Indian Council of Medical Research, New Delhi|Scientist F, Health administrator|✓|---|\\n|78.|VINAY GULATI|AIIMS, New Delhi|Assistant Professor, Department of Medicine|✓|---|\\n|79.|VINOD RAINA|AIIMS, New Delhi|Professor and Head, Medical Oncology, Institute Cancer Rotary Hospital (IRCH)|✓|---|\\n| |VISHAL KUMAR MALHOTRA|Chacha Nehru Bal Chikitsalaya, New Delhi|Medical Officer, Pediatrics|---|✓|\\n---\\n|S.No|NAME|AFFILIATION|Specialization/Department|held on September 16, 2009|held on December 3-4, 2010|\\n|---|---|---|---|---|---|\\n|81.|VIVEK ARYA|Department of Medicine, PGIMER, Dr. RML Hospital, New Delhi|Medicine|---|✓|\\n|82.|Y K GUPTA|Dept of Pharmacology, AIIMS, New Delhi|Pharmacology|✓|✓|\\n|83.|YASHPAL SHARMA|Department of Cardiology, PGIMER, Chandigarh|Cardiology|---|✓|\\n|84.|Pooja Gupta|Department of Pharmacology, AIIMS, New Delhi|Clinical Pharmacology|✓|✓|\\n|85.|Ashish Kumar Kakkar|Department of Pharmacology, AIIMS, New Delhi|Clinical Pharmacology|---|✓|\\n|86.|Sudhir Chandra Sarangi|Department of Pharmacology, AIIMS, New Delhi|Clinical Pharmacology|✓|✓|\\n|87.|Saravana Perumal S|Department of Pharmacology, AIIMS, New Delhi|Pharmacy|✓|✓|\\n---\\n|S.No.|Name of the medicine|\\n|---|---|\\n|1.|25% Dextrose|\\n|2.|5-Amino salicylic Acid (5-ASA)|\\n|3.|Allopurinol|\\n|4.|Amoxicillin+Clavulinic acid|\\n|5.|Atorvastatin|\\n|6.|Betamethasone|\\n|7.|Carboplatin|\\n|8.|Cefixime|\\n|9.|Cetrizine|\\n|10.|Chlorambucil|\\n|11.|Clindamycin|\\n|12.|Clopidogrel|\\n|13.|Dacarbazine|\\n|14.|Daunorubicin|\\n|15.|Diazepam|\\n|16.|EMLA cream|\\n|17.|Enoxaparin|\\n|18.|Famotidine|\\n|19.|Fentanyl|\\n|20.|Filgrastim|\\n|21.|Hydroxychloroquine phosphate|\\n|22.|Ifosfamide|\\n|23.|Imatinib|\\n---\\n|24.|Ipratropium bromide|\\n|---|---|\\n|25.|Leflunomide|\\n|26.|Lorazepam|\\n|27.|Mefloquine|\\n|28.|Mesna|\\n|29.|Misoprostol|\\n|30.|N-acetylcysteine|\\n|31.|Olanzapine|\\n|32.|Oxaliplatin|\\n|33.|Pantoprazole|\\n|34.|Permethrin|\\n|35.|Piperazine|\\n|36.|Premix Insulin 30:70 injection|\\n|37.|Propofol|\\n|38.|Sevoflurane|\\n|39.|Stavudine+Lamivudine|\\n|40.|Tramadol|\\n|41.|Vecuronium|\\n|42.|Zidovudine+Lamivudine+Nevirapine|\\n|43.|Zinc Sulfate|\\n---\\n|S.No.|Name of the medicine|\\n|---|---|\\n|1.|Acenocoumarol|\\n|2.|Aminophylline|\\n|3.|Benzoic Acid + Salicylic Acid|\\n|4.|Benzylpenicillin|\\n|5.|Bretylium Tosylate|\\n|6.|Cefuroxime|\\n|7.|Centchroman|\\n|8.|Chloramphenicol|\\n|9.|Chlorthalidone|\\n|10.|Clarithromycin|\\n|11.|Clomipramine hydrochloride|\\n|12.|Clonidine Hydrochloride|\\n|13.|Doxapram|\\n|14.|Ethyl Chloride|\\n|15.|Flucytosine|\\n|16.|Furazolidone|\\n|17.|Gamma Benzene Hexachloride|\\n|18.|Isoprenaline Hydrochloride|\\n|19.|Isoxsuprine hydrochloride|\\n|20.|Ketoconazole|\\n|21.|Loperamide|\\n|22.|Mebendazole|\\n\\nPage 29 of 123\\n---\\n|S.No.|Name of the medicine|\\n|---|---|\\n|23.|Menadione Sodium Sulphite|\\n|24.|Mexiletine Hydrochloride|\\n|25.|Nalidixic Acid|\\n|26.|Niclosamide|\\n|27.|Nitrazepam|\\n|28.|Norfloxacin|\\n|29.|Pancuronium|\\n|30.|Pentazocine|\\n|31.|Pethidine Hydrochloride|\\n|32.|Physostigmine Salicylate|\\n|33.|Procaine Benzylpenicillin|\\n|34.|Prochlorperazine|\\n|35.|Pyrantel Pamoate|\\n|36.|Quinidine|\\n|37.|Roxithromycin|\\n|38.|Silver Nitrate|\\n|39.|Terazosin|\\n|40.|Tetracycline|\\n|41.|Tetracycline Hydrochloride|\\n|42.|Theophyline compounds|\\n|43.|Thiacetazone + Isoniazid|\\n|44.|Tinidazole|\\n|45.|Trifluoperazine|\\n---\\n|S.No.|Name of the medicine|\\n|---|---|\\n|46.|Trimethoprim|\\n|47.|Xylometazoline|\\n\\nPage 31 of 123\\n---\\n|Medicines|Category|Route of Administration/Dosage Form|Strengths|\\n|---|---|---|---|\\n|Ether|S, T|Inhalation|--|\\n|Halothane with vaporizer|S, T|Inhalation| |\\n|Isoflurane|S, T|Inhalation| |\\n|Ketamine Hydrochloride|P, S, T|Injection|10 mg / ml, 50 mg / ml|\\n|Nitrous Oxide|P, S, T|Inhalation| |\\n|Oxygen|P, S, T|Inhalation| |\\n|Thiopentone Sodium|S, T|Injection|0.5 g, 1 g powder|\\n|Sevoflurane|T|Inhalation| |\\n|Propofol|P, S, T|Injection|1% oil suspension|\\n\\n|Medicines|Category|Route of Administration/Dosage Form|Strengths|\\n|---|---|---|---|\\n|Bupivacaine Hydrochloride|S, T|Injection|0.25%, 0.5%, 0.5% to be mixed with 7.5% glucose solution|\\n---\\n# Topical Forms\\n\\n|Lignocaine Hydrochloride|P, S, T|Injection|1-2%|\\n|---|---|---|---|\\n| | |Spinal|5% + 7.5% Glucose|\\n\\n# Added Medicines\\n\\nEMLA cream\\nT\\nCream\\n\\n# 1.3 Preoperative Medication and Sedation for Short Term Procedures\\n\\n|Medicines|Category|Route of Administration/Dosage Form|Strengths|\\n|---|---|---|---|\\n|Atropine Sulphate|P, S, T|Injection|0.6 mg / ml|\\n| |P, S, T|Tablets|5 mg|\\n|Diazepam|S, T|Syrup|2mg/5ml|\\n| | |Suppository|5 mg|\\n| | | |1 mg / ml|\\n|Midazolam|P, S, T|Injection|5 mg / ml|\\n|Morphine Sulphate|S, T|Injection|10 mg / ml|\\n|Promethazine|P, S, T|Syrup|5 mg / 5 ml|\\n\\nPage 33 of 123\\n---\\n# Section: 2 - Analgesics, Antipyretics, Nonsteroidal Anti-inflammatory Medicines, Medicines used to treat Gout and Disease Modifying Agents used in Rheumatoid Disorders\\n\\n|Medicines|Category|Route of Administration/Dosage Form|Strengths|\\n|---|---|---|---|\\n|Acetyl Salicylic Acid|P, S, T|Tablets|325mg, 350 mg|\\n|Diclofenac|T|Tablets|50 mg|\\n|Diclofenac|T|Injection|25 mg/ml|\\n|Diclofenac|P, S, T|Tablets|200 mg, 400 mg|\\n|Ibuprofen|P, S, T|Syrup|100mg/5ml|\\n|Ibuprofen|P, S, T|Injection|150 mg/ml|\\n|Paracetamol|P, S, T|Syrup|125 mg/5ml|\\n|Paracetamol|P, S, T|Tablets|500 mg|\\n|Paracetamol|P, S, T|Suppository|80 mg, 170 mg|\\n\\n# 2.2 Opioid Analgesics\\n\\n|Medicines|Category|Route of Administration/Dosage Form|Strengths|\\n|---|---|---|---|\\n|Morphine Sulphate|S, T|Injection|10 mg/ml|\\n|Morphine Sulphate|S, T|Tablets|10 mg|\\n|Tramadol|S, T|Injection|50 mg/ml|\\n|Tramadol|S, T|Cap|50 mg, 100 mg|\\n|Fentanyl|S, T|Injection|50μg/ml 2ml ampoule|\\n---\\n# Medicines used to treat Gout\\n\\n|Allopurinol|S, T|Tablets|100 mg|\\n|---|---|---|---|\\n|Colchicine|S, T|Tablets|0.5 mg|\\n\\n# Disease modifying agents used in Rheumatoid disorders\\n\\n|Azathioprine|S, T|Tablets|50 mg|\\n|---|---|---|---|\\n|Methotrexate|S, T|Tablets|5mg, 7.5mg, 10mg|\\n|Sulfasalazine|S, T|Tablets|500 mg|\\n\\n# Added medicines\\n\\n|Hydroxychloroquine phosphate|S, T|Tablets|200 mg|\\n|---|---|---|---|\\n|Leflunomide|S, T|Tablets|10mg ,20 mg tab|\\n\\n# Antiallergics and Medicines used in Anaphylaxis\\n\\n|Medicines|Category|Route of Administration/Dosage Form|Strengths|\\n|---|---|---|---|\\n|Adrenaline Bitartrate|P, S, T|Injection|1 mg / ml|\\n|Chlorpheniramine Maleate|P, S, T|Tablets|4 mg|\\n|Dexchlorpheniramine Maleate|P, S, T|Syrup|0.5 mg / 5 ml|\\n|Dexamethasone|P, S, T|Tablets|0.5 mg|\\n|Dexamethasone|P, S, T|Injection|4 mg / ml|\\n|Hydrocortisone Sodium Succinate|P, S, T|Injection|100 mg|\\n|Pheniramine Maleate|P, S, T|Injection|22.75 mg / ml|\\n|Prednisolone|P, S, T|Tablets|5 mg, 10 mg, 20 mg|\\n|Promethazine|P, S, T|Tablets|10 mg, 25 mg|\\n|Promethazine|P, S, T|Syrup|5 mg / 5 ml|\\n\\n# Added Medicines\\n\\n|Cetrizine|P, S, T|Tablets|10mg|\\n|---|---|---|---|\\n|Cetrizine|P, S, T|Syrup|5 mg/ml|\\n---\\n|Medicines|Category|Route of Administration/Dosage Form|Strengths|\\n|---|---|---|---|\\n|Activated Charcoal|P,S,T|Oral| |\\n|Atropine Sulphate|P,S,T|Injection|1 mg/ml|\\n|Specific Antisnake venom|P,S,T|Injection Polyvalent Solution/ Lyophilyzed Polyvalent Serum| |\\n|Calcium gluconate|P,S,T|Injection|100mg/ml|\\n|Desferrioxamine mesylate|S, T|Injection|500mg|\\n|Methylthioninium chloride (Methylene blue)|S, T|Injection|10 mg / ml|\\n|Penicillamine|S, T|Tablets or Capsules|250 mg|\\n|Dimercaprol|S, T|Injection in oil|50 mg / ml|\\n|Flumazenil|T|Injection|0.1 mg / ml|\\n|Sodium Nitrite|S, T|Injection|30 mg / ml|\\n|Sodium Thiosulphate|S, T|Injection|250 mg/ ml|\\n|Naloxone|P,S,T|Injection|0.4mg/ml|\\n|Pralidoxime Chloride(2-PAM)|P,S,T|Injection|25 mg/ml|\\n|N-acetylcysteine|P,S,T|Injection|200 mg/ml (5 ml)|\\n---\\n|Medicines|Category|Strengths|Dosage Form|\\n|---|---|---|---|\\n|Carbamazepine|P, S, T|Tablets|100mg|\\n| | |Syrup|200mg|\\n| | | |100 mg/5ml|\\n|Diazepam|P, S, T|Injection|5 mg / ml|\\n|Magnesium sulphate|S, T|Injection|500 mg /ml|\\n|Phenobarbitone|P, S, T|Tablets|30 mg, 60 mg|\\n| | |Injection|200 mg/ml|\\n| | |Syrup|20 mg/5ml|\\n|Phenytoin Sodium|P, S, T|Capsules or Tablets|50 mg|\\n| | |Syrup|100mg|\\n| | |Injection|25mg/ml|\\n| | | |50 mg/ml|\\n|Sodium Valproate|P, S, T|Tablets|200 mg|\\n| | |Syrup|500mg|\\n| | | |200 mg/5ml|\\n| |T|Injection|100 mg/ml|\\n|Lorazepam|T|Injection|2mg/ml|\\n---\\n# Section: 6 – Anti-infective Medicines\\n\\n# 6.1 Anthelminthics\\n\\n|Medicines|Category|Route of Administration/Dosage Form|Strengths|\\n|---|---|---|---|\\n|Albendazole|P,S,T|Tablets|400 mg|\\n| | |Suspension|200 mg/5 ml|\\n|Piperazine|P,S,T|Tablets|4.5 gm|\\n| | |Solution|750 mg/5 ml|\\n\\n# 6.1.2 Antifilarials\\n\\n|Medicines|Category|Route of Administration/Dosage Form|Strengths|\\n|---|---|---|---|\\n|Diethylcarbamazine citrate|P,S,T|Tablets|50 mg|\\n\\n# 6.1.3 Antischistosomals and Antitrematode Medicines\\n\\n|Medicines|Category|Route of Administration/Dosage Form|Strengths|\\n|---|---|---|---|\\n|Praziquantel|S, T|Tablets|600 mg|\\n\\n# 6.2 Antibacterials\\n\\n# 6.2.1 Beta lactam medicines\\n\\n|Medicines|Category|Route of Administration/Dosage Form|Strengths|\\n|---|---|---|---|\\n|Amoxicillin|S,T|Powder for suspension|125 mg / 5 ml|\\n| | |Capsules|250 mg, 500 mg|\\n|Ampicillin|P,S,T|Powder for suspension|125 mg / 5 ml|\\n| | |Injection|500 mg|\\n---\\n# Antibacterials\\n\\n|Medicines|Category|Route of Administration/Dosage Form|Strengths|\\n|---|---|---|---|\\n|Amikacin|S, T|Injection|250 mg / 2 ml|\\n|Azithromycin|S, T|Suspension|100mg/5ml|\\n| | |Injection|500mg|\\n|Ciprofloxacin Hydrochloride|P,S,T|Injection|200 mg /100 ml|\\n| | |Tablets|250 mg, 500 mg|\\n|Co-Trimoxazole (Trimethoprim + Sulphamethoxazole)|P,S,T|Tablets|80 + 400 mg, 160+800 mg|\\n| | |Suspension|40 + 200 mg / 5 ml|\\n\\n# Added Medicines\\n\\n|Medicines|Category| | |\\n|---|---|---|---|\\n|Amoxicillin + Clavulinic acid|T|Tablets|625 mg|\\n| | |Powder for suspension|228.5mg/5ml|\\n| | |Injection|600mg, 1.2gm|\\n|Cefixime|T|Tablet|100, 200mg|\\n\\n# Antibacterials\\n\\n|Medicines|Category|Route of Administration/Dosage Form|Strengths|\\n|---|---|---|---|\\n|Benzathine Benzylpenicillin|P,S,T|Injection|6 lacs, 12 lacs units|\\n|Cefotaxime|S, T|Injection|125 mg, 250 mg, 500 mg|\\n|Ceftazidime|S, T|Injection|250mg, 1g|\\n|Ceftriaxone|S, T|Injection|250 mg, 1 g|\\n|Cephalexin|P,S,T|Syrup|125 mg / 5 ml|\\n| | |Capsules|250 mg, 500 mg|\\n|Cloxacillin|P,S,T|Capsules|250 mg, 500 mg|\\n| | |Injection|250 mg|\\n| | |Liquid|125mg/ 5 ml|\\n---\\n# Antimicrobial Medicines\\n\\n|Medicines|Category|Route of Administration/Dosage Form|Strengths|\\n|---|---|---|---|\\n|Doxycycline|P,S,T|Tablets|100 mg|\\n|Erythromycin Estolate|P,S,T|Tablets|250 mg, 500 mg|\\n|Gentamicin|P,S,T|Injection|10 mg/ml, 40 mg/ml|\\n|Metronidazole|P,S,T|Tablet|200 mg, 400 mg|\\n| | |Injection|500 mg/100ml|\\n| | |Syrup|100 mg/5ml|\\n|Nitrofurantoin|P,S,T|Tablets|100 mg|\\n|Sulphadiazine|S, T|Tablets|500 mg|\\n|Vancomycin Hydrochloride|T|Injection|500 mg, 1 g|\\n\\n# Antileprosy Medicines\\n\\n|Medicines|Category|Route of Administration/Dosage Form|Strengths|\\n|---|---|---|---|\\n|Clofazimine|P,S, T|Capsules|50 mg, 100 mg|\\n|Dapsone|P,S, T|Tablets|50 mg, 100 mg|\\n|Rifampicin|P,S, T|Capsules or Tablets|150 mg, 300 mg|\\n\\n# Antituberculosis Medicines\\n\\n|Medicines|Category|Route of Administration/Dosage Form|Strengths|\\n|---|---|---|---|\\n|Ethambutol|P,S,T|Tablets|200 mg, 400 mg, 600 mg, 800 mg|\\n| | |Tablets|50 mg, 100 mg, 300 mg|\\n|Isoniazid|P,S,T|Syrup|100 mg/5ml|\\n| | |Tablets|100 mg, 200 mg|\\n|Ofloxacin|S, T|Syrup|50 mg/5 ml|\\n| | |Tablets|500 mg, 750 mg, 1000 mg, 1500 mg|\\n---\\n|Medicines|Category|Route of Administration/Dosage Form|Strengths|\\n|---|---|---|---|\\n|Amphotericin B|S, T|Injection|50 mg|\\n|Amphotericin B|S, T|Pessaries|100 mg, 200 mg|\\n|Clotrimazole|P, S, T|Gel|2%|\\n|Fluconazole|S, T|Capsules or Tablets|50 mg, 100 mg, 150 mg, 200 mg|\\n|Griseofulvin|P, S, T|Capsules or Tablets|125 mg, 250 mg|\\n|Nystatin|P, S, T|Pessaries|100,000 IU|\\n\\n|Medicines|Category|Route of Administration/Dosage Form|Strengths|\\n|---|---|---|---|\\n|Acyclovir|S, T|Tablets|200 mg, 400 mg|\\n|Acyclovir|S, T|Injection|250 mg, 500 mg|\\n|Acyclovir|S, T|Suspension|400 mg / 5 ml|\\n\\n|Medicines|Category|Route of Administration/Dosage Form|Strengths|\\n|---|---|---|---|\\n|Didanosine|S, T|Tablets|250 mg, 400 mg|\\n---\\n|Medicines|Category|Route of Administration/Dosage Form|Strengths|\\n|---|---|---|---|\\n|Lamivudine|S, T|Tablets|150 mg|\\n|Lamivudine + Nevirapine + Stavudine|S, T|Tablets|150 mg + 200 mg + 30 mg|\\n|Lamivudine + Zidovudine|S, T|Tablets|150 mg + 300 mg|\\n|Stavudine|S, T|Capsules|15 mg, 30 mg, 40 mg|\\n|Zidovudine|S, T|Tablets|100 mg, 300 mg|\\n|Stavudine+ Lamivudine|S, T|Tablets|30 mg + 150 mg|\\n|Zidovudine+ Lamivudine+ Nevirapine|S, T|Tablets|300 mg + 150 mg + 200 mg|\\n|Efavirenz|S, T|Capsules|200 mg, 600 mg|\\n|Nevirapine|S, T|Suspension|50 mg / 5 ml, 200 mg|\\n|Indinavir|S, T|Capsules|200 mg, 400 mg|\\n|Nelfinavir|S, T|Capsules|250 mg|\\n|Ritonavir|S, T|Syrup|100 mg, 400 mg / 5 ml|\\n|Saquinavir|S, T|Capsules|200 mg|\\n---\\n# 6.5 Antiprotozoal Medicines\\n\\n# 6.5.1 Antiamoebic and Antigiardiasis medicines\\n\\n|Medicines|Category|Route of Administration/Dosage Form|Strengths|\\n|---|---|---|---|\\n|Diloxanide Furoate|P,S,T|Tablets|500 mg|\\n|Metronidazole|P,S,T|Tablets|200 mg, 400 mg|\\n| | |Injection|500 mg / 100 ml|\\n\\n# 6.5.2 Antileishmaniasis medicines\\n\\n|Medicines|Category|Route of Administration/Dosage Form|Strengths|\\n|---|---|---|---|\\n|Amphotericin B|S, T|Injection|50 mg|\\n|Pentamidine Isothionate|S, T|Injection|200 mg|\\n|Sodium Stibogluconate|S, T|Injection|100 mg / ml|\\n\\n# 6.5.3 Antimalarial Medicines\\n\\n# 6.5.3.1 For curative treatment\\n\\n|Medicines|Category|Route of Administration/Dosage Form|Strengths|\\n|---|---|---|---|\\n|Artesunate (To be used only in combination with Sulfadoxine + Pyrimethamine)|P,S,T|Tablets|50 mg|\\n|Chloroquine phosphate|P,S,T|Tablets|150 mg base|\\n| | |Injection|40 mg / ml|\\n| | |Syrup|50 mg / 5 ml|\\n|Primaquine|P,S,T|Tablets|2.5 mg, 7.5 mg|\\n|Pyrimethamine|P,S,T|Tablets|25 mg|\\n|Quinine sulphate|ST|Injection|300 mg / ml|\\n|Sulfadoxine + Pyrimethamine|P,S,T|Tablets|500 mg + 25 mg|\\n---\\n|Medicines|Category|Route of Administration/Dosage Form|Strengths|\\n|---|---|---|---|\\n|Clindamycin|S, T|Tablet|150, 300mg|\\n|Mefloquine|S, T|Tablet|250 mg base|\\n|Co-Trimoxazole (Trimethoprim + Sulphamethoxazole)|P, S, T|Tablets|80 + 400 mg, 160+800 mg|\\n| | |Suspension|40 + 200 mg / 5 ml|\\n|Pentamidine Isothionate|S, T|Injection|200 mg|\\n---\\n|Medicines|Category|Route of Administration/Dosage Form|Strengths|\\n|---|---|---|---|\\n|Acetyl Salicylic Acid|P, S, T|Tablets|300 - 350 mg|\\n|Dihydroergotamine|S, T|Tablets|1 mg|\\n|Paracetamol|P, S, T|Tablets|500 mg|\\n\\n|Medicines|Category|Route of Administration/Dosage Form|Strengths|\\n|---|---|---|---|\\n|Propranolol hydrochloride|P, S, T|Tablets|10 mg, 40 mg|\\n---\\n|Medicines|Category|Route of Administration/Dosage Form|Strengths|\\n|---|---|---|---|\\n|Azathioprine|T|Tablets|50 mg|\\n|Cyclosporine|T|Capsules|10 mg, 25 mg, 50 mg, 100 mg|\\n|Cyclosporine|T|Concentrate for Injection|100 mg/ml|\\n\\n|Medicines|Category|Route of Administration/Dosage Form|Strengths|\\n|---|---|---|---|\\n|Actinomycin D|T|Injection|0.5 mg|\\n|Alpha Interferon|T|Injection|3 million IU|\\n|Bleomycin|T|Injection|15 mg|\\n|Busulphan|T|Tablets|2 mg|\\n|Cisplatin|T|Injection|50 mg/vial|\\n|Cisplatin|T|Tablets|50 mg, 200 mg|\\n|Cyclophosphamide|T|Injection|500 mg|\\n|Cytosine arabinoside|T|Injection|500 mg/vial, 1000 mg/vial|\\n|Danazol|T|Capsules|50 mg, 100 mg|\\n|Doxorubicin|T|Injection|10 mg, 50 mg|\\n|Etoposide|T|Injection|100 mg/5 ml vial|\\n---\\n|Medicine|Type|Form|Strength|\\n|---|---|---|---|\\n|Flutamide|T|Tablet|250 mg|\\n|5-Fluorouracil|T|Injection|250 mg / 5 ml|\\n|Folinic Acid|T|Injection|3 mg / ml|\\n|Gemcitabine hydrochloride|T|Injection|200 mg|\\n|L-Asparaginase|T|Injection|5000 KU|\\n|Melphalan|T|Tablet|2 mg, 5 mg|\\n| | |Tablet|50 mg|\\n|Mercaptopurine|T|Injection|100 mg / ml|\\n| | |Tablet|2.5 mg|\\n|Methotrexate|T|Injection|50 mg / ml|\\n|Mitomycin-C|T|Injection|10 mg|\\n|Paclitaxel|T|Injection|30 mg / 5 ml|\\n|Procarbazine|T|Capsules|50 mg|\\n|Vinblastine sulphate|T|Injection|10 mg|\\n|Vincristine|T|Injection|1 mg / ml|\\n|Carboplatin|T|Injection|150 mg, 450 mg vial|\\n|Dacarbazine|T|Injection|500 mg|\\n|Daunorubicin|T|Injection|20 mg vial|\\n|Ifosfamide|T|Injection|1 gm/2ml vial|\\n|Mesna|T|Injection|200 mg|\\n|Oxaliplatin|T|Injection|50 mg vial|\\n|Imatinib|T|Tablets|100 mg, 400 mg|\\n|Chlorambucil|T|Tablets|2 mg|\\n---\\n# 8.3: Hormones and antihormones\\n\\n|Medicines|Category|Route of Administration/Dosage Form|Strengths|\\n|---|---|---|---|\\n|Prednisolone|S, T|Injection|20 mg, 25 mg (as sodium phosphate or succinate)|\\n|Raloxifene|T|Tablets|60 mg|\\n|Tamoxifen Citrate|T|Tablets|10 mg, 20 mg|\\n\\n# 8.4: Medicines used in palliative care\\n\\n|Medicines|Category|Route of Administration/Dosage Form|Strengths|\\n|---|---|---|---|\\n|Morphine Sulphate|T|Tablets|10 mg|\\n|Morphine Sulphate| |Tablets|4 mg, 8 mg|\\n|Ondansetron|S, T|Injection|2 mg/ml|\\n|Ondansetron| |Syrup|2 mg/5 ml|\\n\\n# Added Medicines\\n\\n|Medicines|Category|Route of Administration/Dosage Form|Strengths|\\n|---|---|---|---|\\n|Filgrastim|T|Injection|1 ml vial|\\n|Allopurinol|T|Tablets|100 mg|\\n---\\n|Medicines|Category|Route of Administration/Dosage Form|Strengths|\\n|---|---|---|---|\\n|Bromocriptine Mesylate|S, T|Tablets|1.25 mg, 2.5 mg|\\n|Levodopa+ Carbidopa|P, S, T|Tablets|100 mg+10 mg, 250 mg+25 mg, 100 mg+25 mg|\\n|Trihexyphenidyl Hydrochloride|P, S, T|Tablets|2 mg|\\n\\nPage 49 of 123\\n---\\n|Medicines|Category|Route of Administration/Dosage Form|Strengths|\\n|---|---|---|---|\\n|Cyanocobalamin|P, S, T|Injection|1 mg/ml|\\n|Ferrous Sulphate/Fumarate|P, S, T|Tablets|Tablets equivalent to 60 mg elemental iron|\\n| | |Oral solution|25mg elemental iron (as sulphate)/ml|\\n|Folic Acid|P, S, T|Tablets|1 mg, 5mg|\\n|Iron Dextran|S, T|Injection|50 mg iron/ml|\\n|Pyridoxine|P, S, T|Tablets|10 mg|\\n\\n|Medicines|Category|Route of Administration/Dosage Form|Strengths|\\n|---|---|---|---|\\n|Heparin Sodium|S, T|Injection|5000 IU/ml|\\n|Protamine Sulphate|S, T|Injection|10 mg/ml|\\n|Phytomenadione|P, S, T|Injection|10 mg/ml|\\n|Warfarin sodium|S, T|Tablets|5 mg|\\n|Enoxaparin|T|Injection|40mg, 60mg|\\n---\\n|Medicines|Category|Route of Administration/Dosage Form|Strengths|\\n|---|---|---|---|\\n|Dextran-40|P, S, T|Injection|10%|\\n|Dextran-70|P, S, T|Injection|6%|\\n|Fresh frozen plasma|T|Injection| |\\n|Hydroxyethyl Starch (Hetastarch)|S, T|Injection|6%|\\n|Polygeline|S, T|Injection|3.5%|\\n\\n|Medicines|Category|Route of Administration/Dosage Form|Strengths|\\n|---|---|---|---|\\n|Albumin|S, T|Injection|5%, 20 %|\\n|Cryoprecipitate|S, T|Injection| |\\n|Factor VIII Concentrate|S, T|Injection|Dried|\\n|Factor IX Complex (Coagulation Factors II, VII, IX, X)|S, T|Injection|Dried|\\n|Platelet Rich Plasma|S, T|Injection| |\\n---\\n|Medicines|Category|Route of Administration/Dosage Form|Strengths|\\n|---|---|---|---|\\n|Acetyl salicylic acid|P, S, T|Tablets soluble/dispersible|75mg, 100mg, 350 mg|\\n|Diltiazem|S, T|Tablets|30 mg, 60 mg|\\n|Glyceryl Trinitrate|P, S, T|Sublingual Tablets, Injection|0.5 mg, 5mg/ml|\\n|Isosorbide 5 Mononitrate/ Dinitrate|P, S, T|Tablets|10 mg, 20 mg|\\n|Metoprolol|P, S, T|Tablets, Injection|25 mg, 50 mg, 1mg/ml|\\n|Clopidogrel|T|Tablets|75 mg|\\n|Adenosine|S, T|Injection|3 mg/ml|\\n|Amiodarone|S, T|Tablets, Injection|100 mg, 200 mg, 50 mg/ml (3 ml ampoule)|\\n|Diltiazem|S, T|Tablets, Injection|30 mg, 60 mg, 5 mg/ml|\\n---\\n|Medicines|Category|Route of Administration/Dosage Form|Strengths|\\n|---|---|---|---|\\n|Amlodipine|P,S,T|Tablets|2.5 mg, 5 mg|\\n|Atenolol|P,S,T|Tablets|50 mg, 100 mg|\\n|Enalapril|P,S,T|Tablets|2.5 mg, 5 mg|\\n|Enalapril Maleate|T|Injection|1.25 mg/ml|\\n|Losartan Potassium|S, T|Tablets|25 mg, 50 mg|\\n|Methyldopa|P,S, T|Tablets|250 mg|\\n|Nifedipine|S, T|Tablets|5 mg, 10 mg, 10 mg, 20 mg, 10 mg, 20 mg|\\n|Sodium Nitroprusside|T|Injection|50 mg/5 ml|\\n\\n|Added Medicines| |\\n|---|---|\\n|Hydrochlorthiazide|P,S,T|Tablets|12.5 mg, 25 mg|\\n---\\n# 12.4: Medicines used in heart failure\\n\\n|Medicines|Category|Route of Administration/Dosage Form|Strengths|\\n|---|---|---|---|\\n|Digoxin|S, T|Tablets|0.25 mg|\\n|Digoxin|S, T|Injection|0.25 mg/ml|\\n|Digoxin|S, T|Elixir|0.05 mg/ml|\\n|Dobutamine|S, T|Injection|50 mg/ml|\\n|Dopamine Hydrochloride|S, T|Injection|40 mg/ml|\\n\\n# 12.5: Antithrombotic medicines\\n\\n|Medicines|Category|Route of Administration/Dosage Form|Strengths|\\n|---|---|---|---|\\n|Acetyl salicylic acid|P, S, T|Tablets|75mg, 100mg, 350 mg soluble/dispersible|\\n|Heparin Sodium|S, T|Injection|1000 IU/ml, 5000 IU/ml|\\n|Streptokinase|S, T|Injection|750,000 IU, 15,00,000 IU|\\n|Urokinase|T|Injection|500,000 IU/ml, 10,00,000 IU/ml|\\n\\n# New Category - ADDED\\n\\n# 12.6 Hypolipidemic Medicines\\n\\n|Medicines|Category|Route of Administration/Dosage Form|Strengths|\\n|---|---|---|---|\\n|Atorvastatin|P, S, T|Tablets|5 mg, 10 mg|\\n\\nPage 54 of 123\\n---\\n|Medicines|Category|Route of Administration/Dosage Form|Strengths|\\n|---|---|---|---|\\n|Miconazole|P,S,T|Ointment or Cream|2%|\\n|Acyclovir|S, T|Cream|5%|\\n|Framycetin Sulphate|P,S,T|Cream|0.5%|\\n|Methylrosanilinium Chloride (Gentian Violet)|P,S,T|Aqueous solution|0.5%|\\n|Neomycin + Bacitracin|P,S,T|Ointment|5 mg + 500 IU / g|\\n|Povidone Iodine|P,S,T|Solution or Ointment|5%|\\n|Silver Sulphadiazine|P,S,T|Cream|1%|\\n|Betamethasone Dipropionate|P,S,T|Cream / Ointment|0.05%|\\n|Calamine|P,S,T|Lotion| |\\n|Zinc Oxide|P,S,T|Dusting Powder| |\\n---\\n|Medicines|Category|Route of Administration/Dosage Form|Strengths|\\n|---|---|---|---|\\n|Coal Tar|P,S,T|Solution|5%|\\n|Dithranol|T|Ointment|0.1-2%|\\n|Glycerin|P,S,T|Solution| |\\n|Salicylic Acid|P,S,T|Solution|5%|\\n\\n|Medicines|Category|Route of Administration/Dosage Form|Strengths|\\n|---|---|---|---|\\n|Benzyl benzoate|P,S,T|Lotion|25%|\\n|Permethrin|S,T|Lotion|1%, 5%|\\n---\\n|Medicines|Category|Route of Administration/Dosage Form|Strengths|\\n|---|---|---|---|\\n|Fluorescein|S, T|Eye drops|1%|\\n|Lignocaine|S, T|Eye Drops|4%|\\n|Tropicamide|S, T|Eye drops|1%|\\n\\n|Medicines|Category|Route of Administration/Dosage Form|Strengths|\\n|---|---|---|---|\\n|Barium Sulphate|S, T|Suspension|100% w/v, 250% w/v|\\n|Calcium Ipodate|S, T|Injection|3 g|\\n|Iopanoic Acid|S, T|Tablets|500 mg|\\n|Meglumine Iothalamate|S, T|Injection|60% w/v (iodine = 280 mg/ml)|\\n|Meglumine Iotroxate|S, T|Solution|5-8 g iodine in 100-250 ml|\\n|Propyliodone|S, T|Oily, suspension|500-600 mg/ml|\\n|Sodium Iothalamate|S, T|Injection|70% w/v (Iodine = 420 mg/ml)|\\n|Sodium Meglumine Diatrizoate|S, T|Injection|60% w/v (Iodine conc. = 292 mg/ml), 76% w/v (Iodine conc. = 370 mg/ml)|\\n---\\n|Medicines|Category|Route of Administration/Dosage Form|Strengths|\\n|---|---|---|---|\\n|Acriflavin+Glycerin|P, S, T|Solution| |\\n|Benzoin Compound|P, S, T|Tincture| |\\n|Cetrimide|P, S, T|Solution|20% (conc. for dilution)|\\n|Chlorhexidine|P, S, T|Solution|5% (conc. for dilution)|\\n|Ethyl Alcohol 70%|P, S, T|Solution| |\\n|Gentian Violet|P, S, T|Paint|0.5%, 1%|\\n|Hydrogen Peroxide|P, S, T|Solution|6%|\\n|Povidone Iodine|P, S, T|Solution|5%, 10%|\\n\\n|Medicines|Category|Route of Administration/Dosage Form|Strengths|\\n|---|---|---|---|\\n|Bleaching Powder|P, S, T|Powder|Contains not less than 30% w/w of available chlorine (as per I.P)|\\n|Formaldehyde Solution|P, S, T|Solution|Dilute 34 ml of formaldehyde solution with water to produce 100 ml (As per I.P)|\\n|Glutaraldehyde|S, T|Solution|2%|\\n|Potassium Permanganate|P, S, T|Crystals for solution| |\\n---\\n|Medicines|Category|Route of Administration/Dosage Form|Strengths|\\n|---|---|---|---|\\n|Furosemide|P,S,T|Tablets|40mg|\\n|Hydrochlorothiazide|P,S,T|Tablets|25 mg, 50 mg|\\n|Mannitol|P,S,T|Injection|10%, 20%|\\n|Spironolactone|P,S,T|Tablets|25 mg|\\n---\\n# Section: 17 – Gastrointestinal medicines\\n\\n# 17.1: Antacids and other Antiulcer medicines\\n\\n|Medicines|Category|Route of Administration/Dosage Form|Strengths|\\n|---|---|---|---|\\n|Aluminium Hydroxide + Magnesium Hydroxide|P,S,T|Tablet, Suspension| |\\n|Omeprazole|P,S,T|Capsules|10 mg, 20 mg, 40 mg|\\n|Ranitidine|P,S,T|Injection|25 mg / ml|\\n\\n# Added Medicines\\n\\n|Pantoprazole|T|Injection|40 mg|\\n|---|---|---|---|\\n|Famotidine|P,S,T|Tablets|20 mg|\\n|# 17.2: Antiemetics<br/><br/>Medicines|Category|Route of Administration/Dosage Form|Strengths|\\n|Domperidone|P,S,T|Tablets, Syrup|10 mg, 1 mg / ml|\\n|Metoclopramide|P,S,T|Tablets, Syrup, Injection|10 mg, 5 mg / 5 ml, 5 mg / ml|\\n|Promethazine|P,S,T|Tablets, Elixir or Syrup, Injection|10 mg, 25 mg, 5 mg / 5 ml, 25 mg / ml|\\n\\n# Added Medicines\\n\\nOndansetron\\nS,T\\nTablet, Syrup, Injection\\n4 mg, 8 mg, 2 mg/ml, 2 mg/ml\\n\\nPage 60 of 123\\n---\\n|Medicines|Category|Route of Administration/Dosage Form|Strengths|\\n|---|---|---|---|\\n|5-Amino salicylic Acid (5-ASA)|S,T|Tablets|400mg|\\n\\n|Medicines|Category|Route of Administration/Dosage Form|Strengths|\\n|---|---|---|---|\\n|Dicyclomine Hydrochloride|P,S,T|Tablets, Injection|10 mg, 10 mg / ml|\\n|Hyoscine Butyl Bromide|P,S,T|Tablets, Injection|10 mg, 20 mg / ml|\\n\\n|Medicines|Category|Route of Administration/Dosage Form|Strengths|\\n|---|---|---|---|\\n|Bisacodyl|P,S,T|Tablets, Suppository|5 mg|\\n|Ispaghula|P,S,T|Granules| |\\n\\n|Medicines|Category|Route of Administration/Dosage Form|Strengths|\\n|---|---|---|---|\\n|Oral Rehydration Salts|P,S,T|Powder for solution|Glucose: 13.5 g/L, Sodium chloride: 2.6 g/L, Potassium chloride: 1.5 g/L, Trisodium citrate dihydrate+: 2.9 g/L, Powder for dilution in 200ml; 500 ml; 1000ml. (As per I.P)|\\n---\\n|Medicines|Category|Route of Administration/Dosage Form|Strengths|\\n|---|---|---|---|\\n|Zinc Sulfate|P,S,T|Syrup|20 mg/5ml|\\n\\nPage 62 of 123\\n---\\nSection: 18 – Hormones, oper endocrine medicines and contraceptives\\n\\n18.1: Adrenal hormones and synpetic substitutes\\n\\n|Medicines|Category|Route of Administration/Dosage Form|Strengths|\\n|---|---|---|---|\\n|Dexamethasone|S, T|Tablets|0.5mg|\\n|Dexamethasone|S, T|Injection|4mg/ml|\\n|Hydrocortisone Sodium Succinate|P, S, T|Injection|100 mg/ml|\\n|Methyl Prednisolone|S, T|Injection|40 mg/ml|\\n|Prednisolone|P, S, T|Tablets|5mg, 10mg, 20mg|\\n\\n18.2: Androgens\\n\\n|Medicines|Category|Route of Administration/Dosage Form|Strengths|\\n|---|---|---|---|\\n|Testosterone|T|Capsules|40mg (as undecanoate)|\\n|Testosterone|T|Injection|25mg/ml (as propionate)|\\n\\n18.3: Contraceptives\\n\\n18.3.1: Hormonal Contraceptives\\n\\n|Medicines|Category|Route of Administration/Dosage Form|Strengths|\\n|---|---|---|---|\\n|Ethinylestradiol + Levonorgestrel|P, S, T|Tablets|0.03 mg + 0.15 mg|\\n|Ethinylestradiol + Norethisterone|P, S, T|Tablets|0.035 mg + 1.0 mg|\\n|Hormone Releasing IUD|T|Levonorgestrel Releasing IUD| |\\n---\\n|Medicines|Category|Route of Administration/Dosage Form|Strengths|\\n|---|---|---|---|\\n|IUD containing Copper|P,S,T| | |\\n\\n|Medicines|Category|Route of Administration/Dosage Form|Strengths|\\n|---|---|---|---|\\n|Condoms|P,S,T| | |\\n\\n|Medicines|Category|Route of Administration/Dosage Form|Strengths|\\n|---|---|---|---|\\n|Ethinylestradiol|P,S,T|Tablets|0.01mg, 0.05mg|\\n\\n**18.5: Medicines used in Diabetes mellitus**\\n|Medicines|Category|Route of Administration/Dosage Form|Strengths|\\n|---|---|---|---|\\n|Glibenclamide|P,S,T|Tablets|2.5 mg, 5mg|\\n|Insulin Injection (Soluble)|P,S,T|Injection|40 IU/ml|\\n|Intermediate Acting(Lente/NPH Insulin)|P,S,T|Injection|40 IU/ml|\\n|Metformin|P,S,T|Tablets|500mg|\\n\\n|Medicines|Category|Route of Administration/Dosage Form|Strengths|\\n|---|---|---|---|\\n|Premix Insulin 30:70 injection|P,S,T|Injection|40IU/ml|\\n---\\n|Medicines|Category|Route of Administration/Dosage Form|Strengths|\\n|---|---|---|---|\\n|Glucagon|T|Injection|1mg/ml|\\n|25% Dextrose|P,S,T|Injection|100 ml|\\n\\n|Medicines|Category|Route of Administration/Dosage Form|Strengths|\\n|---|---|---|---|\\n|Clomiphene citrate|T|Tablets|50mg, 100mg|\\n\\n|Medicines|Category|Route of Administration/Dosage Form|Strengths|\\n|---|---|---|---|\\n|Medroxy Progesterone Acetate|P,S,T|Tablets|5mg, 10mg|\\n|Norethisterone|P,S,T|Tablets|5mg|\\n\\n|Medicines|Category|Route of Administration/Dosage Form|Strengths|\\n|---|---|---|---|\\n|Carbimazole|P,S,T|Tablets|5mg, 10mg|\\n|Levothyroxine|P,S,T|Tablets|50μg, 100μg|\\n|Iodine|S,T|Solution|8 mg / 5 ml|\\n---\\n|Drugs|Category|Route of Administration/Dosage Form|Strengths|\\n|---|---|---|---|\\n|Tuberculin, Purified Protein derivative|P,S,T|Injection|1 TU, 5 TU|\\n\\n|Drugs|Category|Route of Administration/Dosage Form|Strengths|\\n|---|---|---|---|\\n|Anti-D immunoglobin (human)|S, T|Injection|300 μg|\\n|Polyvalent Antisnake Venom|P,S,T|Injection|10 ml|\\n|Antitetanus Human immunoglobin|P,S,T|Injection|250 IU, 500 IU|\\n|Diphtheria Antitoxin|S, T|Injection|10,000 IU|\\n|Rabies immunoglobin|P,S,T|Injection|150 IU / ml|\\n\\n|Drugs|Category|Route of Administration/Dosage Form|Strengths|\\n|---|---|---|---|\\n|B.C.G Vaccine|P,S,T|Injection| |\\n|D.P.T Vaccine|P,S,T|Injection| |\\n|Hepatitis B Vaccine|P,S,T|Injection| |\\n---\\n|Drugs|Category|Route of Administration/Dosage Form|Strengths|\\n|---|---|---|---|\\n|Measles Vaccine|P,S,T|Injection| |\\n|Oral Poliomyelitis vaccine (LA)|P,S,T|Solution| |\\n|Rabies Vaccine|P,S,T|Injection| |\\n|Tetanus Toxoid|P,S,T|Injection| |\\n---\\n|Drugs|Category|Route of Administration/Dosage Form|Strengths|\\n|---|---|---|---|\\n|Atracurium besylate|S, T|Injection|10 mg / ml|\\n|Neostigmine|S, T|Tablets, Injection|15 mg, 0.5mg/ml|\\n|Pyridostigmine|S, T|Tablets, Injection|60 mg, 1mg/ml|\\n|Succinyl choline chloride|S, T|Injection|50 mg/ml|\\n|Vecuronium|P, S, T|Injection|2 mg/ml|\\n---\\n# Section: 21 – Ophthalmological Preparations\\n\\n|Medicines|Category|Route of Administration/Dosage Form|Strengths|\\n|---|---|---|---|\\n|Chloramphenicol|P,S,T|Drops/Ointment|0.4%, 1%|\\n|Ciprofloxacin Hydrochloride|P,S,T|Drops/Ointment|0.3%|\\n|Gentamicin|P,S,T|Drops|0.3%|\\n|Miconazole|P,S,T|Drops|1%|\\n|Povidone Iodine|S,T|Drops|0.6%|\\n|Sulphacetamide Sodium|P,S,T|Drops|10%, 20%|\\n\\n# 21.2: Antiinflammaory agents\\n\\n|Medicines|Category|Route of Administration/Dosage Form|Strengths|\\n|---|---|---|---|\\n|Prednisolone Acetate|P,S,T|Drops|0.1%|\\n|Prednisolone Sodium Phosphate|P,S,T|Drops|1%|\\n\\n# 21.3: Local Anaesthetics\\n\\n|Medicines|Category|Route of Administration/Dosage Form|Strengths|\\n|---|---|---|---|\\n|Tetracaine Hydrochloride|P,S,T|Drops|0.5%|\\n\\n# 21.4: Miotics and Antiglucoma medicines\\n\\n|Medicines|Category|Route of Administration/Dosage Form|Strengths|\\n|---|---|---|---|\\n| | | | |\\n---\\n|Medicines|Category|Route of Administration/Dosage Form|Strengths|\\n|---|---|---|---|\\n|Acetazolamide|S, T|Tablets|250 mg|\\n|Betaxolol Hydrochloride|T|Drops|0.25%|\\n|Pilocarpine|S, T|Drops|2%|\\n|Timolol Maleate|P, S, T|Drops|0.5%|\\n\\n|Medicines|Category|Route of Administration/Dosage Form|Strengths|\\n|---|---|---|---|\\n|Atropine Sulphate|P, S, T|Drops/Ointment|1%|\\n|Homatropine|P, S, T|Drops|2%|\\n|Phenylephrine|P, S, T|Drops|5%|\\n\\n|Medicines|Category|Route of Administration/Dosage Form|Strengths|\\n|---|---|---|---|\\n|Methyl Cellulose|T|Injection|2%|\\n\\n|Medicines|Category|Route of Administration/Dosage Form|Strengths|\\n|---|---|---|---|\\n|Methyl Ergometrine|P, S, T|Injection|0.2mg/ml|\\n|Mifepristone|T|Tablets|200mg|\\n|Oxytocin|S, T|Injection|5 IU/ml, 10 IU/ml|\\n---\\n| | |Added medicines| |\\n|---|---|---|---|\\n|Misoprostol|T|Tablets|100μg|\\n| | |Antioxytocics| |\\n|Medicines|Category|Route of Administration/ Dosage Form|Strengths|\\n|Terbutaline Sulphate|S,T|Tablets|2.5 mg|\\n| | |Injection|0.5 mg/ml|\\n| | |Added Medicines| |\\n|Nifedipine|S,T|Tablets|10 mg|\\n|Betamethasone|P,S,T|Injection|4 mg/ml|\\n\\nPage 71 of 123\\n---\\n# Section: 23 – Peritoneal Dialysis Solution\\n\\n|Medicines|Category|Route of Administration/Dosage Form|Strengths|\\n|---|---|---|---|\\n|Intraperitoneal Dialysis Solution|T| |4L of approximate composition|\\n\\n# Section: 24 – Psychotherapeutic Medicines\\n\\n# 24.1: Medicines used in Psychotic Disorders\\n\\n|Medicines|Category|Route of Administration/Dosage Form|Strengths|\\n|---|---|---|---|\\n|Chlorpromazine hydrochloride|P,S,T|Tablets|25 mg, 50 mg, 100 mg|\\n|Chlorpromazine hydrochloride|P,S,T|Syrup|25 mg/5ml|\\n|Chlorpromazine hydrochloride|P,S,T|Injection|25 mg/ml|\\n|Haloperidol|S, T|Injection|5 mg/ml|\\n|Olanzapine|T|Tablets|5 mg, 10 mg|\\n\\n# 24.2: Medicines used in mood disorders\\n\\n# 24.2.1: Medicines used in Depressive disorders\\n\\n|Medicines|Category|Route of Administration/Dosage Form|Strengths|\\n|---|---|---|---|\\n|Amitriptyline|P,S,T|Tablets|25 mg|\\n|Fluoxetine hydrochloride|P,S,T|Capsules|20 mg|\\n|Imipramine|P,S,T|Tablets|25 mg, 75 mg|\\n\\n# 24.2.2: Medicines used in Bipolar disorders\\n\\n|Medicines|Category|Route of Administration/Dosage Form|Strengths|\\n|---|---|---|---|\\n|Lithium Carbonate|T|Tablets|300 mg|\\n\\nPage 72 of 123\\n---\\n# Added Medicines\\n\\n|Sodium Valproate|Category|Route of Administration/Dosage Form|Strengths|\\n|---|---|---|---|\\n|Tablets|P,S,T| |200 mg, 500mg|\\n\\n# Medicines used for Generalized Anxiety and Sleep Disorders\\n\\n|Medicines|Category|Route of Administration/Dosage Form|Strengths|\\n|---|---|---|---|\\n|Alprazolam|P,S,T|Tablets|0.25 mg, 0.5 mg|\\n|Diazepam|P,S,T|Tablets|2 mg, 5mg|\\n\\n# Medicines used for obsessive compulsive disorders and panic attacks\\n\\n|Medicines|Category|Route of Administration/Dosage Form|Strengths|\\n|---|---|---|---|\\n|Fluoxetine hydrochloride|P,S,T|Capsules|20 mg|\\n---\\n|Medicines|Category|Route of Administration/Dosage Form|Strengths|\\n|---|---|---|---|\\n|Beclomethasone Dipropionate|P,S,T|Inhalation|50 μg, 250μg/dose|\\n|Hydrocortisone sodium succinate|P,S,T|Injection|100 mg, 200mg, 400 mg|\\n|Salbutamol sulphate|P,S,T|Syrup|2mg/5ml|\\n| | |Inhalation|100μg/dose|\\n|Ipratropium bromide|P,S,T|Inhalation|20μg/metered dose|\\n\\n|Medicines|Category|Route of Administration/Dosage Form|Strengths|\\n|---|---|---|---|\\n|Codeine phosphate|S,T|Tablets|10mg|\\n| | |Syrup|15mg/5ml|\\n|Dextromethorphan|P,S,T|Tablets|30mg|\\n---\\nSection: 26 – Solutions correcting water, electrolyte and acid-base disturbances\\n\\n26.1: Oral\\n\\n|Medicines|Category|Route of Administration/Dosage Form|Strengths|\\n|---|---|---|---|\\n|Oral Rehydration Salts|P, S, T|Powder for Solution|As per IP|\\n\\n26.2: Parenteral\\n\\n|Medicines|Category|Route of Administration/Dosage Form|Strengths|\\n|---|---|---|---|\\n|Glucose|P, S, T|Injection|5% isotonic, 10%, 15%|\\n|Glucose with sodium chloride|P, S, T|Injection|5% + 0.9%|\\n|Normal Saline|P, S, T|Injection|0.9%|\\n|N/2 Saline|S, T|Injection| |\\n|N/5 Saline|S, T|Injection| |\\n|Potassium Chloride|P, S, T|Injection|11.2% Sol.|\\n|Ringer Lactate|P, S, T|Injection|As per IP|\\n|Sodium Bicarbonate|P, S, T|Injection|As per IP|\\n\\n26.3: Miscellaneous\\n\\n|Medicines|Category|Route of Administration/Dosage Form|Strengths|\\n|---|---|---|---|\\n|Water for Injection|P, S, T|Injection|2 ml, 5 ml, 10 ml|\\n\\nPage 75 of 123\\n---\\n|Medicines|Category|Route of Administration/Dosage Form|Strengths|\\n|---|---|---|---|\\n|Ascorbic Acid|P,S,T|Tablets|100 mg, 500 mg|\\n|Calcium carbonate|P,S,T|Tablets|250 mg, 500 mg|\\n|Multivitamins (As per Schedule V of Drugs and Cosmetics Rules)|P,S,T|Tablets| |\\n|Nicotinamide|P,S,T|Tablets|50 mg|\\n|Pyridoxine|P,S,T|Tablets|25 mg|\\n|Riboflavin|P,S,T|Tablets|5 mg|\\n|Thiamine|P,S,T|Tablets|100 mg|\\n|Vitamin A|P,S,T|Capsules, Injection|5000 IU, 50000 IU, 100000 IU, 50000 IU/ml|\\n|Vitamin D (Ergocalciferol)|P,S,T|Capsules|0.25 mg, 1 mg|\\n|Calcium gluconate|P,S,T|Injection|100mg/ml in 10 ml ampoule|\\n---\\n# Alphabetical List of Medicines – Therapeutic area wise\\n\\n|S.No|Section 1: – Anesthesia|\\n|---|---|\\n|1.|Atropine Sulphate|\\n|2.|Bupivacaine Hydrochloride|\\n|3.|Diazepam|\\n|4.|EMLA cream|\\n|5.|Ether|\\n|6.|Halothane with vaporizer|\\n|7.|Isoflurane|\\n|8.|Ketamine Hydrochloride|\\n|9.|Lignocaine Hydrochloride|\\n|10.|Lignocaine Hydrochloride + Adrenaline|\\n|11.|Midazolam|\\n|12.|Morphine Sulphate|\\n|13.|Nitrous Oxide|\\n|14.|Oxygen|\\n|15.|Promethazine|\\n|16.|Propofol|\\n|17.|Sevoflurane|\\n|18.|Thiopentone Sodium|\\n\\n|S.No|Section 2 – Analgesics, Antipyretics, Nonsteroidal anti-inflammatory medicines, Medicines used to treat Gout and Disease Modifying Agents used in Rheumatoid Disorders|\\n|---|---|\\n|1.|Acetyl Salicylic Acid|\\n|2.|Allopurinol|\\n|3.|Azathioprine|\\n|4.|Colchicine|\\n---\\n# Alphabetical List of Medicines – Therapeutic area wise\\n\\n|5.|Diclofenac|\\n|---|---|\\n|6.|Fentanyl|\\n|7.|Hydroxychloroquine phosphate|\\n|8.|Ibuprofen|\\n|9.|Leflunomide|\\n|10.|Methotrexate|\\n|11.|Morphine Sulphate|\\n|12.|Paracetamol|\\n|13.|Sulfasalazine|\\n|14.|Tramadol|\\n\\n# SECTION: 3 – Antiallergics and Medicines used in Anaphylaxis\\n\\n|1.|Adrenaline Bitartrate|\\n|---|---|\\n|2.|Cetrizine|\\n|3.|Chlorpheniramine Maleate|\\n|4.|Dexamethasone|\\n|5.|Dexchlorpheniramine Maleate|\\n|6.|Hydrocortisone Sodium Succinate|\\n|7.|Pheniramine Maleate|\\n|8.|Prednisolone|\\n|9.|Promethazine|\\n\\n# SECTION: 4 – Antidotes and Other Substances used in Poisonings\\n\\n|1.|Activated Charcoal|\\n|---|---|\\n|2.|Atropine Sulphate|\\n|3.|Calcium gluconate|\\n|4.|Desferrioxamine mesylate|\\n---\\n# Alphabetical List of Medicines – Therapeutic area wise\\n\\n|5.|Dimercaprol|\\n|---|---|\\n|6.|Flumazenil|\\n|7.|Methylthioninium chloride (Methylene blue)|\\n|8.|N-acetylcysteine|\\n|9.|Naloxone|\\n|10.|Penicillamine|\\n|11.|Pralidoxime Chloride(2-PAM)|\\n|12.|Sodium Nitrite|\\n|13.|Sodium Thiosulphate|\\n|14.|Specific antisnake venom|\\n\\n# SECTION: 5 – Anticonvulsants/ Antiepileptics\\n\\n|1.|Carbamazepine|\\n|---|---|\\n|2.|Diazepam|\\n|3.|Lorazepam|\\n|4.|Magnesium sulphate|\\n|5.|Phenobarbitone|\\n|6.|Phenytoin Sodium|\\n|7.|Sodium Valproate|\\n\\n# Section:6 – Anti-infective Medicines\\n\\n|1.|Acyclovir|\\n|---|---|\\n|2.|Albendazole|\\n|3.|Amikacin|\\n|4.|Amoxicillin|\\n|5.|Amoxicillin+Clavulinic acid|\\n|6.|Amphotericin B|\\n---\\n|7.|Ampicillin|\\n|---|---|\\n|8.|Artesunate (To be used only in combination with Sulfadoxine + Pyrimethamine)|\\n|9.|Azithromycin|\\n|10.|Benzathine Benzylpenicillin|\\n|11.|Cefixime|\\n|12.|Cefotaxime|\\n|13.|Ceftazidime|\\n|14.|Ceftriaxone|\\n|15.|Cephalexin|\\n|16.|Chloroquine phosphate|\\n|17.|Ciprofloxacin Hydrochloride|\\n|18.|Clindamycin|\\n|19.|Clofazimine|\\n|20.|Clotrimazole|\\n|21.|Cloxacillin|\\n|22.|Co-trimoxazole (Trimethoprim + Sulphamethoxazole)|\\n|23.|Dapsone|\\n|24.|Didanosine|\\n|25.|Diethylcarbamazine citrate|\\n|26.|Diloxanide Furoate|\\n|27.|Doxycycline|\\n|28.|Efavirenz|\\n|29.|Erythromycin Estolate|\\n|30.|Ethambutol|\\n|31.|Fluconazole|\\n\\nPage 80 of 123\\n---\\n# Alphabetical List of Medicines – Therapeutic area wise\\n\\n32. Gentamicin\\n33. Griseofulvin\\n34. Indinavir\\n35. Isoniazid\\n36. Lamivudine\\n37. Lamivudine + Nevirapine + Stavudine\\n38. Lamivudine + Zidovudine\\n39. Mefloquine\\n40. Metronidazole\\n41. Nelfinavir\\n42. Nevirapine\\n43. Nitrofurantoin\\n44. Nystatin\\n45. Ofloxacin\\n46. Pentamidine Isopionate\\n47. Piperazine\\n48. Praziquantel\\n49. Primaquine\\n50. Pyrazinamide\\n51. Pyrimepamine\\n52. Quinine sulphate\\n53. Rifampicin\\n54. Ritonavir\\n55. Saquinavir\\n56. Sodium Stibogluconate\\n\\nPage 81 of 123\\n---\\n# Alphabetical List of Medicines – Therapeutic area wise\\n\\n57. Stavudine\\n58. Stavudine+Lamivudine\\n59. Streptomycin Sulphate\\n60. Sulfadoxine + Pyrimepamine\\n61. Sulphadiazine\\n62. Vancomycin Hydrochloride\\n63. Zidovudine\\n64. Zidovudine+ Lamivudine+ Nevirapine\\n\\n# SECTION: 7 –Antimigraine medicines\\n\\n1. Acetyl Salicylic Acid\\n2. Dihydroergotamine\\n3. Paracetamol\\n4. Propranolol hydrochloride\\n\\n# SECTION: 8 –Antineoplastic, immunosuppressives and medicines used in palliative care\\n\\n1. 5-Fluorouracil\\n2. Actinomycin D\\n3. Allopurinol\\n4. Alpha Interferon\\n5. Azapioprine\\n6. Bleomycin\\n7. Busulphan\\n8. Carboplatin\\n9. Chlorambucil\\n10. Cisplatin\\n11. Cyclophosphamide\\n---\\n# Alphabetical List of Medicines – Therapeutic area wise\\n\\n12. Cyclosporine\\n13. Cytosine arabinoside\\n14. Dacarbazine\\n15. Danazol\\n16. Daunorubicin\\n17. Doxorubicin\\n18. Etoposide\\n19. Filgrastim\\n20. Flutamide\\n21. Folinic Acid\\n22. Gemcitabine hydrochloride\\n23. Ifosfamide\\n24. Imatinib\\n25. L- Asparaginase\\n26. Melphalan\\n27. Mercaptopurine\\n28. Mesna\\n29. Mepotrexate\\n30. Mitomycin-C\\n31. Morphine Sulphate\\n32. Ondansetron\\n33. Oxaliplatin\\n34. Paclitaxel\\n35. Prednisolone\\n36. Procarbazine\\n\\nPage 83 of 123\\n---\\n# Alphabetical List of Medicines – Therapeutic area wise\\n\\n|37.|Raloxifene|\\n|---|---|\\n|38.|Tamoxifen Citrate|\\n|39.|Vinblastine sulphate|\\n|40.|Vincristine|\\n\\n# SECTION: 9 –Antiparkinsonism medicines\\n\\n|1.|Bromocriptine Mesylate|\\n|---|---|\\n|2.|Levodopa+ Carbidopa|\\n|3.|Trihexyphenidyl Hydrochloride|\\n\\n# SECTION: 10 –Medicines affecting the blood\\n\\n|1.|Cyanocobalamin|\\n|---|---|\\n|2.|Enoxaparin|\\n|3.|Ferrous Salt|\\n|4.|Folic Acid|\\n|5.|Heparin Sodium|\\n|6.|Iron Dextran|\\n|7.|Phytomenadione|\\n|8.|Protamine Sulphate|\\n|9.|Pyridoxine|\\n|10.|Warfarin sodium|\\n\\n# SECTION: 11 –Blood products and Plasma substitutes\\n\\n|1.|Albumin|\\n|---|---|\\n|2.|Cryoprecipitate|\\n|3.|Dextran-40|\\n|4.|Dextran-70|\\n|5.|Factor IX Complex (Coagulation Factors II,VII, IX, X)|\\n---\\n# Alphabetical List of Medicines – Therapeutic area wise\\n\\n|6.|Factor VIII Concentrate|\\n|---|---|\\n|7.|Fresh frozen plasma|\\n|8.|Hydroxyethyl Starch (Hetastarch)|\\n|9.|Platelet Rich Plasma|\\n|10.|Polygeline|\\n\\n# SECTION: 12 –Cardiovascular medicines\\n\\n|1.|Acetyl salicylic acid|\\n|---|---|\\n|2.|Adenosine|\\n|3.|Amiodarone|\\n|4.|Amlodipine|\\n|5.|Atenolol|\\n|6.|Atorvastatin|\\n|7.|Clopidogrel|\\n|8.|Digoxin|\\n|9.|Diltiazem|\\n|10.|Dobutamine|\\n|11.|Dopamine Hydrochloride|\\n|12.|Enalapril Maleate|\\n|13.|Esmolol|\\n|14.|Glyceryl Trinitrate|\\n|15.|Heparin Sodium|\\n|16.|Hydrochlorthiazide|\\n|17.|Isosorbide 5 Mononitrate/Dinitrate|\\n|18.|Lignocaine Hydrochloride|\\n|19.|Losartan Potassium|\\n\\nPage 85 of 123\\n---\\n# Alphabetical List of Medicines – Therapeutic area wise\\n\\n|20.|Methyldopa|\\n|---|---|\\n|21.|Metoprolol|\\n|22.|Nifedipine|\\n|23.|Procainamide Hydrochloride|\\n|24.|Sodium Nitroprusside|\\n|25.|Streptokinase|\\n|26.|Urokinase|\\n|27.|Verapamil|\\n\\n# SECTION: 13 –Dermatological medicines (Topical)\\n\\n|1.|Acyclovir|\\n|---|---|\\n|2.|Benzyl benzoate|\\n|3.|Betamethasone Dipropionate|\\n|4.|Calamine|\\n|5.|Coal Tar|\\n|6.|Dithranol|\\n|7.|Framycetin Sulphate|\\n|8.|Glycerin|\\n|9.|Methylrosanilinium Chloride (Gentian Violet)|\\n|10.|Miconazole|\\n|11.|Neomycin + Bacitracin|\\n|12.|Permethrin|\\n|13.|Povidone Iodine|\\n|14.|Salicylic Acid|\\n|15.|Silver Sulphadiazine|\\n|16.|Zinc Oxide|\\n\\nPage 86 of 123\\n---\\n# Alphabetical List of Medicines – Therapeutic area wise\\n\\nSECTION: 14 –Diagnostic agents\\n1. Barium Sulphate\\n2. Calcium Ipodate\\n3. Fluorescein\\n4. Iopanoic Acid\\n5. Lignocaine\\n6. Meglumine Iopalamate\\n7. Meglumine Iotroxate\\n8. Propyliodone\\n9. Sodium Iopalamate\\n10. Sodium Meglumine Diatrizoate\\n11. Tropicamide\\n\\nSECTION: 15 –Disinfectants and antiseptics\\n1. Acriflavin+Glycerin\\n2. Benzoin Compound\\n3. Bleaching Powder\\n4. Cetrimide\\n5. Chlorhexidine\\n6. Epyl Alcohol 70%\\n7. Formaldehyde IP\\n8. Gentian Violet\\n9. Glutaraldehyde\\n10. Hydrogen Peroxide\\n11. Potassium Permanganate\\n12. Povidone Iodine\\n\\nPage 87 of 123\\n---\\nSECTION: 16 – Diuretics\\n1. Furosemide\\n2. Hydrochloropiazide\\n3. Mannitol\\n4. Spironolactone\\n\\nSECTION: 17 – Gastrointestinal medicines\\n1. 5-Amino salicylic Acid\\n2. Aluminium Hydroxide + Magnesium Hydroxide\\n3. Bisacodyl\\n4. Dicyclomine Hydrochloride\\n5. Domperidone\\n6. Famotidine\\n7. Hyoscine Butyl Bromide\\n8. Ispaghula\\n9. Metoclopramide\\n10. Omeprazole\\n11. Ondansetron\\n12. Oral Rehydration Salts\\n13. Pantoprazole\\n14. Promepazine\\n15. Ranitidine\\n16. Zinc Sulfate\\n\\nSECTION: 18 – Hormones, oper endocrine medicines and contraceptives\\n1. 25% Dextrose\\n---\\n# Alphabetical List of Medicines – Therapeutic area wise\\n\\n|2.|Carbimazole|\\n|---|---|\\n|3.|Clomiphene citrate|\\n|4.|Condoms|\\n|5.|Dexamethasone|\\n|6.|Ethinylestradiol|\\n|7.|Ethinylestradiol + Levonorgesterol|\\n|8.|Ethinylestradiol + Norethisterone|\\n|9.|Glibenclamide|\\n|10.|Glucagon|\\n|11.|Hormone Releasing IUD|\\n|12.|Hydrocortisone Sodium Succinate|\\n|13.|Insulin Injection(Soluble)|\\n|14.|Intermediate Acting(Lente/NPH Insulin)|\\n|15.|Iodine|\\n|16.|IUD containing Copper|\\n|17.|Levothyroxine|\\n|18.|Medroxy Progesterone Acetate|\\n|19.|Metformin|\\n|20.|MethylPrednisolone|\\n|21.|Norethisterone|\\n|22.|Prednisolone|\\n|23.|Premix Insulin 30:70 injection|\\n|24.|Testosterone|\\n\\n# SECTION: 19 - Immunologicals\\n\\n1.\\nAnti-D immunoglobin (human)\\n---\\n# Alphabetical List of Medicines – Therapeutic area wise\\n\\n|2.|Antitetanus Human immunoglobin|\\n|---|---|\\n|3.|B.C.G Vaccine|\\n|4.|D.P.T Vaccine|\\n|5.|Diphtheria Antitoxin|\\n|6.|Hepatitis B Vaccine|\\n|7.|Measles Vaccine|\\n|8.|Oral Poliomyelitis vaccine (LA)|\\n|9.|Polyvalent Antisnake Venom|\\n|10.|Rabies|\\n|11.|Rabies Vaccine|\\n|12.|Tetanus Toxoid|\\n|13.|Tuberculin, Purified Protein derivative|\\n\\n# SECTION: 20 – Muscle Relaxants (Peripherally acting) and Cholinesterase Inhibitors\\n\\n|1.|Atracurium besylate|\\n|---|---|\\n|2.|Neostigmine|\\n|3.|Pyridostigmine|\\n|4.|Succinyl choline chloride|\\n|5.|Vecuronium|\\n\\n# SECTION: 21 – Ophthalmological Preparations\\n\\n|1.|Acetazolamide|\\n|---|---|\\n|2.|Atropine Sulphate|\\n|3.|Betaxolol Hydrochloride|\\n|4.|Chloramphenicol|\\n|5.|Ciprofloxacin Hydrochloride|\\n|6.|Gentamicin|\\n\\nPage 90 of 123\\n---\\n# Alphabetical List of Medicines – Therapeutic area wise\\n\\n|7.|Homatropine|\\n|---|---|\\n|8.|Methyl Cellulose|\\n|9.|Miconazole|\\n|10.|Phenylephrine|\\n|11.|Pilocarpine|\\n|12.|Povidone Iodine|\\n|13.|Prednisolone Acetate|\\n|14.|Prednisolone Sodium Phosphate|\\n|15.|Sulphacetamide Sodium|\\n|16.|Tetracaine Hydrochloride|\\n|17.|Timolol Maleate|\\n\\n# SECTION: 22 – Oxytocics and Antioxytocics\\n\\n|1.|Betamethasone|\\n|---|---|\\n|2.|Methyl Ergometrine|\\n|3.|Mifepristone|\\n|4.|Misoprostol|\\n|5.|Nifedipine|\\n|6.|Oxytocin|\\n|7.|Terbutaline Sulphate|\\n\\n# SECTION: 23 – Peritoneal Dialysis Solution\\n\\n1\\nIntraperitoneal Dialysis Solution\\n\\n# SECTION: 24 – Psychotherapeutic Medicines\\n\\n|1.|Alprazolam|\\n|---|---|\\n|2.|Amitriptyline|\\n|3.|Chlorpromazine hydrochloride|\\n\\nPage 91 of 123\\n---\\n# Alphabetical List of Medicines – Therapeutic area wise\\n\\n|4.|Diazepam|\\n|---|---|\\n|5.|Fluoxetine hydrochloride|\\n|6.|Haloperidol|\\n|7.|Imipramine|\\n|8.|Lithium Carbonate|\\n|9.|Olanzapine|\\n|10.|Sodium Valproate|\\n\\n# SECTION: 25 – Medicines acting on the respiratory tract\\n\\n|1.|Beclomethasone Dipropionate|\\n|---|---|\\n|2.|Codeine phosphate|\\n|3.|Dextromethorphan|\\n|4.|Hydrocortisone sodium succinate|\\n|5.|Ipratropium bromide|\\n|6.|Salbutamol sulphate|\\n\\n# SECTION: 26 – Solutions correcting water, electrolyte and acid-base disturbances\\n\\n|1.|Glucose|\\n|---|---|\\n|2.|Glucose with sodium chloride|\\n|3.|N/2 Saline|\\n|4.|N/5 Saline|\\n|5.|Normal Saline|\\n|6.|Oral Rehydration Salts|\\n|7.|Potassium Chloride|\\n|8.|Ringer Lactate|\\n|9.|Sodium Bicarbonate|\\n|10.|Water for Injection|\\n\\nPage 92 of 123\\n---\\n# Alphabetical List of Medicines – Therapeutic area wise\\n\\nSECTION: 27 – Vitamins and Minerals\\n1. Ascorbic Acid\\n2. Calcium gluconate\\n3. Calcium carbonate\\n4. Multivitamins (As per Schedule V of Drugs and Cosmetics Rules)\\n5. Nicotinamide\\n6. Pyridoxine\\n7. Riboflavin\\n8. Thiamine\\n9. Vitamin A\\n10. Vitamin D (Ergocalciferol)\\n\\nPage 93 of 123\\n---\\n|S.No|Alphabetical List of Medicines in NLEM 2011|\\n|---|---|\\n|1.|25% Dextrose|\\n|2.|5-Amino salicylic Acid|\\n|3.|5-Fluorouracil|\\n|4.|Acetazolamide|\\n|5.|Acetyl Salicylic Acid|\\n|6.|Acriflavin+Glycerin|\\n|7.|Actinomycin D|\\n|8.|Activated Charcoal|\\n|9.|Acyclovir|\\n|10.|Adenosine|\\n|11.|Adrenaline Bitartrate|\\n|12.|Albendazole|\\n|13.|Albumin|\\n|14.|Allopurinol|\\n|15.|Alpha Interferon|\\n|16.|Alprazolam|\\n|17.|Aluminium Hydroxide + Magnesium Hydroxide|\\n|18.|Amikacin|\\n|19.|Amiodarone|\\n|20.|Amitriptyline|\\n|21.|Amlodipine|\\n|22.|Amoxicillin|\\n|23.|Amoxicillin+Clavulinic acid|\\n|24.|Amphotericin B|\\n\\nPage 94 of 123\\n---\\n|25.|Ampicillin|\\n|---|---|\\n|26.|Anti-D immunoglobin (human)|\\n|27.|Antitetanus Human immunoglobin|\\n|28.|Artesunate (To be used only in combination with Sulfadoxine + Pyrimethamine)|\\n|29.|Ascorbic Acid|\\n|30.|Atenolol|\\n|31.|Atorvastatin|\\n|32.|Atracurium besylate|\\n|33.|Atropine Sulphate|\\n|34.|Azathioprine|\\n|35.|Azithromycin|\\n|36.|B.C.G Vaccine|\\n|37.|Barium Sulphate|\\n|38.|Beclomethasone Dipropionate|\\n|39.|Benzathine Benzylpenicillin|\\n|40.|Benzoin Compound|\\n|41.|Benzyl benzoate|\\n|42.|Betamethasone|\\n|43.|Betamethasone Dipropionate|\\n|44.|Betaxolol Hydrochloride|\\n|45.|Bisacodyl|\\n|46.|Bleaching Powder|\\n|47.|Bleomycin|\\n|48.|Bromocriptine Mesylate|\\n|49.|Bupivacaine Hydrochloride|\\n\\nPage 95 of 123\\n---\\n|50.|Busulphan|\\n|---|---|\\n|51.|Calamine|\\n|52.|Calcium carbonate|\\n|53.|Calcium gluconate|\\n|54.|Calcium Ipodate|\\n|55.|Carbamazepine|\\n|56.|Carbimazole|\\n|57.|Carboplatin|\\n|58.|Cefixime|\\n|59.|Cefotaxime|\\n|60.|Ceftazidime|\\n|61.|Ceftriaxone|\\n|62.|Cephalexin|\\n|63.|Cetrimide|\\n|64.|Cetrizine|\\n|65.|Chlorambucil|\\n|66.|Chloramphenicol|\\n|67.|Chlorhexidine|\\n|68.|Chloroquine phosphate|\\n|69.|Chlorpheniramine Maleate|\\n|70.|Chlorpromazine hydrochloride|\\n|71.|Ciprofloxacin Hydrochloride|\\n|72.|Cisplatin|\\n|73.|Clindamycin|\\n|74.|Clofazimine|\\n|75.|Clomiphene citrate|\\n---\\n|76.|Clopidogrel|\\n|---|---|\\n|77.|Clotrimazole|\\n|78.|Cloxacillin|\\n|79.|Coal Tar|\\n|80.|Codeine phosphate|\\n|81.|Colchicine|\\n|82.|Condoms|\\n|83.|Co-Trimoxazole (Trimethoprim + Sulphamethoxazole)|\\n|84.|Cryoprecipitate|\\n|85.|Cyanocobalamin|\\n|86.|Cyclophosphamide|\\n|87.|Cyclosporine|\\n|88.|Cytosine arabinoside|\\n|89.|D.P.T Vaccine|\\n|90.|Dacarbazine|\\n|91.|Danazol|\\n|92.|Dapsone|\\n|93.|Daunorubicin|\\n|94.|Desferrioxamine mesylate|\\n|95.|Dexamethasone|\\n|96.|Dexchlorpheniramine Maleate|\\n|97.|Dextran-40|\\n|98.|Dextran-70|\\n|99.|Dextromethorphan|\\n|100.|Diazepam|\\n|101.|Diclofenac|\\n---\\n# Page 98 of 123\\n\\n102. Dicyclomine Hydrochloride\\n103. Didanosine\\n104. Diepylcarbamazine citrate\\n105. Digoxin\\n106. Dihydroergotamine\\n107. Diloxanide Furoate\\n108. Diltiazem\\n109. Dimercaprol\\n110. Diphperia Antitoxin\\n111. Dipranol\\n112. Dobutamine\\n113. Domperidone\\n114. Dopamine Hydrochloride\\n115. Doxorubicin\\n116. Doxycycline\\n117. Efavirenz\\n118. EMLA cream\\n119. Enalapril Maleate\\n120. Enoxaparin\\n121. Erypromycin Estolate\\n122. Esmolol\\n123. Epambutol\\n124. Eper\\n125. Epinylestradiol\\n126. Epinylestradiol + Levonorgesterol\\n127. Epinylestradiol + Norepisterone\\n---\\n128. Epyl Alcohol 70%\\n129. Etoposide\\n130. Factor IX Complex (Coagulation Factors II,VII, IX, X)\\n131. Factor VIII Concentrate\\n132. Famotidine\\n133. Fentanyl\\n134. Ferrous Salt\\n135. Filgrastim\\n136. Fluconazole\\n137. Flumazenil\\n138. Fluorescein\\n139. Fluoxetine hydrochloride\\n140. Flutamide\\n141. Folic Acid\\n142. Folinic Acid\\n143. Formaldehyde IP\\n144. Framycetin Sulphate\\n145. Fresh frozen plasma\\n146. Furosemide\\n147. Gemcitabine hydrochloride\\n148. Gentamicin\\n149. Gentian Violet\\n150. Glibenclamide\\n151. Glucagon\\n152. Glucose\\n153. Glucose wip sodium chloride\\n---\\n|154.|Glutaraldehyde|\\n|---|---|\\n|155.|Glycerin|\\n|156.|Glyceryl Trinitrate|\\n|157.|Griseofulvin|\\n|158.|Haloperidol|\\n|159.|Halothane with vaporizer|\\n|160.|Heparin Sodium|\\n|161.|Hepatitis B Vaccine|\\n|162.|Homatropine|\\n|163.|Hormone Releasing IUD|\\n|164.|Hydrochlorothiazide|\\n|165.|Hydrocortisone sodium succinate|\\n|166.|Hydrogen Peroxide|\\n|167.|Hydroxychloroquine phosphate|\\n|168.|Hydroxyethyl Starch (Hetastarch)|\\n|169.|Hyoscine Butyl Bromide|\\n|170.|Ibuprofen|\\n|171.|Ifosfamide|\\n|172.|Imatinib|\\n|173.|Imipramine|\\n|174.|Indinavir|\\n|175.|Insulin Injection(Soluble)|\\n|176.|Intermediate Acting(Lente/NPH Insulin)|\\n|177.|Intraperitoneal Dialysis Solution|\\n|178.|Iodine|\\n|179.|Iopanoic Acid|\\n---\\n180. Ipratropium bromide\\n181. Iron Dextran\\n182. Isoflurane\\n183. Isoniazid\\n184. Isosorbide 5 Mononitrate/Dinitrate\\n185. Ispaghula\\n186. IUD containing Copper\\n187. Ketamine Hydrochloride\\n188. L- Asparaginase\\n189. Lamivudine\\n190. Lamivudine + Nevirapine + Stavudine\\n191. Lamivudine + Zidovudine\\n192. Leflunomide\\n193. Levodopa+ Carbidopa\\n194. Levopyroxine\\n195. Lignocaine\\n196. Lignocaine Hydrochloride\\n197. Lignocaine Hydrochloride + Adrenaline\\n198. Lipium Carbonate\\n199. Lorazepam\\n200. Losartan Potassium\\n201. Magnesium sulphate\\n202. Mannitol\\n203. Measles Vaccine\\n204. Medroxy Progesterone Acetate\\n205. Mefloquine\\n\\nPage 101 of 123\\n---\\n206. Meglumine Iopalamate\\n207. Meglumine Iotroxate\\n208. Melphalan\\n209. Mercaptopurine\\n210. Mesna\\n211. Metformin\\n212. Mepotrexate\\n213. Mepyl Cellulose\\n214. Mepyl Ergometrine\\n215. Mepyldopa\\n216. MepylPrednisolone\\n217. Mepylrosanilinium Chloride (Gentian Violet)\\n218. Mepylpioninium chloride (Mepylene blue)\\n219. Metoclopramide\\n220. Metoprolol\\n221. Metronidazole\\n222. Miconazole\\n223. Midazolam\\n224. Mifepristone\\n225. Misoprostol\\n226. Mitomycin-C\\n227. Morphine Sulphate\\n228. Multivitamins (As per Schedule V of Drugs and Cosmetics Rules)\\n229. N/2 Saline\\n230. N/5 Saline\\n---\\n231. N-acetylcysteine\\n232. Naloxone\\n233. Nelfinavir\\n234. Neomycin + Bacitracin\\n235. Neostigmine\\n236. Nevirapine\\n237. Nicotinamide\\n238. Nifedipine\\n239. Nitrofurantoin\\n240. Nitrous Oxide\\n241. Norepisterone\\n242. Normal Saline\\n243. Nystatin\\n244. Ofloxacin\\n245. Olanzapine\\n246. Omeprazole\\n247. Ondansetron\\n248. Oral Poliomyelitis vaccine (LA)\\n249. Oral Rehydration Salts\\n250. Oxaliplatin\\n251. Oxygen\\n252. Oxytocin\\n253. Paclitaxel\\n254. Pantoprazole\\n255. Paracetamol\\n256. Penicillamine\\n\\nPage 103 of 123\\n---\\n257. Pentamidine Isopionate\\n258. Permeprin\\n259. Pheniramine Maleate\\n260. Phenobarbitone\\n261. Phenylephrine\\n262. Phenytoin Sodium\\n263. Phytomenadione\\n264. Pilocarpine\\n265. Piperazine\\n266. Platelet Rich Plasma\\n267. Polygeline\\n268. Polyvalent Antisnake Venom\\n269. Potassium Chloride\\n270. Potassium Permanganate\\n271. Povidone Iodine\\n272. Pralidoxime Chloride(2-PAM)\\n273. Praziquantel\\n274. Prednisolone\\n275. Prednisolone Acetate\\n276. Prednisolone Sodium Phosphate\\n277. Premix Insulin 30:70 injection\\n278. Primaquine\\n279. Procainamide Hydrochloride\\n280. Procarbazine\\n281. Promepazine\\n282. Propofol\\n\\nPage 104 of 123\\n---\\n283. Propranolol hydrochloride\\n284. Propyliodone\\n285. Protamine Sulphate\\n286. Pyrazinamide\\n287. Pyridostigmine\\n288. Pyridoxine\\n289. Pyrimepamine\\n290. Quinine sulphate\\n291. Rabies immunoglobin\\n292. Rabies Vaccine\\n293. Raloxifene\\n294. Ranitidine\\n295. Riboflavin\\n296. Rifampicin\\n297. Ringer Lactate\\n298. Ritonavir\\n299. Salbutamol sulphate\\n300. Salicylic Acid\\n301. Saquinavir\\n302. Sevoflurane\\n303. Silver Sulphadiazine\\n304. Sodium Bicarbonate\\n305. Sodium Iopalamate\\n306. Sodium Meglumine Diatrizoate\\n307. Sodium Nitrite\\n308. Sodium Nitroprusside\\n---\\n309. Sodium Stibogluconate\\n310. Sodium Thiosulphate\\n311. Sodium Valproate\\n312. Specific antisnake venom\\n313. Spironolactone\\n314. Stavudine\\n315. Stavudine+Lamivudine\\n316. Streptokinase\\n317. Streptomycin Sulphate\\n318. Succinyl choline chloride\\n319. Sulfadoxine + Pyrimepamine\\n320. Sulfasalazine\\n321. Sulphacetamide Sodium\\n322. Sulphadiazine\\n323. Tamoxifen Citrate\\n324. Terbutaline Sulphate\\n325. Testosterone\\n326. Tetanus Toxoid\\n327. Tetracaine Hydrochloride\\n328. Thiamine\\n329. Thiopentone Sodium\\n330. Timolol Maleate\\n331. Tramadol\\n332. Trihexyphenidyl Hydrochloride\\n333. Tropicamide\\n334. Tuberculin, Purified Protein derivative\\n---\\n335. Urokinase\\n336. Vancomycin Hydrochloride\\n337. Vecuronium\\n338. Verapamil\\n339. Vinblastine sulphate\\n340. Vincristine\\n341. Vitamin A\\n342. Vitamin D (Ergocalciferol)\\n343. Warfarin sodium\\n344. Water for Injection\\n345. Zidovudine\\n346. Zidovudine+ Lamivudine+ Nevirapine\\n347. Zinc Oxide\\n348. Zinc Sulfate\\n\\nPage 107 of 123\\n---\\n|S.No|List of Medicines in NLEM 2011 – Category Wise|Category|\\n|---|---|---|\\n|1.|25% Dextrose|P,S,T|\\n|2.|Acetyl Salicylic Acid|P,S,T|\\n|3.|Acriflavin+Glycerin|P,S,T|\\n|4.|Activated Charcoal|P,S,T|\\n|5.|Adrenaline Bitartrate|P,S,T|\\n|6.|Albendazole|P,S,T|\\n|7.|Alprazolam|P,S,T|\\n|8.|Aluminium Hydroxide + Magnesium Hydroxide|P,S,T|\\n|9.|Amitriptyline|P,S,T|\\n|10.|Amlodipine|P,S,T|\\n|11.|Ampicillin|P,S,T|\\n|12.|Antitetanus Human immunoglobin|P,S,T|\\n|13.|Artesunate (To be used only in combination with Sulfadoxine + Pyrimethamine)|P,S,T|\\n|14.|Ascorbic Acid|P,S,T|\\n|15.|Atenolol|P,S,T|\\n|16.|Atorvastatin|P,S,T|\\n|17.|Atropine Sulphate|P,S,T|\\n|18.|B.C.G Vaccine|P,S,T|\\n|19.|Beclomethasone Dipropionate|P,S,T|\\n|20.|Benzathine Benzylpenicillin|P,S,T|\\n\\nPage 108 of 123\\n---\\n|S.No|List of Medicines in NLEM 2011 – Category Wise|Category|\\n|---|---|---|\\n|21.|Benzoin Compound|P,S,T|\\n|22.|Benzyl benzoate|P,S,T|\\n|23.|Betamethasone|P,S,T|\\n|24.|Betamethasone Dipropionate|P,S,T|\\n|25.|Bisacodyl|P,S,T|\\n|26.|Bleaching Powder|P,S,T|\\n|27.|Calamine|P,S,T|\\n|28.|Calcium carbonate|P,S,T|\\n|29.|Calcium gluconate|P,S,T|\\n|30.|Carbamazepine|P,S,T|\\n|31.|Carbimazole|P,S,T|\\n|32.|Cephalexin|P,S,T|\\n|33.|Cetrimide|P,S,T|\\n|34.|Cetrizine|P,S,T|\\n|35.|Chloramphenicol|P,S,T|\\n|36.|Chlorhexidine|P,S,T|\\n|37.|Chloroquine phosphate|P,S,T|\\n|38.|Chlorpheniramine Maleate|P,S,T|\\n|39.|Chlorpromazine hydrochloride|P,S,T|\\n|40.|Ciprofloxacin Hydrochloride|P,S,T|\\n|41.|Clofazimine|P,S,T|\\n|42.|Clotrimazole|P,S,T|\\n|43.|Cloxacillin|P,S,T|\\n\\nPage 109 of 123\\n---\\n|S.No|List of Medicines in NLEM 2011 – Category Wise|Category|\\n|---|---|---|\\n|44.|Coal Tar|P,S,T|\\n|45.|Condoms|P,S,T|\\n|46.|Co-Trimoxazole (Trimethoprim + Sulphamethoxazole)|P,S,T|\\n|47.|Cyanocobalamin|P,S,T|\\n|48.|D.P.T Vaccine|P,S,T|\\n|49.|Dapsone|P,S,T|\\n|50.|Dexamethasone|P,S,T|\\n|51.|Dexchlorpheniramine Maleate|P,S,T|\\n|52.|Dextran-40|P,S,T|\\n|53.|Dextran-70|P,S,T|\\n|54.|Dextromethorphan|P,S,T|\\n|55.|Diazepam|P,S,T|\\n|56.|Dicyclomine Hydrochloride|P,S,T|\\n|57.|Diethylcarbamazine citrate|P,S,T|\\n|58.|Diloxanide Furoate|P,S,T|\\n|59.|Domperidone|P,S,T|\\n|60.|Doxycycline|P,S,T|\\n|61.|Enalapril Maleate|P,S,T|\\n|62.|Erythromycin Estolate|P,S,T|\\n|63.|Ethambutol|P,S,T|\\n|64.|Ethinylestradiol|P,S,T|\\n|65.|Ethinylestradiol + Levonorgesterol|P,S,T|\\n|66.|Ethinylestradiol + Norethisterone|P,S,T|\\n\\nPage 110 of 123\\n---\\n|S.No|List of Medicines in NLEM 2011 – Category Wise|Category|\\n|---|---|---|\\n|67.|Ethyl Alcohol 70%|P,S,T|\\n|68.|Famotidine|P,S,T|\\n|69.|Ferrous Salt|P,S,T|\\n|70.|Fluoxetine hydrochloride|P,S,T|\\n|71.|Folic Acid|P,S,T|\\n|72.|Formaldehyde IP|P,S,T|\\n|73.|Framycetin Sulphate|P,S,T|\\n|74.|Furosemide|P,S,T|\\n|75.|Gentamicin|P,S,T|\\n|76.|Gentian Violet|P,S,T|\\n|77.|Glibenclamide|P,S,T|\\n|78.|Glucose|P,S,T|\\n|79.|Glucose with sodium chloride|P,S,T|\\n|80.|Glycerin|P,S,T|\\n|81.|Glyceryl Trinitrate|P,S,T|\\n|82.|Griseofulvin|P,S,T|\\n|83.|Hepatitis B Vaccine|P,S,T|\\n|84.|Homatropine|P,S,T|\\n|85.|Hydrochlorothiazide|P,S,T|\\n|86.|Hydrocortisone sodium succinate|P,S,T|\\n|87.|Hydrogen Peroxide|P,S,T|\\n|88.|Hyoscine Butyl Bromide|P,S,T|\\n|89.|Ibuprofen|P,S,T|\\n\\nPage 111 of 123\\n---\\n|S.No|List of Medicines in NLEM 2011 – Category Wise|Category|\\n|---|---|---|\\n|90.|Imipramine|P,S,T|\\n|91.|Insulin Injection(Soluble)|P,S,T|\\n|92.|Intermediate Acting(Lente/NPH Insulin)|P,S,T|\\n|93.|Ipratropium bromide|P,S,T|\\n|94.|Isoniazid|P,S,T|\\n|95.|Isosorbide 5 Mononitrate/Dinitrate|P,S,T|\\n|96.|Ispaghula|P,S,T|\\n|97.|IUD containing Copper|P,S,T|\\n|98.|Ketamine Hydrochloride|P,S,T|\\n|99.|Levodopa+ Carbidopa|P,S,T|\\n|100.|Levothyroxine|P,S,T|\\n|101.|Lignocaine Hydrochloride|P,S,T|\\n|102.|Lignocaine Hydrochloride + Adrenaline|P,S,T|\\n|103.|Mannitol|P,S,T|\\n|104.|Measles Vaccine|P,S,T|\\n|105.|Medroxy Progesterone Acetate|P,S,T|\\n|106.|Metformin|P,S,T|\\n|107.|Methyl Ergometrine|P,S,T|\\n|108.|Methyldopa|P,S,T|\\n|109.|Methylrosanilinium Chloride (Gentian Violet)|P,S,T|\\n|110.|Metoclopramide|P,S,T|\\n|111.|Metoprolol|P,S,T|\\n|112.|Metronidazole|P,S,T|\\n\\nPage 112 of 123\\n---\\n|S.No|List of Medicines in NLEM 2011 – Category Wise|Category|\\n|---|---|---|\\n|113.|Miconazole|P,S,T|\\n|114.|Midazolam|P,S,T|\\n|115.|Multivitamins (As per Schedule V of Drugs and Cosmetics Rules)|P,S,T|\\n|116.|N-acetylcysteine|P,S,T|\\n|117.|Naloxone|P,S,T|\\n|118.|Neomycin + Bacitracin|P,S,T|\\n|119.|Nicotinamide|P,S,T|\\n|120.|Nitrofurantoin|P,S,T|\\n|121.|Nitrous Oxide|P,S,T|\\n|122.|Norethisterone|P,S,T|\\n|123.|Normal Saline|P,S,T|\\n|124.|Nystatin|P,S,T|\\n|125.|Omeprazole|P,S,T|\\n|126.|Oral Poliomyelitis vaccine (LA)|P,S,T|\\n|127.|Oral Rehydration Salts|P,S,T|\\n|128.|Oxygen|P,S,T|\\n|129.|Paracetamol|P,S,T|\\n|130.|Pheniramine Maleate|P,S,T|\\n|131.|Phenobarbitone|P,S,T|\\n|132.|Phenylephrine|P,S,T|\\n|133.|Phenytoin Sodium|P,S,T|\\n|134.|Phytomenadione|P,S,T|\\n|135.|Piperazine|P,S,T|\\n\\nPage 113 of 123\\n---\\n|S.No|List of Medicines in NLEM 2011 – Category Wise|Category|\\n|---|---|---|\\n|136.|Polyvalent Antisnake Venom|P,S,T|\\n|137.|Potassium Chloride|P,S,T|\\n|138.|Potassium Permanganate|P,S,T|\\n|139.|Povidone Iodine|P,S,T|\\n|140.|Pralidoxime Chloride(2-PAM)|P,S,T|\\n|141.|Prednisolone|P,S,T|\\n|142.|Prednisolone Acetate|P,S,T|\\n|143.|Prednisolone Sodium Phosphate|P,S,T|\\n|144.|Premix Insulin 30:70 injection|P,S,T|\\n|145.|Primaquine|P,S,T|\\n|146.|Promethazine|P,S,T|\\n|147.|Propofol|P,S,T|\\n|148.|Propranolol hydrochloride|P,S,T|\\n|149.|Pyrazinamide|P,S,T|\\n|150.|Pyridoxine|P,S,T|\\n|151.|Pyrimethamine|P,S,T|\\n|152.|Quinine sulphate|P,S,T|\\n|153.|Rabies immunoglobin|P,S,T|\\n|154.|Rabies Vaccine|P,S,T|\\n|155.|Ranitidine|P,S,T|\\n|156.|Riboflavin|P,S,T|\\n|157.|Rifampicin|P,S,T|\\n|158.|Ringer Lactate|P,S,T|\\n\\nPage 114 of 123\\n---\\n|S.No|List of Medicines in NLEM 2011 – Category Wise|Category|\\n|---|---|---|\\n|159.|Salbutamol sulphate|P,S,T|\\n|160.|Salicylic Acid|P,S,T|\\n|161.|Silver Sulphadiazine|P,S,T|\\n|162.|Sodium Bicarbonate|P,S,T|\\n|163.|Sodium Valproate|P,S,T|\\n|164.|Specific antisnake venom|P,S,T|\\n|165.|Spironolactone|P,S,T|\\n|166.|Streptomycin Sulphate|P,S,T|\\n|167.|Sulfadoxine + Pyrimethamine|P,S,T|\\n|168.|Sulphacetamide Sodium|P,S,T|\\n|169.|Testosterone|P,S,T|\\n|170.|Tetanus Toxoid|P,S,T|\\n|171.|Tetracaine Hydrochloride|P,S,T|\\n|172.|Thiamine|P,S,T|\\n|173.|Timolol Maleate|P,S,T|\\n|174.|Trihexyphenidyl Hydrochloride|P,S,T|\\n|175.|Tuberculin, Purified Protein derivative|P,S,T|\\n|176.|Vecuronium|P,S,T|\\n|177.|Vitamin A|P,S,T|\\n|178.|Vitamin D (Ergocalciferol)|P,S,T|\\n|179.|Water for Injection|P,S,T|\\n|180.|Zinc Oxide|P,S,T|\\n|181.|Zinc Sulfate|P,S,T|\\n\\nPage 115 of 123\\n---\\n|S.No|List of Medicines in NLEM 2011 – Category Wise|Category|\\n|---|---|---|\\n|1.|5-Amino salicylic Acid|S,T|\\n|2.|Acetazolamide|S,T|\\n|3.|Acyclovir|S, T|\\n|4.|Adenosine|S,T|\\n|5.|Albumin|S, T|\\n|6.|Allopurinol|S, T|\\n|7.|Amikacin|S, T|\\n|8.|Amiodarone|S, T|\\n|9.|Amoxicillin|S,T|\\n|10.|Amphotericin B|S, T|\\n|11.|Anti-D immunoglobin (human)|S, T|\\n|12.|Atracurium besylate|S, T|\\n|13.|Azathioprine|S, T|\\n|14.|Azithromycin|S,T|\\n|15.|Barium Sulphate|S, T|\\n|16.|Bromocriptine Mesylate|S, T|\\n|17.|Bupivacaine Hydrochloride|S, T|\\n|18.|Calcium Ipodate|S, T|\\n|19.|Cefotaxime|S, T|\\n|20.|Ceftazidime|S, T|\\n|21.|Ceftriaxone|S, T|\\n---\\n|S.No|List of Medicines in NLEM 2011 – Category Wise|Category|\\n|---|---|---|\\n|22.|Clindamycin|S, T|\\n|23.|Codeine phosphate|S, T|\\n|24.|Colchicine|S, T|\\n|25.|Cryoprecipitate|S, T|\\n|26.|Desferrioxamine mesylate|S, T|\\n|27.|Didanosine|S, T|\\n|28.|Digoxin|S, T|\\n|29.|Dihydroergotamine|S, T|\\n|30.|Diltiazem|S, T|\\n|31.|Dimercaprol|S, T|\\n|32.|Diphtheria Antitoxin|S, T|\\n|33.|Dobutamine|S, T|\\n|34.|Dopamine Hydrochloride|S, T|\\n|35.|Efavirenz|S, T|\\n|36.|Ether|S, T|\\n|37.|Factor IX Complex (Coagulation Factors II,VII, IX, X)|S, T|\\n|38.|Factor VIII Concentrate|S, T|\\n|39.|Fentanyl|S, T|\\n|40.|Fluconazole|S, T|\\n|41.|Fluorescein|S, T|\\n|42.|Glutaraldehyde|S, T|\\n|43.|Haloperidol|S, T|\\n|44.|Halothane with vaporizer|S, T|\\n\\nPage 117 of 123\\n---\\n|S.No|List of Medicines in NLEM 2011 – Category Wise|Category|\\n|---|---|---|\\n|45.|Heparin Sodium|S, T|\\n|46.|Hydroxychloroquine phosphate|S, T|\\n|47.|Hydroxyethyl Starch (Hetastarch)|S, T|\\n|48.|Indinavir|S, T|\\n|49.|Iodine|S, T|\\n|50.|Iopanoic Acid|S, T|\\n|51.|Iron Dextran|S, T|\\n|52.|Isoflurane|S, T|\\n|53.|Lamivudine|S, T|\\n|54.|Lamivudine + Nevirapine + Stavudine|S, T|\\n|55.|Lamivudine + Zidovudine|S, T|\\n|56.|Leflunomide|S, T|\\n|57.|Lignocaine|S, T|\\n|58.|Losartan Potassium|S, T|\\n|59.|Magnesium sulphate|S, T|\\n|60.|Mefloquine|S, T|\\n|61.|Meglumine Iothalamate|S, T|\\n|62.|Meglumine Iotroxate|S, T|\\n|63.|Methotrexate|S, T|\\n|64.|MethylPrednisolone|S, T|\\n|65.|Methylthioninium chloride (Methylene blue)|S, T|\\n|66.|Morphine Sulphate|S, T|\\n|67.|N/2 Saline|S, T|\\n\\nPage 118 of 123\\n---\\n|S.No|List of Medicines in NLEM 2011 – Category Wise|Category|\\n|---|---|---|\\n|68.|N/5 Saline|S, T|\\n|69.|Nelfinavir|S, T|\\n|70.|Neostigmine|S, T|\\n|71.|Nevirapine|S, T|\\n|72.|Nifedipine|S, T|\\n|73.|Ofloxacin|S, T|\\n|74.|Ondansetron|S, T|\\n|75.|Oxytocin|S, T|\\n|76.|Penicillamine|S, T|\\n|77.|Pentamidine Isothionate|S, T|\\n|78.|Permethrin|S, T|\\n|79.|Pilocarpine|S, T|\\n|80.|Platelet Rich Plasma|S, T|\\n|81.|Polygeline|S, T|\\n|82.|Praziquantel|S, T|\\n|83.|Propyliodone|S, T|\\n|84.|Protamine Sulphate|S, T|\\n|85.|Pyridostigmine|S, T|\\n|86.|Ritonavir|S, T|\\n|87.|Saquinavir|S, T|\\n|88.|Sodium Iothalamate|S, T|\\n|89.|Sodium Meglumine Diatrizoate|S, T|\\n|90.|Sodium Nitrite|S, T|\\n\\nPage 119 of 123\\n---\\n|S.No|List of Medicines in NLEM 2011 – Category Wise|Category|\\n|---|---|---|\\n|91.|Sodium Stibogluconate|S, T|\\n|92.|Sodium Thiosulphate|S, T|\\n|93.|Stavudine|S, T|\\n|94.|Stavudine+Lamivudine|S, T|\\n|95.|Streptokinase|S, T|\\n|96.|Succinyl choline chloride|S, T|\\n|97.|Sulfasalazine|S, T|\\n|98.|Sulphadiazine|S, T|\\n|99.|Terbutaline Sulphate|S, T|\\n|100.|Thiopentone Sodium|S, T|\\n|101.|Tramadol|S, T|\\n|102.|Tropicamide|S, T|\\n|103.|Verapamil|S, T|\\n|104.|Warfarin sodium|S, T|\\n|105.|Zidovudine|S, T|\\n|106.|Zidovudine+ Lamivudine+ Nevirapine|S, T|\\n\\nTotal Medicines under Category S,T - 106\\n\\n|S.No|List of Medicines in NLEM 2011 – Category Wise|Category|\\n|---|---|---|\\n|1.|5-Fluorouracil|T|\\n|2.|Actinomycin D|T|\\n|3.|Alpha Interferon|T|\\n|4.|Amoxicillin+Clavulinic acid|T|\\n|5.|Betaxolol Hydrochloride|T|\\n---\\n|S.No|List of Medicines in NLEM 2011 – Category Wise|Category|\\n|---|---|---|\\n|6.|Bleomycin|T|\\n|7.|Busulphan|T|\\n|8.|Carboplatin|T|\\n|9.|Cefixime|T|\\n|10.|Chlorambucil|T|\\n|11.|Cisplatin|T|\\n|12.|Clomiphene citrate|T|\\n|13.|Clopidogrel|T|\\n|14.|Cyclophosphamide|T|\\n|15.|Cyclosporine|T|\\n|16.|Cytosine arabinoside|T|\\n|17.|Dacarbazine|T|\\n|18.|Danazol|T|\\n|19.|Daunorubicin|T|\\n|20.|Diclofenac|T|\\n|21.|Dithranol|T|\\n|22.|Doxorubicin|T|\\n|23.|EMLA cream|T|\\n|24.|Enoxaparin|T|\\n|25.|Esmolol|T|\\n|26.|Etoposide|T|\\n|27.|Filgrastim|T|\\n|28.|Flumazenil|T|\\n\\nPage 121 of 123\\n---\\n|S.No|List of Medicines in NLEM 2011 – Category Wise|Category|\\n|---|---|---|\\n|29.|Flutamide|T|\\n|30.|Folinic Acid|T|\\n|31.|Fresh frozen plasma|T|\\n|32.|Gemcitabine hydrochloride|T|\\n|33.|Glucagon|T|\\n|34.|Hormone Releasing IUD|T|\\n|35.|Ifosfamide|T|\\n|36.|Imatinib|T|\\n|37.|Intraperitoneal Dialysis Solution|T|\\n|38.|L- Asparaginase|T|\\n|39.|Lithium Carbonate|T|\\n|40.|Lorazepam|T|\\n|41.|Melphalan|T|\\n|42.|Mercaptopurine|T|\\n|43.|Mesna|T|\\n|44.|Methyl Cellulose|T|\\n|45.|Mifepristone|T|\\n|46.|Misoprostol|T|\\n|47.|Mitomycin-C|T|\\n|48.|Olanzapine|T|\\n|49.|Oxaliplatin|T|\\n|50.|Paclitaxel|T|\\n|51.|Pantoprazole|T|\\n---\\n|S.No|List of Medicines in NLEM 2011 – Category Wise|Category|\\n|---|---|---|\\n|52.|Procainamide Hydrochloride|T|\\n|53.|Procarbazine|T|\\n|54.|Raloxifene|T|\\n|55.|Sevoflurane|T|\\n|56.|Sodium Nitroprusside|T|\\n|57.|Tamoxifen Citrate|T|\\n|58.|Urokinase|T|\\n|59.|Vancomycin Hydrochloride|T|\\n|60.|Vinblastine sulphate|T|\\n|61.|Vincristine|T|\\n\\n|Total Medicines| |\\n|---|---|\\n|Category P,S,T|181|\\n|Category S,T|106|\\n|Category T|61|\\n|Total|348|', start_char_idx=None, end_char_idx=None, text_template='{metadata_str}\\n\\n{content}', metadata_template='{key}: {value}', metadata_seperator='\\n')]\n"
          ]
        }
      ],
      "source": [
        "print(parsed_doc)"
      ]
    },
    {
      "cell_type": "code",
      "execution_count": 9,
      "metadata": {
        "colab": {
          "base_uri": "https://localhost:8080/",
          "height": 1000
        },
        "id": "SjHxNzmn8gDN",
        "outputId": "4e42a471-c773-44a0-929c-3ec119a6ba16"
      },
      "outputs": [
        {
          "output_type": "execute_result",
          "data": {
            "text/plain": [
              "<IPython.core.display.Markdown object>"
            ],
            "text/markdown": "National List of Essential Medicines of India 2011\nPage 1 of 123\n---\n# TABLE OF CONTENTS\n\nPREAMBLE ...................................................................................................................................... 4\n\nEXECUTIVE SUMMARY ................................................................................................................... 6\n\nSalient features of NLEM 2011: ............................................................................................................ …..11\n\nThe meetings/deliberations of core committee/ National consultation meetings held for\npreparing the National List of Essential Medicines 2011 ............................................................. 12\n\nPROCESS ADOPTED FOR REVISION OF NLEM .............................................................................. 13\n\nPOTENTIAL USES OF NLEM ........................................................................................................... 15\n\nEXPERTS WHO PARTICIPATED IN PREPARING NLEM- 2011.......................................................... 16\n\nMEDICINES ADDED IN THE NLEM 2011 ....................................................................................... 27\n\nMEDICINES DELETED FROM NLEM 2003 ...................................................................................... 29\n\nNATIONAL LIST OF ESSENTIAL MEDICINES 2011 .......................................................................... 32\n\n|Section: 1 – Anesthesia|32|\n|---|---|\n|Section: 2 - Analgesics , Antipyretics, Nonsteroidal Anti-inflammatory Medicines, Medicines used to treat Gout and Disease Modifying Agents used in Rheumatoid Disorders|34|\n|Section: 3 – Antiallergics and Medicines used in Anaphylaxis|35|\n|Section: 4 - Antidotes and Other Substances used in Poisonings|36|\n|Section: 5 – Anticonvulsants/ Antiepileptics|37|\n|Section: 6 – Anti-infective Medicines|38|\n|Section: 7 –Antimigraine medicines|45|\n|Section: 8 –Antineoplastic, immunosuppressives and medicines used in palliative care|46|\n|Section: 9 –Antiparkinsonism medicines|49|\n|Section: 10 –Medicines affecting the blood|50|\n|Section: 11 –Blood products and Plasma substitutes|51|\n|Section: 12 –Cardiovascular medicines|52|\n|Section: 13 –Dermatological medicines (Topical)|55|\n|Section: 14 –Diagnostic agents|57|\n|Section: 15 –Disinfectants and antiseptics|58|\n|Section: 16 –Diuretics|59|\n\nPage 2 of 123\n---\n# Section: 17 – Gastrointestinal medicines\n\nPage 3 of 123\n\n# Section: 18 – Hormones, other endocrine medicines and contraceptives\n\n# Section: 19 Immunologicals\n\n# Section: 20 – Muscle Relaxants (Peripherally acting) and Cholinesterase Inhibitors\n\n# Section: 21 – Ophthalmological Preparations\n\n# Section: 22 – Oxytocics and Antioxytocics\n\n# Section: 23 – Peritoneal Dialysis Solution\n\n# Section: 24 – Psychotherapeutic Medicines\n\n# Section: 25 – Medicines acting on the respiratory tract\n\n# Section: 26 – Solutions correcting water, electrolyte and acid-base disturbances\n\n# Section: 27 – Vitamins and Minerals\n\n# Alphabetical List of Medicines – Therapeutic area wise\n\n# Alphabetical List of Medicines in NLEM 2011\n\n# List of Medicines in NLEM 2011 – Category Wise\n---\nPREAMBLE\n\nEssential medicines are those that satisfy the priority healthcare needs of the majority of the population. The essential medicines list needs to be country-specific addressing the disease burden of the nation and the commonly used medicines at primary, secondary, and tertiary healthcare levels. The medicines in the National List of Essential Medicines (NLEM) should be available at affordable costs and with assured quality. The medicines used in the various national health programs, emerging and reemerging infections should be addressed in the list. The Government of India, Ministry of Health & Family Welfare (MOHFW) is mandated to ensure the quality healthcare system by assuring availability of safe and efficacious medicines for its population.\n\nThe primary purpose of NLEM is to promote rational use of medicines considering the three important aspects i.e. cost, safety, and efficacy. Furthermore, it promotes prescription by generic names. Healthcare delivery institutions, health insurance bodies, standards setting institutions for medicines, medicine price control bodies, health economists, and other healthcare stakeholders will be immensely benefitted in framing their policies.\n\nPage 4 of 123\n---\nThe NLEM 2011 has been prepared after several rounds of wide consultations with experts of different disciplines from different parts of the country and from various organizations.\n\nThe NLEM is a dynamic document and feedback from all stakeholders is welcome which will help in its revision at regular basis.\n\nThe core committee of NLEM 2011 would like to place on record its appreciation for the subject experts who made a significant contribution in revision and updating the list of essential medicines of India.\n\nPage 5 of 123\n---\n# EXECUTIVE SUMMARY\n\nThe National list of essential medicines is one of the key instruments in balanced healthcare delivery system of a country which inter alia includes accessible, affordable quality medicine at all the primary, secondary, tertiary levels of healthcare. Realizing this GOI, MOHFW decided to have its own essential medicines list. The first National List of Essential Medicines of India was prepared and released in 1996. This list was subsequently revised in 2003.\n\nTo address the issues of changing disease prevalence, treatment modalities, introduction of newer medicines and identification of unacceptable risk-benefit profile as well as therapeutic profile of some medicines, the GOI, MOHFW considered the need for updating the NLEM.\n\nRevision of NLEM was also based on the two important national reference documents i.e., Indian Pharmacopeia 2010 and National Formulary of India, 4th Edition, 2010. While the former deals with the standards of identity, purity and strength of medicines the later provides the information on rational use of medicines particularly for healthcare professionals.\n\nPage 6 of 123\n---\nProf. Y. K. Gupta, Head, Department of Pharmacology, All India Institute of Medical Sciences, New Delhi\nProf. S.K. Sharma, Head, Department of Medicine, All India Institute of Medical Sciences, New Delhi\nDr. T.S. Sidhu, Medical Superintendent, Dr. Ram Manohar Lohia Hospital, New Delhi\nDr. A. K. Harit (Chief Medical Officer) representing DDG (M), Dte. GHS, Ministry of Healp & Family Welfare, New Delhi\nDr. D. Kanungo, Addl. DG (Stores) Dte. GHS, Ministry of Healp & Family Welfare, New Delhi\nDr. Chander Shekhar, Scientist F, Indian Council of Medical Research, New Delhi\nDr. Sukarma S. Tanwar, National AIDS Control Organization, New Delhi\nMr. V. K. Tyagi, Deputy Industrial Advisor, Department of Pharmaceuticals, Ministry of Chemicals and Fertilizers, New Delhi\n---\n# Dr. G. N. Singh, Secretary-cum-Scientific Director, Indian Pharmacopoeia Commission, Ghaziabad\n\n# Dr. Surinder Singh, Drugs Controller General (India), Dte.GHS, Ministry of Health & Family Welfare, New Delhi\n\nThe first meeting of the core committee of NLEM was held at CDSCO on July 22, 2010. The meeting was initiated by DCGI, Dr. Surinder Singh, Dr. Y. K. Gupta, Professor & Head, Department of Pharmacology, AIIMS, New Delhi was unanimously nominated as chairman of the Committee.\n\nDuring this meeting the core committee was informed that the CDSCO had already taken an initiative in this direction and organized a workshop entitled “Expert Group Meeting on Revision and Updating of the National List of Essential Medicines” on September 16, 2009 in collaboration with Department of Pharmacology, AIIMS and WHO India Office. The workshop was attended by representatives from the following: CDSCO, Ministry of Health; WHO; All India Institute of Medical Sciences, New Delhi; Indian Pharmacopoeia Commission; Indian Council of Medical Research and experts of different disciplines from leading medical and pharmacy institutions of the country.\n\nThe issue of updating NLEM was also deliberated in a dedicated session during the Annual Conference of Indian Pharmacological Society, December 2009 at Page 8 of 123.\n---\nKolkata and the session was chaired by Prof. Y K Gupta, AIIMS and Dr. K Weerasuriya, WHO-SEARO. The core committee took note of the proceedings of these two meetings while revising the NLEM.\n\nIn this core committee meeting it was deliberated that although WHO has prepared an updated list of “Essential Medicines”, it cannot be adopted as such. The NLEM of India should be country specific considering the disease prevalence, cost effectiveness of Medicines etc in the country.\n\nIn the meeting the criteria for inclusion/ deletion of medicines were developed and a road map for the revision and updating of NLEM, 2003 was drawn.\n\nSh. V. K. Tyagi from Department of Pharmaceuticals (DoP), Ministry of Chemicals & Fertilizers emphasized the importance of NLEM in view of the directions of the Hon’ble Supreme Court of India. He also mentioned that DoP may rely on the NLEM prepared by MOH &FW for price fixation.\n\nDuring the meeting it was felt that opinion/views may be taken from across the country by organizing brainstorming regional workshops. However, considering the logistics and time constraints it was decided that a National consultation meet should be organized in Delhi inviting experts from various specialties and from different parts of the country.\n\nPage 9 of 123\n---\nAccordingly “National Consultation Meet for Revision of National List of Essential Medicines” was organized by Department of Pharmacology, AIIMS & Central Drugs Standard Control Organization (CDSCO), Ministry of Health and Family Welfare on December 3-4, 2010. The meet was supported by WHO India office. Experts from different disciplines from medical and pharmaceutical institutes, hospitals from across the country and concerned government agencies participated. After initial briefing, four groups were formed according to therapeutic areas. The groups were asked to specifically give the reasons/evidence which guided their decision regarding addition/deletion/alteration. Subsequently the recommendations of the individual groups were discussed in the open house. Thereafter the draft recommendations of the Workshop were prepared with general consensus. The recommendations of the Workshop were further deliberated upon by the Expert Core Committee on 4th Jan 2011 and 31st Jan 2011 at CDSCO. The revised NLEM 2011 has thus been prepared.\n\nThe Expert Core Committee recommended that all the medicines which are being provided under various National Health Programmes are considered as essential medicines.\n\nPage 10 of 123\n---\nSalient features of NLEM 2011:\n\nThe medicines have been categorized according to therapeutic area. Therefore it is possible that a medicine with more than one indication appears in more than one category.\n\nThe issue of mentioning the strength of the medicine dose was deliberated. The committee took the considered view that the strength should be mentioned in the NLEM.\n\nFor essentiality of requirement the medicines have been categorized as follows:\n\nP, S and T denote essentiality at Primary, Secondary and Tertiary levels respectively while P, S, T (U in NLEM 2003) indicates essentiality at all pe levels.\n\nA total of 348 medicines (excluding repetitions) are present in NLEM 2011. In the NLEM 2011, 181 medicines fall under the category of P, S and T, 106 medicines fall under the category of S, T while 61 medicines are categorized as T only. In comparison to NLEM 2003, number of medicines deleted is 47 and 43 medicines have been added.\n\nPage 11 of 123\n---\n# The meetings/deliberations of core committee/National consultation meetings held for preparing the National List of Essential Medicines 2011\n\n# Core Committee Meetings\n\n1. The first meeting was held at CDSCO, FDA Bhawan on July 22, 2010\n2. The second meeting was held at CDSCO, FDA Bhawan on January 4, 2011\n3. The pird meeting was held at CDSCO, FDA Bhawan on 31st Jan, 2011\n\n# National Consultation Meetings\n\n1. The first consultation meet was held on September 16, 2009 at Department of Pharmacology, AIIMS, New Delhi\n2. The second National consultation meet was held on December 3-4, 2010 at Department of Pharmacology, AIIMS, New Delhi\n\n# Other Deliberations:\n\n1. A dedicated session on National Essential Medicine List was organized during 42nd Annual conference of Indian Pharmacological Society, on 11p December, 2009 at Swabhumi, Kolkata\n---\n# PROCESS ADOPTED FOR REVISION OF NLEM\n\nNational List of Essential Medicines 2003\n\n(Base document)\n\nConsultation meetings with Experts\n\nDeliberation on Evidence based criteria for addition and deletion of medicines from the NLEM\n\nTherapeutic area wise group discussion\n\n(Group composition: Clinicians, Pharmacologists, Pharmacists, Scientists and Regulators)\n\nREVISION PROCESS contd...\n\nPage 13 of 123\n---\nPresentation by groups in open house discussion\n\nResource Support:\n\n- Scientists, Senior Residents, Junior Residents and PhD Scholar of Dept of Pharmacology, AIIMS, New Delhi\n\nDeliberations/ discussion and reasoning for additions/deletions/modifications\n\nDraft recommendations for NLEM\n\nConsideration and adoption of NLEM by the Core Committee\n\nResource Materials:\n\n- WHO Model List of Essential Medicines 2010\n- WHO model formulary\n- National Formulary of India 2010 (Pre print Version)\n- Textbooks of Pharmacology, Internal Medicine\n- Drug compendia\n- Indian Pharmacopoeia\n- Internet facility\n\nPage 14 of 123\n---\nThe concept of essential medicines, first introduced by WHO in 1977, has now been adopted by many countries, non-governmental organizations and international non-profit supply agencies. The list is considered to include the most cost-effective medicines for a particular indication. It is developed in concordance with the standard treatment guidelines keeping in mind the healthcare needs of the majority of the population. Careful selection of a limited range of essential medicines results in a higher quality of care, better management of medicines and more cost-effective use of health resources.\n\nThe list of essential medicines guides the hospital drug policies, procurement and supply of medicines in the public sector, medicine cost reimbursement, and medicine donations. It helps in monitoring the pricing of medicines. The list serves as a reference document for correct dosage form and strength for prescribing. Preference is given to single drug formulations as opposed to fixed-dose combinations where appropriate. Hence use of NLEM is expected to improve prescribing practices as well as the health outcomes. The appropriate use of medicines selected in the NLEM promotes rational use of medicines. Such rational use of medicines, especially antimicrobial drugs, reduces the development of drug resistance. The list also serves as a reference for assessing the healthcare access of the populace. Lastly, NEML serves as a tool for public education and training of healthcare providers.\n---\n|S.No|NAME|AFFILIATION|Specialization/Department|Meeting held on September 16, 2009|Meeting held on December 3-4, 2010|\n|---|---|---|---|---|---|\n|1.|A B RAMTEKE|Joint Drug Controller (India), CDSCO, FDA Bhawan, Kotla Road, New Delhi|Regulatory Body|✓|✓|\n|2.|A K PRADHAN|Assistant Drug Controller, CDSCO, FDA Bhawan, Kotla Road, New Delhi|Regulatory Body|✓|✓|\n|3.|ANANT MOHAN|Associate Professor, Dept. of Medicine, AIIMS, New Delhi|Medicine|✓|✓|\n|4.|ARTI KAPIL|Professor, Dept of Microbiology, AIIMS, New Delhi|Microbiology|✓|✓|\n|5.|ARUN K AGARWAL|Dean and Director Professor, Department of ENT, Maulana Azad Medical College, New Delhi|ENT|--|✓|\n|6.|ASEEM SAHU|Technical Officer, CDSCO, FDA Bhawan, Kotla Road, New Delhi|Regulatory Body|✓|✓|\n|7.|BALRAM BHARGAVA|Professor, Dept. of Cardiology, AIIMS, New Delhi|Cardiology|✓|---|\n---\n|S.No|NAME|AFFILIATION|Specialization/Department|held on September 16, 2009|held on December 3-4, 2010|\n|---|---|---|---|---|---|\n|8.|BIKASH MEDHI|Department of Pharmacology, PGIMER, Chandigarh|Pharmacology|✓|✓|\n|9.|BISWA MOHAN PADHY|Department of Pharmacology HIMSR, Jamia Hamdard|Pharmacology|√|✓|\n|10.|C D TRIPATHI|Dept. of Pharmacology, Vardhman Medical College and Hospital, New Delhi|Pharmacology|✓|--|\n|11.|D K SHARMA|AIIMS, New Delhi|Medicine|✓|✓|\n|12.|D. KANUNGO|DGHS, MOHFW, Nirman Bhawan, New Delhi|MOHFW|--|✓|\n|13.|DEEPIKA DEKA|Dept. of Obstetrics & Gynaecology, AIIMS, New Delhi|Gynaecology|✓|--|\n|14.|PARTHASARATHI|JSS College of Pharmacy and JSS Medical College Mysore|Dept. of Clinical Pharmacy Pharmacy|---|✓|\n|15.|GAURAV KUMAR|CDSCO, FDA Bhawan, Kotla Road, New Delhi|Regulatory Body|✓|✓|\n---\n|S.No|NAME|AFFILIATION|Specialization/Department|Meeting held on September 16, 2009|Meeting held on December 3-4, 2010|\n|---|---|---|---|---|---|\n|16.|GN SINGH|Indian Pharmacopeia Commission, Govt of India, Ghaziabad|Pharmacy|--|✓|\n|17.|JAGRITI BHATIA|Dept. of Pharmacology, AIIMS, New Delhi|Pharmacology|✓|√|\n|18.|JAI PRAKASH|Indian Pharmacopoea Commission, Govt of India, Ghaziabad|Pharmacy|✓|✓|\n|19.|JANARDAN PANDEY|Department of AYUSH, Ministry of health and Family Welfare, Govt of India|MOHFW|---|✓|\n|20.|JATINDER KATYAL|Dept. of Pharmacology, AIIMS, New Delhi|Pharmacology|✓|✓|\n|21.|JITENDRA|Department of Hospital Administration, AIIMS, New Delhi|Hospital Administration|--|✓|\n|22.|K D BARMAN|Department of Dermatology & STD, Maulana Azad Medical College, New Delhi|Dermatology and STD|--|✓|\n|23.|K H REETA|Dept. of Pharmacology, AIIMS, New Delhi|Pharmacology|✓|✓|\n\nPage 18 of 123\n---\n|S.No|NAME|AFFILIATION|Specialization/Department|Meeting held on September 16, 2009|Meeting held on December 3-4, 2010|\n|---|---|---|---|---|---|\n|24.|K K PANT|Dept. of Pharmacology, CSM Medical College and Hospital, Lucknow|Pharmacology|✓|✓|\n|25.|K K SHARMA|Dept. of Pharmacology, UCMS, New Delhi|Pharmacology|✓|---|\n|26.|K WEERASURIYA|Regional Adviser Essential Drugs and Medicines Policy World Health Organization – SEARO|Clinical Pharmacology|✓|--|\n|27.|KAMAL KISHORE|Dept. of Pharmacology, AIIMS, New Delhi|Pharmacology|✓|--|\n|28.|M C GUPTA|Dept. of Pharmacology, PGIMS, Rohtak, Haryana|Pharmacology|✓|--|\n|29.|MADHUR GUPTA|WHO country office for India|Clinical Pharmacology|--|✓|\n|30.|MADHURI BEHARI|Dept. of Neurology, AIIMS, New Delhi|Neurology|✓|✓|\n|31.|MANJARI TRIPATHI|Dept. of Neurology, AIIMS, New Delhi|Neurology|✓|--|\n\nPage 19 of 123\n---\n|S.No|NAME|AFFILIATION|Specialization/Department|held on September 16, 2009|held on December 3-4, 2010|\n|---|---|---|---|---|---|\n|32.|MK DAGA|Department of Medicine, Maulana Azad Medical College, New Delhi|Medicine|---|✓|\n|33.|MPS CHAWLA|Department of Medicine, RML Hospital, New Delhi|Medicine|---|✓|\n|34.|MUKUL MATHUR|Dept. of Pharmacology, SMS Medical college, Jaipur|Pharmacology|---|✓|\n|35.|N R BISWAS|Dept. of Pharmacology, AIIMS, New Delhi|Clinical Pharmacology|✓|--|\n|36.|NARESH KHANNA|Dept. of Pharmacology, UCMS, New Delhi|Pharmacology|✓|✓|\n|37.|NASEEM SHAH|Chief, Professor and Head, Centre for Dental Education and Research, AIIMS, New Delhi|Dental Medicine|✓|---|\n|38.|AJOY ROYCHAUDHURY|Associate Professor, Centre for Dental Education and Research, AIIMS, New Delhi|Dental Medicine|---|✓|\n|39.|NEENA MALHOTRA|Department of Obstretics and Gynaecology, AIIMS, New Delhi|Obstetrics and gynecology|---|✓|\n|40.|NEENA VALECHA|Dy. Director, National Institute of Malaria Research, Dwarka, New Delhi|Pharmacology and Malaria expertise|✓|-√--|\n---\n|S.No|NAME|AFFILIATION|Specialization/Department|held on September 16, 2009|held on December 3-4, 2010|\n|---|---|---|---|---|---|\n|41.|O P AGARWAL|Indian Council of Medical Research, New Delhi|Pharmacology|✓|---|\n|42.|P K MEDIRATTA|Dept. of Pharmacology, UCMS, New Delhi|Pharmacology|✓|✓|\n|43.|P USHA RANI|Nizams Institute of Medical Sciences, Hyderabad|Clinical Pharmacology|---|✓|\n|44.|PRAMIL TIWARI|Dept. of Pharmacy Practice, NIPER, SAS Nagar, Mohali, Punjab|Pharmacy|✓|---|\n|45.|PRAMOD GARG|Department of Gastroenterology and Human Nutrition, AIIMS, New Delhi|Physician|---|✓|\n|46.|PRAVEEN AGGARWAL|Dept. of Emergency Medicine, AIIMS, New Delhi|Medicine|✓|✓|\n|47.|R C DEKA|AIIMS, New Delhi.|Health Administrator and ENT|✓|√---|\n|48.|R K BATRA|Dept. of Anaesthesia and Intensive Care, AIIMS, New Delhi|Anaesthesia|✓|✓|\n\nPage 21 of 123\n---\n|S.No|NAME|AFFILIATION|Specialization/Department|Meeting held on September 16, 2009|Meeting held on December 3-4, 2010|\n|---|---|---|---|---|---|\n|49.|RAJENDRA PRASAD|Dept of Pulmonary Medicine, CSM Medical College and Hospital, Lucknow|Pulmonary medicine|---|✓|\n|50.|RAJNI KAUL|Indian Council of Medical Research, New Delhi|Basic Scientist|✓|---|\n|51.|RAKESH CHADDHA|Department of Psychiatry, AIIMS|Psychiatry|---|✓|\n|52.|RAKESH YADAV|Dept of Cardiology, AIIMS, New Delhi|Cardiology|✓|✓|\n|53.|RESHU AGARWAL|Programme Officer (CST), NACO, New Delhi|Medicine|---|✓|\n|54.|ROHIT SAXENA|Associtate Professor, Dr. R P Centre for Opthalmic Sciences, AIIMS|Ophthalmology|---|✓|\n|55.|S K TRIPATHI|Professor and Head, Dept. of Clinical Pharmacology, School of Tropical Medicine, Kolkata, WB|Clinical Pharmacology|✓|✓|\n|56.|SAMEER BAKSHI|Associate Professor, Medical Oncology, IRCH, AIIMS, New Delhi|Medical Oncology|✓|✓|\n\nPage 22 of 123\n---\n|S.No|NAME|AFFILIATION|Specialization/Department|Meeting held on September 16, 2009|Meeting held on December 3-4, 2010|\n|---|---|---|---|---|---|\n|57.|SANDEEP KAUSHAL|Department of Pharmacology, Dayanand Medical College, Ludhiana|Pharmacology|✓|---|\n|58.|SANGEETA SHARMA|Dept of Neuropsycho Pharmacology, IHBAS, Delhi|Clinical Pharmacology|✓|✓|\n|59.|SANJAY KR. RAI|Centre for Community Medicine AIIMS, New Delhi.|Community Medicine|---|✓|\n|60.|SEEMA DUBEY|Institute of Liver and Biliary Sciences New Delhi|Pharmacy|---|✓|\n|61.|SHAKTI GUPTA|R.P. Centre for Ophthalmic Sciences & Head, Dept. of Hosp. Administration, AIIMS, New Delhi|Hospital Administration|✓|✓|\n|62.|SHARDA PESHIN|Dept. of Pharmacology, AIIMS, New Delhi|Toxicology|✓|✓|\n|63.|SHRIDHAR DWIVEDI|Department of Medicine UCMS, New Delhi|Medicine|---|✓|\n\nPage 23 of 123\n---\n|S.No|NAME|AFFILIATION|Specialization/Department|Meeting held on September 16, 2009|Meeting held on December 3-4, 2010|\n|---|---|---|---|---|---|\n|64.|SHYAM SUNDER SHARMA|Department of Pharmacology, NIPER, Mohali|Pharmacology|---|✓|\n|65.|SK MAULIK|Department of Pharmacology AIIMS, New Delhi|Pharmacology|---|✓|\n|66.|SK PRADHAN|DGHS, MOHFW New Delhi|Community Medicine|---|✓|\n|67.|SUNIL KULSHESTRA|CDSCO, FDA Bhawan, Kotla Road, New Delhi|Pharmacy Regulatory Body|✓|✓|\n|68.|SUNIL NANDRAJ|National Professional Officer (Health Systems Development), WHO, New Delhi|World Health Organization|✓|---|\n|69.|SURENDER SINGH|Dept. of Pharmacology, AIIMS, New Delhi|Pharmacy and Pharmacology|✓|✓|\n|70.|T.S. SIDHU|Medical Superintendent, RML Hospital, New Delhi|ENT surgeon and Hospital Administration|---|✓|\n|71.|TUSHAR AGGARWAL|Assistant Professor, Department of Ophthalmology AIIMS, New Delhi|Ophthalmology|---|✓|\n|72.|U S GARG|Department of Hospital Administration, AIIMS, New Delhi|Hospital Administration|---|✓|\n\nPage 24 of 123\n---\n|S.No|NAME|AFFILIATION|Specialization/Department|Meeting held on September 16, 2009|Meeting held on December 3-4, 2010|\n|---|---|---|---|---|---|\n|73.|UMA TEKUR|Maulana Azad Medical College, New Delhi|Professor & Head, Department of Pharmacology|---|✓|\n|74.|V K PAUL|AIIMS, New Delhi|Professor & Head, Department of Pediatrics|✓|---|\n|75.|V. K. TYAGI|Ministry of Chemical & Fertilisers, New Delhi|Deputy Industrial Advisor, Dept. of Pharmaceuticals, Ministry of Chemicals & Fertilizers|---|✓|\n|76.|VANDANA JAIN|AIIMS, New Delhi|Assistant Professor, Dept. of Pediatrics|✓|---|\n|77.|VIJAY KUMAR|Indian Council of Medical Research, New Delhi|Scientist F, Health administrator|✓|---|\n|78.|VINAY GULATI|AIIMS, New Delhi|Assistant Professor, Department of Medicine|✓|---|\n|79.|VINOD RAINA|AIIMS, New Delhi|Professor and Head, Medical Oncology, Institute Cancer Rotary Hospital (IRCH)|✓|---|\n| |VISHAL KUMAR MALHOTRA|Chacha Nehru Bal Chikitsalaya, New Delhi|Medical Officer, Pediatrics|---|✓|\n---\n|S.No|NAME|AFFILIATION|Specialization/Department|held on September 16, 2009|held on December 3-4, 2010|\n|---|---|---|---|---|---|\n|81.|VIVEK ARYA|Department of Medicine, PGIMER, Dr. RML Hospital, New Delhi|Medicine|---|✓|\n|82.|Y K GUPTA|Dept of Pharmacology, AIIMS, New Delhi|Pharmacology|✓|✓|\n|83.|YASHPAL SHARMA|Department of Cardiology, PGIMER, Chandigarh|Cardiology|---|✓|\n|84.|Pooja Gupta|Department of Pharmacology, AIIMS, New Delhi|Clinical Pharmacology|✓|✓|\n|85.|Ashish Kumar Kakkar|Department of Pharmacology, AIIMS, New Delhi|Clinical Pharmacology|---|✓|\n|86.|Sudhir Chandra Sarangi|Department of Pharmacology, AIIMS, New Delhi|Clinical Pharmacology|✓|✓|\n|87.|Saravana Perumal S|Department of Pharmacology, AIIMS, New Delhi|Pharmacy|✓|✓|\n---\n|S.No.|Name of the medicine|\n|---|---|\n|1.|25% Dextrose|\n|2.|5-Amino salicylic Acid (5-ASA)|\n|3.|Allopurinol|\n|4.|Amoxicillin+Clavulinic acid|\n|5.|Atorvastatin|\n|6.|Betamethasone|\n|7.|Carboplatin|\n|8.|Cefixime|\n|9.|Cetrizine|\n|10.|Chlorambucil|\n|11.|Clindamycin|\n|12.|Clopidogrel|\n|13.|Dacarbazine|\n|14.|Daunorubicin|\n|15.|Diazepam|\n|16.|EMLA cream|\n|17.|Enoxaparin|\n|18.|Famotidine|\n|19.|Fentanyl|\n|20.|Filgrastim|\n|21.|Hydroxychloroquine phosphate|\n|22.|Ifosfamide|\n|23.|Imatinib|\n---\n|24.|Ipratropium bromide|\n|---|---|\n|25.|Leflunomide|\n|26.|Lorazepam|\n|27.|Mefloquine|\n|28.|Mesna|\n|29.|Misoprostol|\n|30.|N-acetylcysteine|\n|31.|Olanzapine|\n|32.|Oxaliplatin|\n|33.|Pantoprazole|\n|34.|Permethrin|\n|35.|Piperazine|\n|36.|Premix Insulin 30:70 injection|\n|37.|Propofol|\n|38.|Sevoflurane|\n|39.|Stavudine+Lamivudine|\n|40.|Tramadol|\n|41.|Vecuronium|\n|42.|Zidovudine+Lamivudine+Nevirapine|\n|43.|Zinc Sulfate|\n---\n|S.No.|Name of the medicine|\n|---|---|\n|1.|Acenocoumarol|\n|2.|Aminophylline|\n|3.|Benzoic Acid + Salicylic Acid|\n|4.|Benzylpenicillin|\n|5.|Bretylium Tosylate|\n|6.|Cefuroxime|\n|7.|Centchroman|\n|8.|Chloramphenicol|\n|9.|Chlorthalidone|\n|10.|Clarithromycin|\n|11.|Clomipramine hydrochloride|\n|12.|Clonidine Hydrochloride|\n|13.|Doxapram|\n|14.|Ethyl Chloride|\n|15.|Flucytosine|\n|16.|Furazolidone|\n|17.|Gamma Benzene Hexachloride|\n|18.|Isoprenaline Hydrochloride|\n|19.|Isoxsuprine hydrochloride|\n|20.|Ketoconazole|\n|21.|Loperamide|\n|22.|Mebendazole|\n\nPage 29 of 123\n---\n|S.No.|Name of the medicine|\n|---|---|\n|23.|Menadione Sodium Sulphite|\n|24.|Mexiletine Hydrochloride|\n|25.|Nalidixic Acid|\n|26.|Niclosamide|\n|27.|Nitrazepam|\n|28.|Norfloxacin|\n|29.|Pancuronium|\n|30.|Pentazocine|\n|31.|Pethidine Hydrochloride|\n|32.|Physostigmine Salicylate|\n|33.|Procaine Benzylpenicillin|\n|34.|Prochlorperazine|\n|35.|Pyrantel Pamoate|\n|36.|Quinidine|\n|37.|Roxithromycin|\n|38.|Silver Nitrate|\n|39.|Terazosin|\n|40.|Tetracycline|\n|41.|Tetracycline Hydrochloride|\n|42.|Theophyline compounds|\n|43.|Thiacetazone + Isoniazid|\n|44.|Tinidazole|\n|45.|Trifluoperazine|\n---\n|S.No.|Name of the medicine|\n|---|---|\n|46.|Trimethoprim|\n|47.|Xylometazoline|\n\nPage 31 of 123\n---\n|Medicines|Category|Route of Administration/Dosage Form|Strengths|\n|---|---|---|---|\n|Ether|S, T|Inhalation|--|\n|Halothane with vaporizer|S, T|Inhalation| |\n|Isoflurane|S, T|Inhalation| |\n|Ketamine Hydrochloride|P, S, T|Injection|10 mg / ml, 50 mg / ml|\n|Nitrous Oxide|P, S, T|Inhalation| |\n|Oxygen|P, S, T|Inhalation| |\n|Thiopentone Sodium|S, T|Injection|0.5 g, 1 g powder|\n|Sevoflurane|T|Inhalation| |\n|Propofol|P, S, T|Injection|1% oil suspension|\n\n|Medicines|Category|Route of Administration/Dosage Form|Strengths|\n|---|---|---|---|\n|Bupivacaine Hydrochloride|S, T|Injection|0.25%, 0.5%, 0.5% to be mixed with 7.5% glucose solution|\n---\n# Topical Forms\n\n|Lignocaine Hydrochloride|P, S, T|Injection|1-2%|\n|---|---|---|---|\n| | |Spinal|5% + 7.5% Glucose|\n\n# Added Medicines\n\nEMLA cream\nT\nCream\n\n# 1.3 Preoperative Medication and Sedation for Short Term Procedures\n\n|Medicines|Category|Route of Administration/Dosage Form|Strengths|\n|---|---|---|---|\n|Atropine Sulphate|P, S, T|Injection|0.6 mg / ml|\n| |P, S, T|Tablets|5 mg|\n|Diazepam|S, T|Syrup|2mg/5ml|\n| | |Suppository|5 mg|\n| | | |1 mg / ml|\n|Midazolam|P, S, T|Injection|5 mg / ml|\n|Morphine Sulphate|S, T|Injection|10 mg / ml|\n|Promethazine|P, S, T|Syrup|5 mg / 5 ml|\n\nPage 33 of 123\n---\n# Section: 2 - Analgesics, Antipyretics, Nonsteroidal Anti-inflammatory Medicines, Medicines used to treat Gout and Disease Modifying Agents used in Rheumatoid Disorders\n\n|Medicines|Category|Route of Administration/Dosage Form|Strengths|\n|---|---|---|---|\n|Acetyl Salicylic Acid|P, S, T|Tablets|325mg, 350 mg|\n|Diclofenac|T|Tablets|50 mg|\n|Diclofenac|T|Injection|25 mg/ml|\n|Diclofenac|P, S, T|Tablets|200 mg, 400 mg|\n|Ibuprofen|P, S, T|Syrup|100mg/5ml|\n|Ibuprofen|P, S, T|Injection|150 mg/ml|\n|Paracetamol|P, S, T|Syrup|125 mg/5ml|\n|Paracetamol|P, S, T|Tablets|500 mg|\n|Paracetamol|P, S, T|Suppository|80 mg, 170 mg|\n\n# 2.2 Opioid Analgesics\n\n|Medicines|Category|Route of Administration/Dosage Form|Strengths|\n|---|---|---|---|\n|Morphine Sulphate|S, T|Injection|10 mg/ml|\n|Morphine Sulphate|S, T|Tablets|10 mg|\n|Tramadol|S, T|Injection|50 mg/ml|\n|Tramadol|S, T|Cap|50 mg, 100 mg|\n|Fentanyl|S, T|Injection|50μg/ml 2ml ampoule|\n---\n# Medicines used to treat Gout\n\n|Allopurinol|S, T|Tablets|100 mg|\n|---|---|---|---|\n|Colchicine|S, T|Tablets|0.5 mg|\n\n# Disease modifying agents used in Rheumatoid disorders\n\n|Azathioprine|S, T|Tablets|50 mg|\n|---|---|---|---|\n|Methotrexate|S, T|Tablets|5mg, 7.5mg, 10mg|\n|Sulfasalazine|S, T|Tablets|500 mg|\n\n# Added medicines\n\n|Hydroxychloroquine phosphate|S, T|Tablets|200 mg|\n|---|---|---|---|\n|Leflunomide|S, T|Tablets|10mg ,20 mg tab|\n\n# Antiallergics and Medicines used in Anaphylaxis\n\n|Medicines|Category|Route of Administration/Dosage Form|Strengths|\n|---|---|---|---|\n|Adrenaline Bitartrate|P, S, T|Injection|1 mg / ml|\n|Chlorpheniramine Maleate|P, S, T|Tablets|4 mg|\n|Dexchlorpheniramine Maleate|P, S, T|Syrup|0.5 mg / 5 ml|\n|Dexamethasone|P, S, T|Tablets|0.5 mg|\n|Dexamethasone|P, S, T|Injection|4 mg / ml|\n|Hydrocortisone Sodium Succinate|P, S, T|Injection|100 mg|\n|Pheniramine Maleate|P, S, T|Injection|22.75 mg / ml|\n|Prednisolone|P, S, T|Tablets|5 mg, 10 mg, 20 mg|\n|Promethazine|P, S, T|Tablets|10 mg, 25 mg|\n|Promethazine|P, S, T|Syrup|5 mg / 5 ml|\n\n# Added Medicines\n\n|Cetrizine|P, S, T|Tablets|10mg|\n|---|---|---|---|\n|Cetrizine|P, S, T|Syrup|5 mg/ml|\n---\n|Medicines|Category|Route of Administration/Dosage Form|Strengths|\n|---|---|---|---|\n|Activated Charcoal|P,S,T|Oral| |\n|Atropine Sulphate|P,S,T|Injection|1 mg/ml|\n|Specific Antisnake venom|P,S,T|Injection Polyvalent Solution/ Lyophilyzed Polyvalent Serum| |\n|Calcium gluconate|P,S,T|Injection|100mg/ml|\n|Desferrioxamine mesylate|S, T|Injection|500mg|\n|Methylthioninium chloride (Methylene blue)|S, T|Injection|10 mg / ml|\n|Penicillamine|S, T|Tablets or Capsules|250 mg|\n|Dimercaprol|S, T|Injection in oil|50 mg / ml|\n|Flumazenil|T|Injection|0.1 mg / ml|\n|Sodium Nitrite|S, T|Injection|30 mg / ml|\n|Sodium Thiosulphate|S, T|Injection|250 mg/ ml|\n|Naloxone|P,S,T|Injection|0.4mg/ml|\n|Pralidoxime Chloride(2-PAM)|P,S,T|Injection|25 mg/ml|\n|N-acetylcysteine|P,S,T|Injection|200 mg/ml (5 ml)|\n---\n|Medicines|Category|Strengths|Dosage Form|\n|---|---|---|---|\n|Carbamazepine|P, S, T|Tablets|100mg|\n| | |Syrup|200mg|\n| | | |100 mg/5ml|\n|Diazepam|P, S, T|Injection|5 mg / ml|\n|Magnesium sulphate|S, T|Injection|500 mg /ml|\n|Phenobarbitone|P, S, T|Tablets|30 mg, 60 mg|\n| | |Injection|200 mg/ml|\n| | |Syrup|20 mg/5ml|\n|Phenytoin Sodium|P, S, T|Capsules or Tablets|50 mg|\n| | |Syrup|100mg|\n| | |Injection|25mg/ml|\n| | | |50 mg/ml|\n|Sodium Valproate|P, S, T|Tablets|200 mg|\n| | |Syrup|500mg|\n| | | |200 mg/5ml|\n| |T|Injection|100 mg/ml|\n|Lorazepam|T|Injection|2mg/ml|\n---\n# Section: 6 – Anti-infective Medicines\n\n# 6.1 Anthelminthics\n\n|Medicines|Category|Route of Administration/Dosage Form|Strengths|\n|---|---|---|---|\n|Albendazole|P,S,T|Tablets|400 mg|\n| | |Suspension|200 mg/5 ml|\n|Piperazine|P,S,T|Tablets|4.5 gm|\n| | |Solution|750 mg/5 ml|\n\n# 6.1.2 Antifilarials\n\n|Medicines|Category|Route of Administration/Dosage Form|Strengths|\n|---|---|---|---|\n|Diethylcarbamazine citrate|P,S,T|Tablets|50 mg|\n\n# 6.1.3 Antischistosomals and Antitrematode Medicines\n\n|Medicines|Category|Route of Administration/Dosage Form|Strengths|\n|---|---|---|---|\n|Praziquantel|S, T|Tablets|600 mg|\n\n# 6.2 Antibacterials\n\n# 6.2.1 Beta lactam medicines\n\n|Medicines|Category|Route of Administration/Dosage Form|Strengths|\n|---|---|---|---|\n|Amoxicillin|S,T|Powder for suspension|125 mg / 5 ml|\n| | |Capsules|250 mg, 500 mg|\n|Ampicillin|P,S,T|Powder for suspension|125 mg / 5 ml|\n| | |Injection|500 mg|\n---\n# Antibacterials\n\n|Medicines|Category|Route of Administration/Dosage Form|Strengths|\n|---|---|---|---|\n|Amikacin|S, T|Injection|250 mg / 2 ml|\n|Azithromycin|S, T|Suspension|100mg/5ml|\n| | |Injection|500mg|\n|Ciprofloxacin Hydrochloride|P,S,T|Injection|200 mg /100 ml|\n| | |Tablets|250 mg, 500 mg|\n|Co-Trimoxazole (Trimethoprim + Sulphamethoxazole)|P,S,T|Tablets|80 + 400 mg, 160+800 mg|\n| | |Suspension|40 + 200 mg / 5 ml|\n\n# Added Medicines\n\n|Medicines|Category| | |\n|---|---|---|---|\n|Amoxicillin + Clavulinic acid|T|Tablets|625 mg|\n| | |Powder for suspension|228.5mg/5ml|\n| | |Injection|600mg, 1.2gm|\n|Cefixime|T|Tablet|100, 200mg|\n\n# Antibacterials\n\n|Medicines|Category|Route of Administration/Dosage Form|Strengths|\n|---|---|---|---|\n|Benzathine Benzylpenicillin|P,S,T|Injection|6 lacs, 12 lacs units|\n|Cefotaxime|S, T|Injection|125 mg, 250 mg, 500 mg|\n|Ceftazidime|S, T|Injection|250mg, 1g|\n|Ceftriaxone|S, T|Injection|250 mg, 1 g|\n|Cephalexin|P,S,T|Syrup|125 mg / 5 ml|\n| | |Capsules|250 mg, 500 mg|\n|Cloxacillin|P,S,T|Capsules|250 mg, 500 mg|\n| | |Injection|250 mg|\n| | |Liquid|125mg/ 5 ml|\n---\n# Antimicrobial Medicines\n\n|Medicines|Category|Route of Administration/Dosage Form|Strengths|\n|---|---|---|---|\n|Doxycycline|P,S,T|Tablets|100 mg|\n|Erythromycin Estolate|P,S,T|Tablets|250 mg, 500 mg|\n|Gentamicin|P,S,T|Injection|10 mg/ml, 40 mg/ml|\n|Metronidazole|P,S,T|Tablet|200 mg, 400 mg|\n| | |Injection|500 mg/100ml|\n| | |Syrup|100 mg/5ml|\n|Nitrofurantoin|P,S,T|Tablets|100 mg|\n|Sulphadiazine|S, T|Tablets|500 mg|\n|Vancomycin Hydrochloride|T|Injection|500 mg, 1 g|\n\n# Antileprosy Medicines\n\n|Medicines|Category|Route of Administration/Dosage Form|Strengths|\n|---|---|---|---|\n|Clofazimine|P,S, T|Capsules|50 mg, 100 mg|\n|Dapsone|P,S, T|Tablets|50 mg, 100 mg|\n|Rifampicin|P,S, T|Capsules or Tablets|150 mg, 300 mg|\n\n# Antituberculosis Medicines\n\n|Medicines|Category|Route of Administration/Dosage Form|Strengths|\n|---|---|---|---|\n|Ethambutol|P,S,T|Tablets|200 mg, 400 mg, 600 mg, 800 mg|\n| | |Tablets|50 mg, 100 mg, 300 mg|\n|Isoniazid|P,S,T|Syrup|100 mg/5ml|\n| | |Tablets|100 mg, 200 mg|\n|Ofloxacin|S, T|Syrup|50 mg/5 ml|\n| | |Tablets|500 mg, 750 mg, 1000 mg, 1500 mg|\n---\n|Medicines|Category|Route of Administration/Dosage Form|Strengths|\n|---|---|---|---|\n|Amphotericin B|S, T|Injection|50 mg|\n|Amphotericin B|S, T|Pessaries|100 mg, 200 mg|\n|Clotrimazole|P, S, T|Gel|2%|\n|Fluconazole|S, T|Capsules or Tablets|50 mg, 100 mg, 150 mg, 200 mg|\n|Griseofulvin|P, S, T|Capsules or Tablets|125 mg, 250 mg|\n|Nystatin|P, S, T|Pessaries|100,000 IU|\n\n|Medicines|Category|Route of Administration/Dosage Form|Strengths|\n|---|---|---|---|\n|Acyclovir|S, T|Tablets|200 mg, 400 mg|\n|Acyclovir|S, T|Injection|250 mg, 500 mg|\n|Acyclovir|S, T|Suspension|400 mg / 5 ml|\n\n|Medicines|Category|Route of Administration/Dosage Form|Strengths|\n|---|---|---|---|\n|Didanosine|S, T|Tablets|250 mg, 400 mg|\n---\n|Medicines|Category|Route of Administration/Dosage Form|Strengths|\n|---|---|---|---|\n|Lamivudine|S, T|Tablets|150 mg|\n|Lamivudine + Nevirapine + Stavudine|S, T|Tablets|150 mg + 200 mg + 30 mg|\n|Lamivudine + Zidovudine|S, T|Tablets|150 mg + 300 mg|\n|Stavudine|S, T|Capsules|15 mg, 30 mg, 40 mg|\n|Zidovudine|S, T|Tablets|100 mg, 300 mg|\n|Stavudine+ Lamivudine|S, T|Tablets|30 mg + 150 mg|\n|Zidovudine+ Lamivudine+ Nevirapine|S, T|Tablets|300 mg + 150 mg + 200 mg|\n|Efavirenz|S, T|Capsules|200 mg, 600 mg|\n|Nevirapine|S, T|Suspension|50 mg / 5 ml, 200 mg|\n|Indinavir|S, T|Capsules|200 mg, 400 mg|\n|Nelfinavir|S, T|Capsules|250 mg|\n|Ritonavir|S, T|Syrup|100 mg, 400 mg / 5 ml|\n|Saquinavir|S, T|Capsules|200 mg|\n---\n# 6.5 Antiprotozoal Medicines\n\n# 6.5.1 Antiamoebic and Antigiardiasis medicines\n\n|Medicines|Category|Route of Administration/Dosage Form|Strengths|\n|---|---|---|---|\n|Diloxanide Furoate|P,S,T|Tablets|500 mg|\n|Metronidazole|P,S,T|Tablets|200 mg, 400 mg|\n| | |Injection|500 mg / 100 ml|\n\n# 6.5.2 Antileishmaniasis medicines\n\n|Medicines|Category|Route of Administration/Dosage Form|Strengths|\n|---|---|---|---|\n|Amphotericin B|S, T|Injection|50 mg|\n|Pentamidine Isothionate|S, T|Injection|200 mg|\n|Sodium Stibogluconate|S, T|Injection|100 mg / ml|\n\n# 6.5.3 Antimalarial Medicines\n\n# 6.5.3.1 For curative treatment\n\n|Medicines|Category|Route of Administration/Dosage Form|Strengths|\n|---|---|---|---|\n|Artesunate (To be used only in combination with Sulfadoxine + Pyrimethamine)|P,S,T|Tablets|50 mg|\n|Chloroquine phosphate|P,S,T|Tablets|150 mg base|\n| | |Injection|40 mg / ml|\n| | |Syrup|50 mg / 5 ml|\n|Primaquine|P,S,T|Tablets|2.5 mg, 7.5 mg|\n|Pyrimethamine|P,S,T|Tablets|25 mg|\n|Quinine sulphate|ST|Injection|300 mg / ml|\n|Sulfadoxine + Pyrimethamine|P,S,T|Tablets|500 mg + 25 mg|\n---\n|Medicines|Category|Route of Administration/Dosage Form|Strengths|\n|---|---|---|---|\n|Clindamycin|S, T|Tablet|150, 300mg|\n|Mefloquine|S, T|Tablet|250 mg base|\n|Co-Trimoxazole (Trimethoprim + Sulphamethoxazole)|P, S, T|Tablets|80 + 400 mg, 160+800 mg|\n| | |Suspension|40 + 200 mg / 5 ml|\n|Pentamidine Isothionate|S, T|Injection|200 mg|\n---\n|Medicines|Category|Route of Administration/Dosage Form|Strengths|\n|---|---|---|---|\n|Acetyl Salicylic Acid|P, S, T|Tablets|300 - 350 mg|\n|Dihydroergotamine|S, T|Tablets|1 mg|\n|Paracetamol|P, S, T|Tablets|500 mg|\n\n|Medicines|Category|Route of Administration/Dosage Form|Strengths|\n|---|---|---|---|\n|Propranolol hydrochloride|P, S, T|Tablets|10 mg, 40 mg|\n---\n|Medicines|Category|Route of Administration/Dosage Form|Strengths|\n|---|---|---|---|\n|Azathioprine|T|Tablets|50 mg|\n|Cyclosporine|T|Capsules|10 mg, 25 mg, 50 mg, 100 mg|\n|Cyclosporine|T|Concentrate for Injection|100 mg/ml|\n\n|Medicines|Category|Route of Administration/Dosage Form|Strengths|\n|---|---|---|---|\n|Actinomycin D|T|Injection|0.5 mg|\n|Alpha Interferon|T|Injection|3 million IU|\n|Bleomycin|T|Injection|15 mg|\n|Busulphan|T|Tablets|2 mg|\n|Cisplatin|T|Injection|50 mg/vial|\n|Cisplatin|T|Tablets|50 mg, 200 mg|\n|Cyclophosphamide|T|Injection|500 mg|\n|Cytosine arabinoside|T|Injection|500 mg/vial, 1000 mg/vial|\n|Danazol|T|Capsules|50 mg, 100 mg|\n|Doxorubicin|T|Injection|10 mg, 50 mg|\n|Etoposide|T|Injection|100 mg/5 ml vial|\n---\n|Medicine|Type|Form|Strength|\n|---|---|---|---|\n|Flutamide|T|Tablet|250 mg|\n|5-Fluorouracil|T|Injection|250 mg / 5 ml|\n|Folinic Acid|T|Injection|3 mg / ml|\n|Gemcitabine hydrochloride|T|Injection|200 mg|\n|L-Asparaginase|T|Injection|5000 KU|\n|Melphalan|T|Tablet|2 mg, 5 mg|\n| | |Tablet|50 mg|\n|Mercaptopurine|T|Injection|100 mg / ml|\n| | |Tablet|2.5 mg|\n|Methotrexate|T|Injection|50 mg / ml|\n|Mitomycin-C|T|Injection|10 mg|\n|Paclitaxel|T|Injection|30 mg / 5 ml|\n|Procarbazine|T|Capsules|50 mg|\n|Vinblastine sulphate|T|Injection|10 mg|\n|Vincristine|T|Injection|1 mg / ml|\n|Carboplatin|T|Injection|150 mg, 450 mg vial|\n|Dacarbazine|T|Injection|500 mg|\n|Daunorubicin|T|Injection|20 mg vial|\n|Ifosfamide|T|Injection|1 gm/2ml vial|\n|Mesna|T|Injection|200 mg|\n|Oxaliplatin|T|Injection|50 mg vial|\n|Imatinib|T|Tablets|100 mg, 400 mg|\n|Chlorambucil|T|Tablets|2 mg|\n---\n# 8.3: Hormones and antihormones\n\n|Medicines|Category|Route of Administration/Dosage Form|Strengths|\n|---|---|---|---|\n|Prednisolone|S, T|Injection|20 mg, 25 mg (as sodium phosphate or succinate)|\n|Raloxifene|T|Tablets|60 mg|\n|Tamoxifen Citrate|T|Tablets|10 mg, 20 mg|\n\n# 8.4: Medicines used in palliative care\n\n|Medicines|Category|Route of Administration/Dosage Form|Strengths|\n|---|---|---|---|\n|Morphine Sulphate|T|Tablets|10 mg|\n|Morphine Sulphate| |Tablets|4 mg, 8 mg|\n|Ondansetron|S, T|Injection|2 mg/ml|\n|Ondansetron| |Syrup|2 mg/5 ml|\n\n# Added Medicines\n\n|Medicines|Category|Route of Administration/Dosage Form|Strengths|\n|---|---|---|---|\n|Filgrastim|T|Injection|1 ml vial|\n|Allopurinol|T|Tablets|100 mg|\n---\n|Medicines|Category|Route of Administration/Dosage Form|Strengths|\n|---|---|---|---|\n|Bromocriptine Mesylate|S, T|Tablets|1.25 mg, 2.5 mg|\n|Levodopa+ Carbidopa|P, S, T|Tablets|100 mg+10 mg, 250 mg+25 mg, 100 mg+25 mg|\n|Trihexyphenidyl Hydrochloride|P, S, T|Tablets|2 mg|\n\nPage 49 of 123\n---\n|Medicines|Category|Route of Administration/Dosage Form|Strengths|\n|---|---|---|---|\n|Cyanocobalamin|P, S, T|Injection|1 mg/ml|\n|Ferrous Sulphate/Fumarate|P, S, T|Tablets|Tablets equivalent to 60 mg elemental iron|\n| | |Oral solution|25mg elemental iron (as sulphate)/ml|\n|Folic Acid|P, S, T|Tablets|1 mg, 5mg|\n|Iron Dextran|S, T|Injection|50 mg iron/ml|\n|Pyridoxine|P, S, T|Tablets|10 mg|\n\n|Medicines|Category|Route of Administration/Dosage Form|Strengths|\n|---|---|---|---|\n|Heparin Sodium|S, T|Injection|5000 IU/ml|\n|Protamine Sulphate|S, T|Injection|10 mg/ml|\n|Phytomenadione|P, S, T|Injection|10 mg/ml|\n|Warfarin sodium|S, T|Tablets|5 mg|\n|Enoxaparin|T|Injection|40mg, 60mg|\n---\n|Medicines|Category|Route of Administration/Dosage Form|Strengths|\n|---|---|---|---|\n|Dextran-40|P, S, T|Injection|10%|\n|Dextran-70|P, S, T|Injection|6%|\n|Fresh frozen plasma|T|Injection| |\n|Hydroxyethyl Starch (Hetastarch)|S, T|Injection|6%|\n|Polygeline|S, T|Injection|3.5%|\n\n|Medicines|Category|Route of Administration/Dosage Form|Strengths|\n|---|---|---|---|\n|Albumin|S, T|Injection|5%, 20 %|\n|Cryoprecipitate|S, T|Injection| |\n|Factor VIII Concentrate|S, T|Injection|Dried|\n|Factor IX Complex (Coagulation Factors II, VII, IX, X)|S, T|Injection|Dried|\n|Platelet Rich Plasma|S, T|Injection| |\n---\n|Medicines|Category|Route of Administration/Dosage Form|Strengths|\n|---|---|---|---|\n|Acetyl salicylic acid|P, S, T|Tablets soluble/dispersible|75mg, 100mg, 350 mg|\n|Diltiazem|S, T|Tablets|30 mg, 60 mg|\n|Glyceryl Trinitrate|P, S, T|Sublingual Tablets, Injection|0.5 mg, 5mg/ml|\n|Isosorbide 5 Mononitrate/ Dinitrate|P, S, T|Tablets|10 mg, 20 mg|\n|Metoprolol|P, S, T|Tablets, Injection|25 mg, 50 mg, 1mg/ml|\n|Clopidogrel|T|Tablets|75 mg|\n|Adenosine|S, T|Injection|3 mg/ml|\n|Amiodarone|S, T|Tablets, Injection|100 mg, 200 mg, 50 mg/ml (3 ml ampoule)|\n|Diltiazem|S, T|Tablets, Injection|30 mg, 60 mg, 5 mg/ml|\n---\n|Medicines|Category|Route of Administration/Dosage Form|Strengths|\n|---|---|---|---|\n|Amlodipine|P,S,T|Tablets|2.5 mg, 5 mg|\n|Atenolol|P,S,T|Tablets|50 mg, 100 mg|\n|Enalapril|P,S,T|Tablets|2.5 mg, 5 mg|\n|Enalapril Maleate|T|Injection|1.25 mg/ml|\n|Losartan Potassium|S, T|Tablets|25 mg, 50 mg|\n|Methyldopa|P,S, T|Tablets|250 mg|\n|Nifedipine|S, T|Tablets|5 mg, 10 mg, 10 mg, 20 mg, 10 mg, 20 mg|\n|Sodium Nitroprusside|T|Injection|50 mg/5 ml|\n\n|Added Medicines| |\n|---|---|\n|Hydrochlorthiazide|P,S,T|Tablets|12.5 mg, 25 mg|\n---\n# 12.4: Medicines used in heart failure\n\n|Medicines|Category|Route of Administration/Dosage Form|Strengths|\n|---|---|---|---|\n|Digoxin|S, T|Tablets|0.25 mg|\n|Digoxin|S, T|Injection|0.25 mg/ml|\n|Digoxin|S, T|Elixir|0.05 mg/ml|\n|Dobutamine|S, T|Injection|50 mg/ml|\n|Dopamine Hydrochloride|S, T|Injection|40 mg/ml|\n\n# 12.5: Antithrombotic medicines\n\n|Medicines|Category|Route of Administration/Dosage Form|Strengths|\n|---|---|---|---|\n|Acetyl salicylic acid|P, S, T|Tablets|75mg, 100mg, 350 mg soluble/dispersible|\n|Heparin Sodium|S, T|Injection|1000 IU/ml, 5000 IU/ml|\n|Streptokinase|S, T|Injection|750,000 IU, 15,00,000 IU|\n|Urokinase|T|Injection|500,000 IU/ml, 10,00,000 IU/ml|\n\n# New Category - ADDED\n\n# 12.6 Hypolipidemic Medicines\n\n|Medicines|Category|Route of Administration/Dosage Form|Strengths|\n|---|---|---|---|\n|Atorvastatin|P, S, T|Tablets|5 mg, 10 mg|\n\nPage 54 of 123\n---\n|Medicines|Category|Route of Administration/Dosage Form|Strengths|\n|---|---|---|---|\n|Miconazole|P,S,T|Ointment or Cream|2%|\n|Acyclovir|S, T|Cream|5%|\n|Framycetin Sulphate|P,S,T|Cream|0.5%|\n|Methylrosanilinium Chloride (Gentian Violet)|P,S,T|Aqueous solution|0.5%|\n|Neomycin + Bacitracin|P,S,T|Ointment|5 mg + 500 IU / g|\n|Povidone Iodine|P,S,T|Solution or Ointment|5%|\n|Silver Sulphadiazine|P,S,T|Cream|1%|\n|Betamethasone Dipropionate|P,S,T|Cream / Ointment|0.05%|\n|Calamine|P,S,T|Lotion| |\n|Zinc Oxide|P,S,T|Dusting Powder| |\n---\n|Medicines|Category|Route of Administration/Dosage Form|Strengths|\n|---|---|---|---|\n|Coal Tar|P,S,T|Solution|5%|\n|Dithranol|T|Ointment|0.1-2%|\n|Glycerin|P,S,T|Solution| |\n|Salicylic Acid|P,S,T|Solution|5%|\n\n|Medicines|Category|Route of Administration/Dosage Form|Strengths|\n|---|---|---|---|\n|Benzyl benzoate|P,S,T|Lotion|25%|\n|Permethrin|S,T|Lotion|1%, 5%|\n---\n|Medicines|Category|Route of Administration/Dosage Form|Strengths|\n|---|---|---|---|\n|Fluorescein|S, T|Eye drops|1%|\n|Lignocaine|S, T|Eye Drops|4%|\n|Tropicamide|S, T|Eye drops|1%|\n\n|Medicines|Category|Route of Administration/Dosage Form|Strengths|\n|---|---|---|---|\n|Barium Sulphate|S, T|Suspension|100% w/v, 250% w/v|\n|Calcium Ipodate|S, T|Injection|3 g|\n|Iopanoic Acid|S, T|Tablets|500 mg|\n|Meglumine Iothalamate|S, T|Injection|60% w/v (iodine = 280 mg/ml)|\n|Meglumine Iotroxate|S, T|Solution|5-8 g iodine in 100-250 ml|\n|Propyliodone|S, T|Oily, suspension|500-600 mg/ml|\n|Sodium Iothalamate|S, T|Injection|70% w/v (Iodine = 420 mg/ml)|\n|Sodium Meglumine Diatrizoate|S, T|Injection|60% w/v (Iodine conc. = 292 mg/ml), 76% w/v (Iodine conc. = 370 mg/ml)|\n---\n|Medicines|Category|Route of Administration/Dosage Form|Strengths|\n|---|---|---|---|\n|Acriflavin+Glycerin|P, S, T|Solution| |\n|Benzoin Compound|P, S, T|Tincture| |\n|Cetrimide|P, S, T|Solution|20% (conc. for dilution)|\n|Chlorhexidine|P, S, T|Solution|5% (conc. for dilution)|\n|Ethyl Alcohol 70%|P, S, T|Solution| |\n|Gentian Violet|P, S, T|Paint|0.5%, 1%|\n|Hydrogen Peroxide|P, S, T|Solution|6%|\n|Povidone Iodine|P, S, T|Solution|5%, 10%|\n\n|Medicines|Category|Route of Administration/Dosage Form|Strengths|\n|---|---|---|---|\n|Bleaching Powder|P, S, T|Powder|Contains not less than 30% w/w of available chlorine (as per I.P)|\n|Formaldehyde Solution|P, S, T|Solution|Dilute 34 ml of formaldehyde solution with water to produce 100 ml (As per I.P)|\n|Glutaraldehyde|S, T|Solution|2%|\n|Potassium Permanganate|P, S, T|Crystals for solution| |\n---\n|Medicines|Category|Route of Administration/Dosage Form|Strengths|\n|---|---|---|---|\n|Furosemide|P,S,T|Tablets|40mg|\n|Hydrochlorothiazide|P,S,T|Tablets|25 mg, 50 mg|\n|Mannitol|P,S,T|Injection|10%, 20%|\n|Spironolactone|P,S,T|Tablets|25 mg|\n---\n# Section: 17 – Gastrointestinal medicines\n\n# 17.1: Antacids and other Antiulcer medicines\n\n|Medicines|Category|Route of Administration/Dosage Form|Strengths|\n|---|---|---|---|\n|Aluminium Hydroxide + Magnesium Hydroxide|P,S,T|Tablet, Suspension| |\n|Omeprazole|P,S,T|Capsules|10 mg, 20 mg, 40 mg|\n|Ranitidine|P,S,T|Injection|25 mg / ml|\n\n# Added Medicines\n\n|Pantoprazole|T|Injection|40 mg|\n|---|---|---|---|\n|Famotidine|P,S,T|Tablets|20 mg|\n|# 17.2: Antiemetics<br/><br/>Medicines|Category|Route of Administration/Dosage Form|Strengths|\n|Domperidone|P,S,T|Tablets, Syrup|10 mg, 1 mg / ml|\n|Metoclopramide|P,S,T|Tablets, Syrup, Injection|10 mg, 5 mg / 5 ml, 5 mg / ml|\n|Promethazine|P,S,T|Tablets, Elixir or Syrup, Injection|10 mg, 25 mg, 5 mg / 5 ml, 25 mg / ml|\n\n# Added Medicines\n\nOndansetron\nS,T\nTablet, Syrup, Injection\n4 mg, 8 mg, 2 mg/ml, 2 mg/ml\n\nPage 60 of 123\n---\n|Medicines|Category|Route of Administration/Dosage Form|Strengths|\n|---|---|---|---|\n|5-Amino salicylic Acid (5-ASA)|S,T|Tablets|400mg|\n\n|Medicines|Category|Route of Administration/Dosage Form|Strengths|\n|---|---|---|---|\n|Dicyclomine Hydrochloride|P,S,T|Tablets, Injection|10 mg, 10 mg / ml|\n|Hyoscine Butyl Bromide|P,S,T|Tablets, Injection|10 mg, 20 mg / ml|\n\n|Medicines|Category|Route of Administration/Dosage Form|Strengths|\n|---|---|---|---|\n|Bisacodyl|P,S,T|Tablets, Suppository|5 mg|\n|Ispaghula|P,S,T|Granules| |\n\n|Medicines|Category|Route of Administration/Dosage Form|Strengths|\n|---|---|---|---|\n|Oral Rehydration Salts|P,S,T|Powder for solution|Glucose: 13.5 g/L, Sodium chloride: 2.6 g/L, Potassium chloride: 1.5 g/L, Trisodium citrate dihydrate+: 2.9 g/L, Powder for dilution in 200ml; 500 ml; 1000ml. (As per I.P)|\n---\n|Medicines|Category|Route of Administration/Dosage Form|Strengths|\n|---|---|---|---|\n|Zinc Sulfate|P,S,T|Syrup|20 mg/5ml|\n\nPage 62 of 123\n---\nSection: 18 – Hormones, oper endocrine medicines and contraceptives\n\n18.1: Adrenal hormones and synpetic substitutes\n\n|Medicines|Category|Route of Administration/Dosage Form|Strengths|\n|---|---|---|---|\n|Dexamethasone|S, T|Tablets|0.5mg|\n|Dexamethasone|S, T|Injection|4mg/ml|\n|Hydrocortisone Sodium Succinate|P, S, T|Injection|100 mg/ml|\n|Methyl Prednisolone|S, T|Injection|40 mg/ml|\n|Prednisolone|P, S, T|Tablets|5mg, 10mg, 20mg|\n\n18.2: Androgens\n\n|Medicines|Category|Route of Administration/Dosage Form|Strengths|\n|---|---|---|---|\n|Testosterone|T|Capsules|40mg (as undecanoate)|\n|Testosterone|T|Injection|25mg/ml (as propionate)|\n\n18.3: Contraceptives\n\n18.3.1: Hormonal Contraceptives\n\n|Medicines|Category|Route of Administration/Dosage Form|Strengths|\n|---|---|---|---|\n|Ethinylestradiol + Levonorgestrel|P, S, T|Tablets|0.03 mg + 0.15 mg|\n|Ethinylestradiol + Norethisterone|P, S, T|Tablets|0.035 mg + 1.0 mg|\n|Hormone Releasing IUD|T|Levonorgestrel Releasing IUD| |\n---\n|Medicines|Category|Route of Administration/Dosage Form|Strengths|\n|---|---|---|---|\n|IUD containing Copper|P,S,T| | |\n\n|Medicines|Category|Route of Administration/Dosage Form|Strengths|\n|---|---|---|---|\n|Condoms|P,S,T| | |\n\n|Medicines|Category|Route of Administration/Dosage Form|Strengths|\n|---|---|---|---|\n|Ethinylestradiol|P,S,T|Tablets|0.01mg, 0.05mg|\n\n**18.5: Medicines used in Diabetes mellitus**\n|Medicines|Category|Route of Administration/Dosage Form|Strengths|\n|---|---|---|---|\n|Glibenclamide|P,S,T|Tablets|2.5 mg, 5mg|\n|Insulin Injection (Soluble)|P,S,T|Injection|40 IU/ml|\n|Intermediate Acting(Lente/NPH Insulin)|P,S,T|Injection|40 IU/ml|\n|Metformin|P,S,T|Tablets|500mg|\n\n|Medicines|Category|Route of Administration/Dosage Form|Strengths|\n|---|---|---|---|\n|Premix Insulin 30:70 injection|P,S,T|Injection|40IU/ml|\n---\n|Medicines|Category|Route of Administration/Dosage Form|Strengths|\n|---|---|---|---|\n|Glucagon|T|Injection|1mg/ml|\n|25% Dextrose|P,S,T|Injection|100 ml|\n\n|Medicines|Category|Route of Administration/Dosage Form|Strengths|\n|---|---|---|---|\n|Clomiphene citrate|T|Tablets|50mg, 100mg|\n\n|Medicines|Category|Route of Administration/Dosage Form|Strengths|\n|---|---|---|---|\n|Medroxy Progesterone Acetate|P,S,T|Tablets|5mg, 10mg|\n|Norethisterone|P,S,T|Tablets|5mg|\n\n|Medicines|Category|Route of Administration/Dosage Form|Strengths|\n|---|---|---|---|\n|Carbimazole|P,S,T|Tablets|5mg, 10mg|\n|Levothyroxine|P,S,T|Tablets|50μg, 100μg|\n|Iodine|S,T|Solution|8 mg / 5 ml|\n---\n|Drugs|Category|Route of Administration/Dosage Form|Strengths|\n|---|---|---|---|\n|Tuberculin, Purified Protein derivative|P,S,T|Injection|1 TU, 5 TU|\n\n|Drugs|Category|Route of Administration/Dosage Form|Strengths|\n|---|---|---|---|\n|Anti-D immunoglobin (human)|S, T|Injection|300 μg|\n|Polyvalent Antisnake Venom|P,S,T|Injection|10 ml|\n|Antitetanus Human immunoglobin|P,S,T|Injection|250 IU, 500 IU|\n|Diphtheria Antitoxin|S, T|Injection|10,000 IU|\n|Rabies immunoglobin|P,S,T|Injection|150 IU / ml|\n\n|Drugs|Category|Route of Administration/Dosage Form|Strengths|\n|---|---|---|---|\n|B.C.G Vaccine|P,S,T|Injection| |\n|D.P.T Vaccine|P,S,T|Injection| |\n|Hepatitis B Vaccine|P,S,T|Injection| |\n---\n|Drugs|Category|Route of Administration/Dosage Form|Strengths|\n|---|---|---|---|\n|Measles Vaccine|P,S,T|Injection| |\n|Oral Poliomyelitis vaccine (LA)|P,S,T|Solution| |\n|Rabies Vaccine|P,S,T|Injection| |\n|Tetanus Toxoid|P,S,T|Injection| |\n---\n|Drugs|Category|Route of Administration/Dosage Form|Strengths|\n|---|---|---|---|\n|Atracurium besylate|S, T|Injection|10 mg / ml|\n|Neostigmine|S, T|Tablets, Injection|15 mg, 0.5mg/ml|\n|Pyridostigmine|S, T|Tablets, Injection|60 mg, 1mg/ml|\n|Succinyl choline chloride|S, T|Injection|50 mg/ml|\n|Vecuronium|P, S, T|Injection|2 mg/ml|\n---\n# Section: 21 – Ophthalmological Preparations\n\n|Medicines|Category|Route of Administration/Dosage Form|Strengths|\n|---|---|---|---|\n|Chloramphenicol|P,S,T|Drops/Ointment|0.4%, 1%|\n|Ciprofloxacin Hydrochloride|P,S,T|Drops/Ointment|0.3%|\n|Gentamicin|P,S,T|Drops|0.3%|\n|Miconazole|P,S,T|Drops|1%|\n|Povidone Iodine|S,T|Drops|0.6%|\n|Sulphacetamide Sodium|P,S,T|Drops|10%, 20%|\n\n# 21.2: Antiinflammaory agents\n\n|Medicines|Category|Route of Administration/Dosage Form|Strengths|\n|---|---|---|---|\n|Prednisolone Acetate|P,S,T|Drops|0.1%|\n|Prednisolone Sodium Phosphate|P,S,T|Drops|1%|\n\n# 21.3: Local Anaesthetics\n\n|Medicines|Category|Route of Administration/Dosage Form|Strengths|\n|---|---|---|---|\n|Tetracaine Hydrochloride|P,S,T|Drops|0.5%|\n\n# 21.4: Miotics and Antiglucoma medicines\n\n|Medicines|Category|Route of Administration/Dosage Form|Strengths|\n|---|---|---|---|\n| | | | |\n---\n|Medicines|Category|Route of Administration/Dosage Form|Strengths|\n|---|---|---|---|\n|Acetazolamide|S, T|Tablets|250 mg|\n|Betaxolol Hydrochloride|T|Drops|0.25%|\n|Pilocarpine|S, T|Drops|2%|\n|Timolol Maleate|P, S, T|Drops|0.5%|\n\n|Medicines|Category|Route of Administration/Dosage Form|Strengths|\n|---|---|---|---|\n|Atropine Sulphate|P, S, T|Drops/Ointment|1%|\n|Homatropine|P, S, T|Drops|2%|\n|Phenylephrine|P, S, T|Drops|5%|\n\n|Medicines|Category|Route of Administration/Dosage Form|Strengths|\n|---|---|---|---|\n|Methyl Cellulose|T|Injection|2%|\n\n|Medicines|Category|Route of Administration/Dosage Form|Strengths|\n|---|---|---|---|\n|Methyl Ergometrine|P, S, T|Injection|0.2mg/ml|\n|Mifepristone|T|Tablets|200mg|\n|Oxytocin|S, T|Injection|5 IU/ml, 10 IU/ml|\n---\n| | |Added medicines| |\n|---|---|---|---|\n|Misoprostol|T|Tablets|100μg|\n| | |Antioxytocics| |\n|Medicines|Category|Route of Administration/ Dosage Form|Strengths|\n|Terbutaline Sulphate|S,T|Tablets|2.5 mg|\n| | |Injection|0.5 mg/ml|\n| | |Added Medicines| |\n|Nifedipine|S,T|Tablets|10 mg|\n|Betamethasone|P,S,T|Injection|4 mg/ml|\n\nPage 71 of 123\n---\n# Section: 23 – Peritoneal Dialysis Solution\n\n|Medicines|Category|Route of Administration/Dosage Form|Strengths|\n|---|---|---|---|\n|Intraperitoneal Dialysis Solution|T| |4L of approximate composition|\n\n# Section: 24 – Psychotherapeutic Medicines\n\n# 24.1: Medicines used in Psychotic Disorders\n\n|Medicines|Category|Route of Administration/Dosage Form|Strengths|\n|---|---|---|---|\n|Chlorpromazine hydrochloride|P,S,T|Tablets|25 mg, 50 mg, 100 mg|\n|Chlorpromazine hydrochloride|P,S,T|Syrup|25 mg/5ml|\n|Chlorpromazine hydrochloride|P,S,T|Injection|25 mg/ml|\n|Haloperidol|S, T|Injection|5 mg/ml|\n|Olanzapine|T|Tablets|5 mg, 10 mg|\n\n# 24.2: Medicines used in mood disorders\n\n# 24.2.1: Medicines used in Depressive disorders\n\n|Medicines|Category|Route of Administration/Dosage Form|Strengths|\n|---|---|---|---|\n|Amitriptyline|P,S,T|Tablets|25 mg|\n|Fluoxetine hydrochloride|P,S,T|Capsules|20 mg|\n|Imipramine|P,S,T|Tablets|25 mg, 75 mg|\n\n# 24.2.2: Medicines used in Bipolar disorders\n\n|Medicines|Category|Route of Administration/Dosage Form|Strengths|\n|---|---|---|---|\n|Lithium Carbonate|T|Tablets|300 mg|\n\nPage 72 of 123\n---\n# Added Medicines\n\n|Sodium Valproate|Category|Route of Administration/Dosage Form|Strengths|\n|---|---|---|---|\n|Tablets|P,S,T| |200 mg, 500mg|\n\n# Medicines used for Generalized Anxiety and Sleep Disorders\n\n|Medicines|Category|Route of Administration/Dosage Form|Strengths|\n|---|---|---|---|\n|Alprazolam|P,S,T|Tablets|0.25 mg, 0.5 mg|\n|Diazepam|P,S,T|Tablets|2 mg, 5mg|\n\n# Medicines used for obsessive compulsive disorders and panic attacks\n\n|Medicines|Category|Route of Administration/Dosage Form|Strengths|\n|---|---|---|---|\n|Fluoxetine hydrochloride|P,S,T|Capsules|20 mg|\n---\n|Medicines|Category|Route of Administration/Dosage Form|Strengths|\n|---|---|---|---|\n|Beclomethasone Dipropionate|P,S,T|Inhalation|50 μg, 250μg/dose|\n|Hydrocortisone sodium succinate|P,S,T|Injection|100 mg, 200mg, 400 mg|\n|Salbutamol sulphate|P,S,T|Syrup|2mg/5ml|\n| | |Inhalation|100μg/dose|\n|Ipratropium bromide|P,S,T|Inhalation|20μg/metered dose|\n\n|Medicines|Category|Route of Administration/Dosage Form|Strengths|\n|---|---|---|---|\n|Codeine phosphate|S,T|Tablets|10mg|\n| | |Syrup|15mg/5ml|\n|Dextromethorphan|P,S,T|Tablets|30mg|\n---\nSection: 26 – Solutions correcting water, electrolyte and acid-base disturbances\n\n26.1: Oral\n\n|Medicines|Category|Route of Administration/Dosage Form|Strengths|\n|---|---|---|---|\n|Oral Rehydration Salts|P, S, T|Powder for Solution|As per IP|\n\n26.2: Parenteral\n\n|Medicines|Category|Route of Administration/Dosage Form|Strengths|\n|---|---|---|---|\n|Glucose|P, S, T|Injection|5% isotonic, 10%, 15%|\n|Glucose with sodium chloride|P, S, T|Injection|5% + 0.9%|\n|Normal Saline|P, S, T|Injection|0.9%|\n|N/2 Saline|S, T|Injection| |\n|N/5 Saline|S, T|Injection| |\n|Potassium Chloride|P, S, T|Injection|11.2% Sol.|\n|Ringer Lactate|P, S, T|Injection|As per IP|\n|Sodium Bicarbonate|P, S, T|Injection|As per IP|\n\n26.3: Miscellaneous\n\n|Medicines|Category|Route of Administration/Dosage Form|Strengths|\n|---|---|---|---|\n|Water for Injection|P, S, T|Injection|2 ml, 5 ml, 10 ml|\n\nPage 75 of 123\n---\n|Medicines|Category|Route of Administration/Dosage Form|Strengths|\n|---|---|---|---|\n|Ascorbic Acid|P,S,T|Tablets|100 mg, 500 mg|\n|Calcium carbonate|P,S,T|Tablets|250 mg, 500 mg|\n|Multivitamins (As per Schedule V of Drugs and Cosmetics Rules)|P,S,T|Tablets| |\n|Nicotinamide|P,S,T|Tablets|50 mg|\n|Pyridoxine|P,S,T|Tablets|25 mg|\n|Riboflavin|P,S,T|Tablets|5 mg|\n|Thiamine|P,S,T|Tablets|100 mg|\n|Vitamin A|P,S,T|Capsules, Injection|5000 IU, 50000 IU, 100000 IU, 50000 IU/ml|\n|Vitamin D (Ergocalciferol)|P,S,T|Capsules|0.25 mg, 1 mg|\n|Calcium gluconate|P,S,T|Injection|100mg/ml in 10 ml ampoule|\n---\n# Alphabetical List of Medicines – Therapeutic area wise\n\n|S.No|Section 1: – Anesthesia|\n|---|---|\n|1.|Atropine Sulphate|\n|2.|Bupivacaine Hydrochloride|\n|3.|Diazepam|\n|4.|EMLA cream|\n|5.|Ether|\n|6.|Halothane with vaporizer|\n|7.|Isoflurane|\n|8.|Ketamine Hydrochloride|\n|9.|Lignocaine Hydrochloride|\n|10.|Lignocaine Hydrochloride + Adrenaline|\n|11.|Midazolam|\n|12.|Morphine Sulphate|\n|13.|Nitrous Oxide|\n|14.|Oxygen|\n|15.|Promethazine|\n|16.|Propofol|\n|17.|Sevoflurane|\n|18.|Thiopentone Sodium|\n\n|S.No|Section 2 – Analgesics, Antipyretics, Nonsteroidal anti-inflammatory medicines, Medicines used to treat Gout and Disease Modifying Agents used in Rheumatoid Disorders|\n|---|---|\n|1.|Acetyl Salicylic Acid|\n|2.|Allopurinol|\n|3.|Azathioprine|\n|4.|Colchicine|\n---\n# Alphabetical List of Medicines – Therapeutic area wise\n\n|5.|Diclofenac|\n|---|---|\n|6.|Fentanyl|\n|7.|Hydroxychloroquine phosphate|\n|8.|Ibuprofen|\n|9.|Leflunomide|\n|10.|Methotrexate|\n|11.|Morphine Sulphate|\n|12.|Paracetamol|\n|13.|Sulfasalazine|\n|14.|Tramadol|\n\n# SECTION: 3 – Antiallergics and Medicines used in Anaphylaxis\n\n|1.|Adrenaline Bitartrate|\n|---|---|\n|2.|Cetrizine|\n|3.|Chlorpheniramine Maleate|\n|4.|Dexamethasone|\n|5.|Dexchlorpheniramine Maleate|\n|6.|Hydrocortisone Sodium Succinate|\n|7.|Pheniramine Maleate|\n|8.|Prednisolone|\n|9.|Promethazine|\n\n# SECTION: 4 – Antidotes and Other Substances used in Poisonings\n\n|1.|Activated Charcoal|\n|---|---|\n|2.|Atropine Sulphate|\n|3.|Calcium gluconate|\n|4.|Desferrioxamine mesylate|\n---\n# Alphabetical List of Medicines – Therapeutic area wise\n\n|5.|Dimercaprol|\n|---|---|\n|6.|Flumazenil|\n|7.|Methylthioninium chloride (Methylene blue)|\n|8.|N-acetylcysteine|\n|9.|Naloxone|\n|10.|Penicillamine|\n|11.|Pralidoxime Chloride(2-PAM)|\n|12.|Sodium Nitrite|\n|13.|Sodium Thiosulphate|\n|14.|Specific antisnake venom|\n\n# SECTION: 5 – Anticonvulsants/ Antiepileptics\n\n|1.|Carbamazepine|\n|---|---|\n|2.|Diazepam|\n|3.|Lorazepam|\n|4.|Magnesium sulphate|\n|5.|Phenobarbitone|\n|6.|Phenytoin Sodium|\n|7.|Sodium Valproate|\n\n# Section:6 – Anti-infective Medicines\n\n|1.|Acyclovir|\n|---|---|\n|2.|Albendazole|\n|3.|Amikacin|\n|4.|Amoxicillin|\n|5.|Amoxicillin+Clavulinic acid|\n|6.|Amphotericin B|\n---\n|7.|Ampicillin|\n|---|---|\n|8.|Artesunate (To be used only in combination with Sulfadoxine + Pyrimethamine)|\n|9.|Azithromycin|\n|10.|Benzathine Benzylpenicillin|\n|11.|Cefixime|\n|12.|Cefotaxime|\n|13.|Ceftazidime|\n|14.|Ceftriaxone|\n|15.|Cephalexin|\n|16.|Chloroquine phosphate|\n|17.|Ciprofloxacin Hydrochloride|\n|18.|Clindamycin|\n|19.|Clofazimine|\n|20.|Clotrimazole|\n|21.|Cloxacillin|\n|22.|Co-trimoxazole (Trimethoprim + Sulphamethoxazole)|\n|23.|Dapsone|\n|24.|Didanosine|\n|25.|Diethylcarbamazine citrate|\n|26.|Diloxanide Furoate|\n|27.|Doxycycline|\n|28.|Efavirenz|\n|29.|Erythromycin Estolate|\n|30.|Ethambutol|\n|31.|Fluconazole|\n\nPage 80 of 123\n---\n# Alphabetical List of Medicines – Therapeutic area wise\n\n32. Gentamicin\n33. Griseofulvin\n34. Indinavir\n35. Isoniazid\n36. Lamivudine\n37. Lamivudine + Nevirapine + Stavudine\n38. Lamivudine + Zidovudine\n39. Mefloquine\n40. Metronidazole\n41. Nelfinavir\n42. Nevirapine\n43. Nitrofurantoin\n44. Nystatin\n45. Ofloxacin\n46. Pentamidine Isopionate\n47. Piperazine\n48. Praziquantel\n49. Primaquine\n50. Pyrazinamide\n51. Pyrimepamine\n52. Quinine sulphate\n53. Rifampicin\n54. Ritonavir\n55. Saquinavir\n56. Sodium Stibogluconate\n\nPage 81 of 123\n---\n# Alphabetical List of Medicines – Therapeutic area wise\n\n57. Stavudine\n58. Stavudine+Lamivudine\n59. Streptomycin Sulphate\n60. Sulfadoxine + Pyrimepamine\n61. Sulphadiazine\n62. Vancomycin Hydrochloride\n63. Zidovudine\n64. Zidovudine+ Lamivudine+ Nevirapine\n\n# SECTION: 7 –Antimigraine medicines\n\n1. Acetyl Salicylic Acid\n2. Dihydroergotamine\n3. Paracetamol\n4. Propranolol hydrochloride\n\n# SECTION: 8 –Antineoplastic, immunosuppressives and medicines used in palliative care\n\n1. 5-Fluorouracil\n2. Actinomycin D\n3. Allopurinol\n4. Alpha Interferon\n5. Azapioprine\n6. Bleomycin\n7. Busulphan\n8. Carboplatin\n9. Chlorambucil\n10. Cisplatin\n11. Cyclophosphamide\n---\n# Alphabetical List of Medicines – Therapeutic area wise\n\n12. Cyclosporine\n13. Cytosine arabinoside\n14. Dacarbazine\n15. Danazol\n16. Daunorubicin\n17. Doxorubicin\n18. Etoposide\n19. Filgrastim\n20. Flutamide\n21. Folinic Acid\n22. Gemcitabine hydrochloride\n23. Ifosfamide\n24. Imatinib\n25. L- Asparaginase\n26. Melphalan\n27. Mercaptopurine\n28. Mesna\n29. Mepotrexate\n30. Mitomycin-C\n31. Morphine Sulphate\n32. Ondansetron\n33. Oxaliplatin\n34. Paclitaxel\n35. Prednisolone\n36. Procarbazine\n\nPage 83 of 123\n---\n# Alphabetical List of Medicines – Therapeutic area wise\n\n|37.|Raloxifene|\n|---|---|\n|38.|Tamoxifen Citrate|\n|39.|Vinblastine sulphate|\n|40.|Vincristine|\n\n# SECTION: 9 –Antiparkinsonism medicines\n\n|1.|Bromocriptine Mesylate|\n|---|---|\n|2.|Levodopa+ Carbidopa|\n|3.|Trihexyphenidyl Hydrochloride|\n\n# SECTION: 10 –Medicines affecting the blood\n\n|1.|Cyanocobalamin|\n|---|---|\n|2.|Enoxaparin|\n|3.|Ferrous Salt|\n|4.|Folic Acid|\n|5.|Heparin Sodium|\n|6.|Iron Dextran|\n|7.|Phytomenadione|\n|8.|Protamine Sulphate|\n|9.|Pyridoxine|\n|10.|Warfarin sodium|\n\n# SECTION: 11 –Blood products and Plasma substitutes\n\n|1.|Albumin|\n|---|---|\n|2.|Cryoprecipitate|\n|3.|Dextran-40|\n|4.|Dextran-70|\n|5.|Factor IX Complex (Coagulation Factors II,VII, IX, X)|\n---\n# Alphabetical List of Medicines – Therapeutic area wise\n\n|6.|Factor VIII Concentrate|\n|---|---|\n|7.|Fresh frozen plasma|\n|8.|Hydroxyethyl Starch (Hetastarch)|\n|9.|Platelet Rich Plasma|\n|10.|Polygeline|\n\n# SECTION: 12 –Cardiovascular medicines\n\n|1.|Acetyl salicylic acid|\n|---|---|\n|2.|Adenosine|\n|3.|Amiodarone|\n|4.|Amlodipine|\n|5.|Atenolol|\n|6.|Atorvastatin|\n|7.|Clopidogrel|\n|8.|Digoxin|\n|9.|Diltiazem|\n|10.|Dobutamine|\n|11.|Dopamine Hydrochloride|\n|12.|Enalapril Maleate|\n|13.|Esmolol|\n|14.|Glyceryl Trinitrate|\n|15.|Heparin Sodium|\n|16.|Hydrochlorthiazide|\n|17.|Isosorbide 5 Mononitrate/Dinitrate|\n|18.|Lignocaine Hydrochloride|\n|19.|Losartan Potassium|\n\nPage 85 of 123\n---\n# Alphabetical List of Medicines – Therapeutic area wise\n\n|20.|Methyldopa|\n|---|---|\n|21.|Metoprolol|\n|22.|Nifedipine|\n|23.|Procainamide Hydrochloride|\n|24.|Sodium Nitroprusside|\n|25.|Streptokinase|\n|26.|Urokinase|\n|27.|Verapamil|\n\n# SECTION: 13 –Dermatological medicines (Topical)\n\n|1.|Acyclovir|\n|---|---|\n|2.|Benzyl benzoate|\n|3.|Betamethasone Dipropionate|\n|4.|Calamine|\n|5.|Coal Tar|\n|6.|Dithranol|\n|7.|Framycetin Sulphate|\n|8.|Glycerin|\n|9.|Methylrosanilinium Chloride (Gentian Violet)|\n|10.|Miconazole|\n|11.|Neomycin + Bacitracin|\n|12.|Permethrin|\n|13.|Povidone Iodine|\n|14.|Salicylic Acid|\n|15.|Silver Sulphadiazine|\n|16.|Zinc Oxide|\n\nPage 86 of 123\n---\n# Alphabetical List of Medicines – Therapeutic area wise\n\nSECTION: 14 –Diagnostic agents\n1. Barium Sulphate\n2. Calcium Ipodate\n3. Fluorescein\n4. Iopanoic Acid\n5. Lignocaine\n6. Meglumine Iopalamate\n7. Meglumine Iotroxate\n8. Propyliodone\n9. Sodium Iopalamate\n10. Sodium Meglumine Diatrizoate\n11. Tropicamide\n\nSECTION: 15 –Disinfectants and antiseptics\n1. Acriflavin+Glycerin\n2. Benzoin Compound\n3. Bleaching Powder\n4. Cetrimide\n5. Chlorhexidine\n6. Epyl Alcohol 70%\n7. Formaldehyde IP\n8. Gentian Violet\n9. Glutaraldehyde\n10. Hydrogen Peroxide\n11. Potassium Permanganate\n12. Povidone Iodine\n\nPage 87 of 123\n---\nSECTION: 16 – Diuretics\n1. Furosemide\n2. Hydrochloropiazide\n3. Mannitol\n4. Spironolactone\n\nSECTION: 17 – Gastrointestinal medicines\n1. 5-Amino salicylic Acid\n2. Aluminium Hydroxide + Magnesium Hydroxide\n3. Bisacodyl\n4. Dicyclomine Hydrochloride\n5. Domperidone\n6. Famotidine\n7. Hyoscine Butyl Bromide\n8. Ispaghula\n9. Metoclopramide\n10. Omeprazole\n11. Ondansetron\n12. Oral Rehydration Salts\n13. Pantoprazole\n14. Promepazine\n15. Ranitidine\n16. Zinc Sulfate\n\nSECTION: 18 – Hormones, oper endocrine medicines and contraceptives\n1. 25% Dextrose\n---\n# Alphabetical List of Medicines – Therapeutic area wise\n\n|2.|Carbimazole|\n|---|---|\n|3.|Clomiphene citrate|\n|4.|Condoms|\n|5.|Dexamethasone|\n|6.|Ethinylestradiol|\n|7.|Ethinylestradiol + Levonorgesterol|\n|8.|Ethinylestradiol + Norethisterone|\n|9.|Glibenclamide|\n|10.|Glucagon|\n|11.|Hormone Releasing IUD|\n|12.|Hydrocortisone Sodium Succinate|\n|13.|Insulin Injection(Soluble)|\n|14.|Intermediate Acting(Lente/NPH Insulin)|\n|15.|Iodine|\n|16.|IUD containing Copper|\n|17.|Levothyroxine|\n|18.|Medroxy Progesterone Acetate|\n|19.|Metformin|\n|20.|MethylPrednisolone|\n|21.|Norethisterone|\n|22.|Prednisolone|\n|23.|Premix Insulin 30:70 injection|\n|24.|Testosterone|\n\n# SECTION: 19 - Immunologicals\n\n1.\nAnti-D immunoglobin (human)\n---\n# Alphabetical List of Medicines – Therapeutic area wise\n\n|2.|Antitetanus Human immunoglobin|\n|---|---|\n|3.|B.C.G Vaccine|\n|4.|D.P.T Vaccine|\n|5.|Diphtheria Antitoxin|\n|6.|Hepatitis B Vaccine|\n|7.|Measles Vaccine|\n|8.|Oral Poliomyelitis vaccine (LA)|\n|9.|Polyvalent Antisnake Venom|\n|10.|Rabies|\n|11.|Rabies Vaccine|\n|12.|Tetanus Toxoid|\n|13.|Tuberculin, Purified Protein derivative|\n\n# SECTION: 20 – Muscle Relaxants (Peripherally acting) and Cholinesterase Inhibitors\n\n|1.|Atracurium besylate|\n|---|---|\n|2.|Neostigmine|\n|3.|Pyridostigmine|\n|4.|Succinyl choline chloride|\n|5.|Vecuronium|\n\n# SECTION: 21 – Ophthalmological Preparations\n\n|1.|Acetazolamide|\n|---|---|\n|2.|Atropine Sulphate|\n|3.|Betaxolol Hydrochloride|\n|4.|Chloramphenicol|\n|5.|Ciprofloxacin Hydrochloride|\n|6.|Gentamicin|\n\nPage 90 of 123\n---\n# Alphabetical List of Medicines – Therapeutic area wise\n\n|7.|Homatropine|\n|---|---|\n|8.|Methyl Cellulose|\n|9.|Miconazole|\n|10.|Phenylephrine|\n|11.|Pilocarpine|\n|12.|Povidone Iodine|\n|13.|Prednisolone Acetate|\n|14.|Prednisolone Sodium Phosphate|\n|15.|Sulphacetamide Sodium|\n|16.|Tetracaine Hydrochloride|\n|17.|Timolol Maleate|\n\n# SECTION: 22 – Oxytocics and Antioxytocics\n\n|1.|Betamethasone|\n|---|---|\n|2.|Methyl Ergometrine|\n|3.|Mifepristone|\n|4.|Misoprostol|\n|5.|Nifedipine|\n|6.|Oxytocin|\n|7.|Terbutaline Sulphate|\n\n# SECTION: 23 – Peritoneal Dialysis Solution\n\n1\nIntraperitoneal Dialysis Solution\n\n# SECTION: 24 – Psychotherapeutic Medicines\n\n|1.|Alprazolam|\n|---|---|\n|2.|Amitriptyline|\n|3.|Chlorpromazine hydrochloride|\n\nPage 91 of 123\n---\n# Alphabetical List of Medicines – Therapeutic area wise\n\n|4.|Diazepam|\n|---|---|\n|5.|Fluoxetine hydrochloride|\n|6.|Haloperidol|\n|7.|Imipramine|\n|8.|Lithium Carbonate|\n|9.|Olanzapine|\n|10.|Sodium Valproate|\n\n# SECTION: 25 – Medicines acting on the respiratory tract\n\n|1.|Beclomethasone Dipropionate|\n|---|---|\n|2.|Codeine phosphate|\n|3.|Dextromethorphan|\n|4.|Hydrocortisone sodium succinate|\n|5.|Ipratropium bromide|\n|6.|Salbutamol sulphate|\n\n# SECTION: 26 – Solutions correcting water, electrolyte and acid-base disturbances\n\n|1.|Glucose|\n|---|---|\n|2.|Glucose with sodium chloride|\n|3.|N/2 Saline|\n|4.|N/5 Saline|\n|5.|Normal Saline|\n|6.|Oral Rehydration Salts|\n|7.|Potassium Chloride|\n|8.|Ringer Lactate|\n|9.|Sodium Bicarbonate|\n|10.|Water for Injection|\n\nPage 92 of 123\n---\n# Alphabetical List of Medicines – Therapeutic area wise\n\nSECTION: 27 – Vitamins and Minerals\n1. Ascorbic Acid\n2. Calcium gluconate\n3. Calcium carbonate\n4. Multivitamins (As per Schedule V of Drugs and Cosmetics Rules)\n5. Nicotinamide\n6. Pyridoxine\n7. Riboflavin\n8. Thiamine\n9. Vitamin A\n10. Vitamin D (Ergocalciferol)\n\nPage 93 of 123\n---\n|S.No|Alphabetical List of Medicines in NLEM 2011|\n|---|---|\n|1.|25% Dextrose|\n|2.|5-Amino salicylic Acid|\n|3.|5-Fluorouracil|\n|4.|Acetazolamide|\n|5.|Acetyl Salicylic Acid|\n|6.|Acriflavin+Glycerin|\n|7.|Actinomycin D|\n|8.|Activated Charcoal|\n|9.|Acyclovir|\n|10.|Adenosine|\n|11.|Adrenaline Bitartrate|\n|12.|Albendazole|\n|13.|Albumin|\n|14.|Allopurinol|\n|15.|Alpha Interferon|\n|16.|Alprazolam|\n|17.|Aluminium Hydroxide + Magnesium Hydroxide|\n|18.|Amikacin|\n|19.|Amiodarone|\n|20.|Amitriptyline|\n|21.|Amlodipine|\n|22.|Amoxicillin|\n|23.|Amoxicillin+Clavulinic acid|\n|24.|Amphotericin B|\n\nPage 94 of 123\n---\n|25.|Ampicillin|\n|---|---|\n|26.|Anti-D immunoglobin (human)|\n|27.|Antitetanus Human immunoglobin|\n|28.|Artesunate (To be used only in combination with Sulfadoxine + Pyrimethamine)|\n|29.|Ascorbic Acid|\n|30.|Atenolol|\n|31.|Atorvastatin|\n|32.|Atracurium besylate|\n|33.|Atropine Sulphate|\n|34.|Azathioprine|\n|35.|Azithromycin|\n|36.|B.C.G Vaccine|\n|37.|Barium Sulphate|\n|38.|Beclomethasone Dipropionate|\n|39.|Benzathine Benzylpenicillin|\n|40.|Benzoin Compound|\n|41.|Benzyl benzoate|\n|42.|Betamethasone|\n|43.|Betamethasone Dipropionate|\n|44.|Betaxolol Hydrochloride|\n|45.|Bisacodyl|\n|46.|Bleaching Powder|\n|47.|Bleomycin|\n|48.|Bromocriptine Mesylate|\n|49.|Bupivacaine Hydrochloride|\n\nPage 95 of 123\n---\n|50.|Busulphan|\n|---|---|\n|51.|Calamine|\n|52.|Calcium carbonate|\n|53.|Calcium gluconate|\n|54.|Calcium Ipodate|\n|55.|Carbamazepine|\n|56.|Carbimazole|\n|57.|Carboplatin|\n|58.|Cefixime|\n|59.|Cefotaxime|\n|60.|Ceftazidime|\n|61.|Ceftriaxone|\n|62.|Cephalexin|\n|63.|Cetrimide|\n|64.|Cetrizine|\n|65.|Chlorambucil|\n|66.|Chloramphenicol|\n|67.|Chlorhexidine|\n|68.|Chloroquine phosphate|\n|69.|Chlorpheniramine Maleate|\n|70.|Chlorpromazine hydrochloride|\n|71.|Ciprofloxacin Hydrochloride|\n|72.|Cisplatin|\n|73.|Clindamycin|\n|74.|Clofazimine|\n|75.|Clomiphene citrate|\n---\n|76.|Clopidogrel|\n|---|---|\n|77.|Clotrimazole|\n|78.|Cloxacillin|\n|79.|Coal Tar|\n|80.|Codeine phosphate|\n|81.|Colchicine|\n|82.|Condoms|\n|83.|Co-Trimoxazole (Trimethoprim + Sulphamethoxazole)|\n|84.|Cryoprecipitate|\n|85.|Cyanocobalamin|\n|86.|Cyclophosphamide|\n|87.|Cyclosporine|\n|88.|Cytosine arabinoside|\n|89.|D.P.T Vaccine|\n|90.|Dacarbazine|\n|91.|Danazol|\n|92.|Dapsone|\n|93.|Daunorubicin|\n|94.|Desferrioxamine mesylate|\n|95.|Dexamethasone|\n|96.|Dexchlorpheniramine Maleate|\n|97.|Dextran-40|\n|98.|Dextran-70|\n|99.|Dextromethorphan|\n|100.|Diazepam|\n|101.|Diclofenac|\n---\n# Page 98 of 123\n\n102. Dicyclomine Hydrochloride\n103. Didanosine\n104. Diepylcarbamazine citrate\n105. Digoxin\n106. Dihydroergotamine\n107. Diloxanide Furoate\n108. Diltiazem\n109. Dimercaprol\n110. Diphperia Antitoxin\n111. Dipranol\n112. Dobutamine\n113. Domperidone\n114. Dopamine Hydrochloride\n115. Doxorubicin\n116. Doxycycline\n117. Efavirenz\n118. EMLA cream\n119. Enalapril Maleate\n120. Enoxaparin\n121. Erypromycin Estolate\n122. Esmolol\n123. Epambutol\n124. Eper\n125. Epinylestradiol\n126. Epinylestradiol + Levonorgesterol\n127. Epinylestradiol + Norepisterone\n---\n128. Epyl Alcohol 70%\n129. Etoposide\n130. Factor IX Complex (Coagulation Factors II,VII, IX, X)\n131. Factor VIII Concentrate\n132. Famotidine\n133. Fentanyl\n134. Ferrous Salt\n135. Filgrastim\n136. Fluconazole\n137. Flumazenil\n138. Fluorescein\n139. Fluoxetine hydrochloride\n140. Flutamide\n141. Folic Acid\n142. Folinic Acid\n143. Formaldehyde IP\n144. Framycetin Sulphate\n145. Fresh frozen plasma\n146. Furosemide\n147. Gemcitabine hydrochloride\n148. Gentamicin\n149. Gentian Violet\n150. Glibenclamide\n151. Glucagon\n152. Glucose\n153. Glucose wip sodium chloride\n---\n|154.|Glutaraldehyde|\n|---|---|\n|155.|Glycerin|\n|156.|Glyceryl Trinitrate|\n|157.|Griseofulvin|\n|158.|Haloperidol|\n|159.|Halothane with vaporizer|\n|160.|Heparin Sodium|\n|161.|Hepatitis B Vaccine|\n|162.|Homatropine|\n|163.|Hormone Releasing IUD|\n|164.|Hydrochlorothiazide|\n|165.|Hydrocortisone sodium succinate|\n|166.|Hydrogen Peroxide|\n|167.|Hydroxychloroquine phosphate|\n|168.|Hydroxyethyl Starch (Hetastarch)|\n|169.|Hyoscine Butyl Bromide|\n|170.|Ibuprofen|\n|171.|Ifosfamide|\n|172.|Imatinib|\n|173.|Imipramine|\n|174.|Indinavir|\n|175.|Insulin Injection(Soluble)|\n|176.|Intermediate Acting(Lente/NPH Insulin)|\n|177.|Intraperitoneal Dialysis Solution|\n|178.|Iodine|\n|179.|Iopanoic Acid|\n---\n180. Ipratropium bromide\n181. Iron Dextran\n182. Isoflurane\n183. Isoniazid\n184. Isosorbide 5 Mononitrate/Dinitrate\n185. Ispaghula\n186. IUD containing Copper\n187. Ketamine Hydrochloride\n188. L- Asparaginase\n189. Lamivudine\n190. Lamivudine + Nevirapine + Stavudine\n191. Lamivudine + Zidovudine\n192. Leflunomide\n193. Levodopa+ Carbidopa\n194. Levopyroxine\n195. Lignocaine\n196. Lignocaine Hydrochloride\n197. Lignocaine Hydrochloride + Adrenaline\n198. Lipium Carbonate\n199. Lorazepam\n200. Losartan Potassium\n201. Magnesium sulphate\n202. Mannitol\n203. Measles Vaccine\n204. Medroxy Progesterone Acetate\n205. Mefloquine\n\nPage 101 of 123\n---\n206. Meglumine Iopalamate\n207. Meglumine Iotroxate\n208. Melphalan\n209. Mercaptopurine\n210. Mesna\n211. Metformin\n212. Mepotrexate\n213. Mepyl Cellulose\n214. Mepyl Ergometrine\n215. Mepyldopa\n216. MepylPrednisolone\n217. Mepylrosanilinium Chloride (Gentian Violet)\n218. Mepylpioninium chloride (Mepylene blue)\n219. Metoclopramide\n220. Metoprolol\n221. Metronidazole\n222. Miconazole\n223. Midazolam\n224. Mifepristone\n225. Misoprostol\n226. Mitomycin-C\n227. Morphine Sulphate\n228. Multivitamins (As per Schedule V of Drugs and Cosmetics Rules)\n229. N/2 Saline\n230. N/5 Saline\n---\n231. N-acetylcysteine\n232. Naloxone\n233. Nelfinavir\n234. Neomycin + Bacitracin\n235. Neostigmine\n236. Nevirapine\n237. Nicotinamide\n238. Nifedipine\n239. Nitrofurantoin\n240. Nitrous Oxide\n241. Norepisterone\n242. Normal Saline\n243. Nystatin\n244. Ofloxacin\n245. Olanzapine\n246. Omeprazole\n247. Ondansetron\n248. Oral Poliomyelitis vaccine (LA)\n249. Oral Rehydration Salts\n250. Oxaliplatin\n251. Oxygen\n252. Oxytocin\n253. Paclitaxel\n254. Pantoprazole\n255. Paracetamol\n256. Penicillamine\n\nPage 103 of 123\n---\n257. Pentamidine Isopionate\n258. Permeprin\n259. Pheniramine Maleate\n260. Phenobarbitone\n261. Phenylephrine\n262. Phenytoin Sodium\n263. Phytomenadione\n264. Pilocarpine\n265. Piperazine\n266. Platelet Rich Plasma\n267. Polygeline\n268. Polyvalent Antisnake Venom\n269. Potassium Chloride\n270. Potassium Permanganate\n271. Povidone Iodine\n272. Pralidoxime Chloride(2-PAM)\n273. Praziquantel\n274. Prednisolone\n275. Prednisolone Acetate\n276. Prednisolone Sodium Phosphate\n277. Premix Insulin 30:70 injection\n278. Primaquine\n279. Procainamide Hydrochloride\n280. Procarbazine\n281. Promepazine\n282. Propofol\n\nPage 104 of 123\n---\n283. Propranolol hydrochloride\n284. Propyliodone\n285. Protamine Sulphate\n286. Pyrazinamide\n287. Pyridostigmine\n288. Pyridoxine\n289. Pyrimepamine\n290. Quinine sulphate\n291. Rabies immunoglobin\n292. Rabies Vaccine\n293. Raloxifene\n294. Ranitidine\n295. Riboflavin\n296. Rifampicin\n297. Ringer Lactate\n298. Ritonavir\n299. Salbutamol sulphate\n300. Salicylic Acid\n301. Saquinavir\n302. Sevoflurane\n303. Silver Sulphadiazine\n304. Sodium Bicarbonate\n305. Sodium Iopalamate\n306. Sodium Meglumine Diatrizoate\n307. Sodium Nitrite\n308. Sodium Nitroprusside\n---\n309. Sodium Stibogluconate\n310. Sodium Thiosulphate\n311. Sodium Valproate\n312. Specific antisnake venom\n313. Spironolactone\n314. Stavudine\n315. Stavudine+Lamivudine\n316. Streptokinase\n317. Streptomycin Sulphate\n318. Succinyl choline chloride\n319. Sulfadoxine + Pyrimepamine\n320. Sulfasalazine\n321. Sulphacetamide Sodium\n322. Sulphadiazine\n323. Tamoxifen Citrate\n324. Terbutaline Sulphate\n325. Testosterone\n326. Tetanus Toxoid\n327. Tetracaine Hydrochloride\n328. Thiamine\n329. Thiopentone Sodium\n330. Timolol Maleate\n331. Tramadol\n332. Trihexyphenidyl Hydrochloride\n333. Tropicamide\n334. Tuberculin, Purified Protein derivative\n---\n335. Urokinase\n336. Vancomycin Hydrochloride\n337. Vecuronium\n338. Verapamil\n339. Vinblastine sulphate\n340. Vincristine\n341. Vitamin A\n342. Vitamin D (Ergocalciferol)\n343. Warfarin sodium\n344. Water for Injection\n345. Zidovudine\n346. Zidovudine+ Lamivudine+ Nevirapine\n347. Zinc Oxide\n348. Zinc Sulfate\n\nPage 107 of 123\n---\n|S.No|List of Medicines in NLEM 2011 – Category Wise|Category|\n|---|---|---|\n|1.|25% Dextrose|P,S,T|\n|2.|Acetyl Salicylic Acid|P,S,T|\n|3.|Acriflavin+Glycerin|P,S,T|\n|4.|Activated Charcoal|P,S,T|\n|5.|Adrenaline Bitartrate|P,S,T|\n|6.|Albendazole|P,S,T|\n|7.|Alprazolam|P,S,T|\n|8.|Aluminium Hydroxide + Magnesium Hydroxide|P,S,T|\n|9.|Amitriptyline|P,S,T|\n|10.|Amlodipine|P,S,T|\n|11.|Ampicillin|P,S,T|\n|12.|Antitetanus Human immunoglobin|P,S,T|\n|13.|Artesunate (To be used only in combination with Sulfadoxine + Pyrimethamine)|P,S,T|\n|14.|Ascorbic Acid|P,S,T|\n|15.|Atenolol|P,S,T|\n|16.|Atorvastatin|P,S,T|\n|17.|Atropine Sulphate|P,S,T|\n|18.|B.C.G Vaccine|P,S,T|\n|19.|Beclomethasone Dipropionate|P,S,T|\n|20.|Benzathine Benzylpenicillin|P,S,T|\n\nPage 108 of 123\n---\n|S.No|List of Medicines in NLEM 2011 – Category Wise|Category|\n|---|---|---|\n|21.|Benzoin Compound|P,S,T|\n|22.|Benzyl benzoate|P,S,T|\n|23.|Betamethasone|P,S,T|\n|24.|Betamethasone Dipropionate|P,S,T|\n|25.|Bisacodyl|P,S,T|\n|26.|Bleaching Powder|P,S,T|\n|27.|Calamine|P,S,T|\n|28.|Calcium carbonate|P,S,T|\n|29.|Calcium gluconate|P,S,T|\n|30.|Carbamazepine|P,S,T|\n|31.|Carbimazole|P,S,T|\n|32.|Cephalexin|P,S,T|\n|33.|Cetrimide|P,S,T|\n|34.|Cetrizine|P,S,T|\n|35.|Chloramphenicol|P,S,T|\n|36.|Chlorhexidine|P,S,T|\n|37.|Chloroquine phosphate|P,S,T|\n|38.|Chlorpheniramine Maleate|P,S,T|\n|39.|Chlorpromazine hydrochloride|P,S,T|\n|40.|Ciprofloxacin Hydrochloride|P,S,T|\n|41.|Clofazimine|P,S,T|\n|42.|Clotrimazole|P,S,T|\n|43.|Cloxacillin|P,S,T|\n\nPage 109 of 123\n---\n|S.No|List of Medicines in NLEM 2011 – Category Wise|Category|\n|---|---|---|\n|44.|Coal Tar|P,S,T|\n|45.|Condoms|P,S,T|\n|46.|Co-Trimoxazole (Trimethoprim + Sulphamethoxazole)|P,S,T|\n|47.|Cyanocobalamin|P,S,T|\n|48.|D.P.T Vaccine|P,S,T|\n|49.|Dapsone|P,S,T|\n|50.|Dexamethasone|P,S,T|\n|51.|Dexchlorpheniramine Maleate|P,S,T|\n|52.|Dextran-40|P,S,T|\n|53.|Dextran-70|P,S,T|\n|54.|Dextromethorphan|P,S,T|\n|55.|Diazepam|P,S,T|\n|56.|Dicyclomine Hydrochloride|P,S,T|\n|57.|Diethylcarbamazine citrate|P,S,T|\n|58.|Diloxanide Furoate|P,S,T|\n|59.|Domperidone|P,S,T|\n|60.|Doxycycline|P,S,T|\n|61.|Enalapril Maleate|P,S,T|\n|62.|Erythromycin Estolate|P,S,T|\n|63.|Ethambutol|P,S,T|\n|64.|Ethinylestradiol|P,S,T|\n|65.|Ethinylestradiol + Levonorgesterol|P,S,T|\n|66.|Ethinylestradiol + Norethisterone|P,S,T|\n\nPage 110 of 123\n---\n|S.No|List of Medicines in NLEM 2011 – Category Wise|Category|\n|---|---|---|\n|67.|Ethyl Alcohol 70%|P,S,T|\n|68.|Famotidine|P,S,T|\n|69.|Ferrous Salt|P,S,T|\n|70.|Fluoxetine hydrochloride|P,S,T|\n|71.|Folic Acid|P,S,T|\n|72.|Formaldehyde IP|P,S,T|\n|73.|Framycetin Sulphate|P,S,T|\n|74.|Furosemide|P,S,T|\n|75.|Gentamicin|P,S,T|\n|76.|Gentian Violet|P,S,T|\n|77.|Glibenclamide|P,S,T|\n|78.|Glucose|P,S,T|\n|79.|Glucose with sodium chloride|P,S,T|\n|80.|Glycerin|P,S,T|\n|81.|Glyceryl Trinitrate|P,S,T|\n|82.|Griseofulvin|P,S,T|\n|83.|Hepatitis B Vaccine|P,S,T|\n|84.|Homatropine|P,S,T|\n|85.|Hydrochlorothiazide|P,S,T|\n|86.|Hydrocortisone sodium succinate|P,S,T|\n|87.|Hydrogen Peroxide|P,S,T|\n|88.|Hyoscine Butyl Bromide|P,S,T|\n|89.|Ibuprofen|P,S,T|\n\nPage 111 of 123\n---\n|S.No|List of Medicines in NLEM 2011 – Category Wise|Category|\n|---|---|---|\n|90.|Imipramine|P,S,T|\n|91.|Insulin Injection(Soluble)|P,S,T|\n|92.|Intermediate Acting(Lente/NPH Insulin)|P,S,T|\n|93.|Ipratropium bromide|P,S,T|\n|94.|Isoniazid|P,S,T|\n|95.|Isosorbide 5 Mononitrate/Dinitrate|P,S,T|\n|96.|Ispaghula|P,S,T|\n|97.|IUD containing Copper|P,S,T|\n|98.|Ketamine Hydrochloride|P,S,T|\n|99.|Levodopa+ Carbidopa|P,S,T|\n|100.|Levothyroxine|P,S,T|\n|101.|Lignocaine Hydrochloride|P,S,T|\n|102.|Lignocaine Hydrochloride + Adrenaline|P,S,T|\n|103.|Mannitol|P,S,T|\n|104.|Measles Vaccine|P,S,T|\n|105.|Medroxy Progesterone Acetate|P,S,T|\n|106.|Metformin|P,S,T|\n|107.|Methyl Ergometrine|P,S,T|\n|108.|Methyldopa|P,S,T|\n|109.|Methylrosanilinium Chloride (Gentian Violet)|P,S,T|\n|110.|Metoclopramide|P,S,T|\n|111.|Metoprolol|P,S,T|\n|112.|Metronidazole|P,S,T|\n\nPage 112 of 123\n---\n|S.No|List of Medicines in NLEM 2011 – Category Wise|Category|\n|---|---|---|\n|113.|Miconazole|P,S,T|\n|114.|Midazolam|P,S,T|\n|115.|Multivitamins (As per Schedule V of Drugs and Cosmetics Rules)|P,S,T|\n|116.|N-acetylcysteine|P,S,T|\n|117.|Naloxone|P,S,T|\n|118.|Neomycin + Bacitracin|P,S,T|\n|119.|Nicotinamide|P,S,T|\n|120.|Nitrofurantoin|P,S,T|\n|121.|Nitrous Oxide|P,S,T|\n|122.|Norethisterone|P,S,T|\n|123.|Normal Saline|P,S,T|\n|124.|Nystatin|P,S,T|\n|125.|Omeprazole|P,S,T|\n|126.|Oral Poliomyelitis vaccine (LA)|P,S,T|\n|127.|Oral Rehydration Salts|P,S,T|\n|128.|Oxygen|P,S,T|\n|129.|Paracetamol|P,S,T|\n|130.|Pheniramine Maleate|P,S,T|\n|131.|Phenobarbitone|P,S,T|\n|132.|Phenylephrine|P,S,T|\n|133.|Phenytoin Sodium|P,S,T|\n|134.|Phytomenadione|P,S,T|\n|135.|Piperazine|P,S,T|\n\nPage 113 of 123\n---\n|S.No|List of Medicines in NLEM 2011 – Category Wise|Category|\n|---|---|---|\n|136.|Polyvalent Antisnake Venom|P,S,T|\n|137.|Potassium Chloride|P,S,T|\n|138.|Potassium Permanganate|P,S,T|\n|139.|Povidone Iodine|P,S,T|\n|140.|Pralidoxime Chloride(2-PAM)|P,S,T|\n|141.|Prednisolone|P,S,T|\n|142.|Prednisolone Acetate|P,S,T|\n|143.|Prednisolone Sodium Phosphate|P,S,T|\n|144.|Premix Insulin 30:70 injection|P,S,T|\n|145.|Primaquine|P,S,T|\n|146.|Promethazine|P,S,T|\n|147.|Propofol|P,S,T|\n|148.|Propranolol hydrochloride|P,S,T|\n|149.|Pyrazinamide|P,S,T|\n|150.|Pyridoxine|P,S,T|\n|151.|Pyrimethamine|P,S,T|\n|152.|Quinine sulphate|P,S,T|\n|153.|Rabies immunoglobin|P,S,T|\n|154.|Rabies Vaccine|P,S,T|\n|155.|Ranitidine|P,S,T|\n|156.|Riboflavin|P,S,T|\n|157.|Rifampicin|P,S,T|\n|158.|Ringer Lactate|P,S,T|\n\nPage 114 of 123\n---\n|S.No|List of Medicines in NLEM 2011 – Category Wise|Category|\n|---|---|---|\n|159.|Salbutamol sulphate|P,S,T|\n|160.|Salicylic Acid|P,S,T|\n|161.|Silver Sulphadiazine|P,S,T|\n|162.|Sodium Bicarbonate|P,S,T|\n|163.|Sodium Valproate|P,S,T|\n|164.|Specific antisnake venom|P,S,T|\n|165.|Spironolactone|P,S,T|\n|166.|Streptomycin Sulphate|P,S,T|\n|167.|Sulfadoxine + Pyrimethamine|P,S,T|\n|168.|Sulphacetamide Sodium|P,S,T|\n|169.|Testosterone|P,S,T|\n|170.|Tetanus Toxoid|P,S,T|\n|171.|Tetracaine Hydrochloride|P,S,T|\n|172.|Thiamine|P,S,T|\n|173.|Timolol Maleate|P,S,T|\n|174.|Trihexyphenidyl Hydrochloride|P,S,T|\n|175.|Tuberculin, Purified Protein derivative|P,S,T|\n|176.|Vecuronium|P,S,T|\n|177.|Vitamin A|P,S,T|\n|178.|Vitamin D (Ergocalciferol)|P,S,T|\n|179.|Water for Injection|P,S,T|\n|180.|Zinc Oxide|P,S,T|\n|181.|Zinc Sulfate|P,S,T|\n\nPage 115 of 123\n---\n|S.No|List of Medicines in NLEM 2011 – Category Wise|Category|\n|---|---|---|\n|1.|5-Amino salicylic Acid|S,T|\n|2.|Acetazolamide|S,T|\n|3.|Acyclovir|S, T|\n|4.|Adenosine|S,T|\n|5.|Albumin|S, T|\n|6.|Allopurinol|S, T|\n|7.|Amikacin|S, T|\n|8.|Amiodarone|S, T|\n|9.|Amoxicillin|S,T|\n|10.|Amphotericin B|S, T|\n|11.|Anti-D immunoglobin (human)|S, T|\n|12.|Atracurium besylate|S, T|\n|13.|Azathioprine|S, T|\n|14.|Azithromycin|S,T|\n|15.|Barium Sulphate|S, T|\n|16.|Bromocriptine Mesylate|S, T|\n|17.|Bupivacaine Hydrochloride|S, T|\n|18.|Calcium Ipodate|S, T|\n|19.|Cefotaxime|S, T|\n|20.|Ceftazidime|S, T|\n|21.|Ceftriaxone|S, T|\n---\n|S.No|List of Medicines in NLEM 2011 – Category Wise|Category|\n|---|---|---|\n|22.|Clindamycin|S, T|\n|23.|Codeine phosphate|S, T|\n|24.|Colchicine|S, T|\n|25.|Cryoprecipitate|S, T|\n|26.|Desferrioxamine mesylate|S, T|\n|27.|Didanosine|S, T|\n|28.|Digoxin|S, T|\n|29.|Dihydroergotamine|S, T|\n|30.|Diltiazem|S, T|\n|31.|Dimercaprol|S, T|\n|32.|Diphtheria Antitoxin|S, T|\n|33.|Dobutamine|S, T|\n|34.|Dopamine Hydrochloride|S, T|\n|35.|Efavirenz|S, T|\n|36.|Ether|S, T|\n|37.|Factor IX Complex (Coagulation Factors II,VII, IX, X)|S, T|\n|38.|Factor VIII Concentrate|S, T|\n|39.|Fentanyl|S, T|\n|40.|Fluconazole|S, T|\n|41.|Fluorescein|S, T|\n|42.|Glutaraldehyde|S, T|\n|43.|Haloperidol|S, T|\n|44.|Halothane with vaporizer|S, T|\n\nPage 117 of 123\n---\n|S.No|List of Medicines in NLEM 2011 – Category Wise|Category|\n|---|---|---|\n|45.|Heparin Sodium|S, T|\n|46.|Hydroxychloroquine phosphate|S, T|\n|47.|Hydroxyethyl Starch (Hetastarch)|S, T|\n|48.|Indinavir|S, T|\n|49.|Iodine|S, T|\n|50.|Iopanoic Acid|S, T|\n|51.|Iron Dextran|S, T|\n|52.|Isoflurane|S, T|\n|53.|Lamivudine|S, T|\n|54.|Lamivudine + Nevirapine + Stavudine|S, T|\n|55.|Lamivudine + Zidovudine|S, T|\n|56.|Leflunomide|S, T|\n|57.|Lignocaine|S, T|\n|58.|Losartan Potassium|S, T|\n|59.|Magnesium sulphate|S, T|\n|60.|Mefloquine|S, T|\n|61.|Meglumine Iothalamate|S, T|\n|62.|Meglumine Iotroxate|S, T|\n|63.|Methotrexate|S, T|\n|64.|MethylPrednisolone|S, T|\n|65.|Methylthioninium chloride (Methylene blue)|S, T|\n|66.|Morphine Sulphate|S, T|\n|67.|N/2 Saline|S, T|\n\nPage 118 of 123\n---\n|S.No|List of Medicines in NLEM 2011 – Category Wise|Category|\n|---|---|---|\n|68.|N/5 Saline|S, T|\n|69.|Nelfinavir|S, T|\n|70.|Neostigmine|S, T|\n|71.|Nevirapine|S, T|\n|72.|Nifedipine|S, T|\n|73.|Ofloxacin|S, T|\n|74.|Ondansetron|S, T|\n|75.|Oxytocin|S, T|\n|76.|Penicillamine|S, T|\n|77.|Pentamidine Isothionate|S, T|\n|78.|Permethrin|S, T|\n|79.|Pilocarpine|S, T|\n|80.|Platelet Rich Plasma|S, T|\n|81.|Polygeline|S, T|\n|82.|Praziquantel|S, T|\n|83.|Propyliodone|S, T|\n|84.|Protamine Sulphate|S, T|\n|85.|Pyridostigmine|S, T|\n|86.|Ritonavir|S, T|\n|87.|Saquinavir|S, T|\n|88.|Sodium Iothalamate|S, T|\n|89.|Sodium Meglumine Diatrizoate|S, T|\n|90.|Sodium Nitrite|S, T|\n\nPage 119 of 123\n---\n|S.No|List of Medicines in NLEM 2011 – Category Wise|Category|\n|---|---|---|\n|91.|Sodium Stibogluconate|S, T|\n|92.|Sodium Thiosulphate|S, T|\n|93.|Stavudine|S, T|\n|94.|Stavudine+Lamivudine|S, T|\n|95.|Streptokinase|S, T|\n|96.|Succinyl choline chloride|S, T|\n|97.|Sulfasalazine|S, T|\n|98.|Sulphadiazine|S, T|\n|99.|Terbutaline Sulphate|S, T|\n|100.|Thiopentone Sodium|S, T|\n|101.|Tramadol|S, T|\n|102.|Tropicamide|S, T|\n|103.|Verapamil|S, T|\n|104.|Warfarin sodium|S, T|\n|105.|Zidovudine|S, T|\n|106.|Zidovudine+ Lamivudine+ Nevirapine|S, T|\n\nTotal Medicines under Category S,T - 106\n\n|S.No|List of Medicines in NLEM 2011 – Category Wise|Category|\n|---|---|---|\n|1.|5-Fluorouracil|T|\n|2.|Actinomycin D|T|\n|3.|Alpha Interferon|T|\n|4.|Amoxicillin+Clavulinic acid|T|\n|5.|Betaxolol Hydrochloride|T|\n---\n|S.No|List of Medicines in NLEM 2011 – Category Wise|Category|\n|---|---|---|\n|6.|Bleomycin|T|\n|7.|Busulphan|T|\n|8.|Carboplatin|T|\n|9.|Cefixime|T|\n|10.|Chlorambucil|T|\n|11.|Cisplatin|T|\n|12.|Clomiphene citrate|T|\n|13.|Clopidogrel|T|\n|14.|Cyclophosphamide|T|\n|15.|Cyclosporine|T|\n|16.|Cytosine arabinoside|T|\n|17.|Dacarbazine|T|\n|18.|Danazol|T|\n|19.|Daunorubicin|T|\n|20.|Diclofenac|T|\n|21.|Dithranol|T|\n|22.|Doxorubicin|T|\n|23.|EMLA cream|T|\n|24.|Enoxaparin|T|\n|25.|Esmolol|T|\n|26.|Etoposide|T|\n|27.|Filgrastim|T|\n|28.|Flumazenil|T|\n\nPage 121 of 123\n---\n|S.No|List of Medicines in NLEM 2011 – Category Wise|Category|\n|---|---|---|\n|29.|Flutamide|T|\n|30.|Folinic Acid|T|\n|31.|Fresh frozen plasma|T|\n|32.|Gemcitabine hydrochloride|T|\n|33.|Glucagon|T|\n|34.|Hormone Releasing IUD|T|\n|35.|Ifosfamide|T|\n|36.|Imatinib|T|\n|37.|Intraperitoneal Dialysis Solution|T|\n|38.|L- Asparaginase|T|\n|39.|Lithium Carbonate|T|\n|40.|Lorazepam|T|\n|41.|Melphalan|T|\n|42.|Mercaptopurine|T|\n|43.|Mesna|T|\n|44.|Methyl Cellulose|T|\n|45.|Mifepristone|T|\n|46.|Misoprostol|T|\n|47.|Mitomycin-C|T|\n|48.|Olanzapine|T|\n|49.|Oxaliplatin|T|\n|50.|Paclitaxel|T|\n|51.|Pantoprazole|T|\n---\n|S.No|List of Medicines in NLEM 2011 – Category Wise|Category|\n|---|---|---|\n|52.|Procainamide Hydrochloride|T|\n|53.|Procarbazine|T|\n|54.|Raloxifene|T|\n|55.|Sevoflurane|T|\n|56.|Sodium Nitroprusside|T|\n|57.|Tamoxifen Citrate|T|\n|58.|Urokinase|T|\n|59.|Vancomycin Hydrochloride|T|\n|60.|Vinblastine sulphate|T|\n|61.|Vincristine|T|\n\n|Total Medicines| |\n|---|---|\n|Category P,S,T|181|\n|Category S,T|106|\n|Category T|61|\n|Total|348"
          },
          "metadata": {},
          "execution_count": 9
        }
      ],
      "source": [
        "Markdown(parsed_doc[0].text[:-1])"
      ]
    },
    {
      "cell_type": "code",
      "execution_count": 10,
      "metadata": {
        "id": "7SDYIuPH8ie9"
      },
      "outputs": [],
      "source": [
        "document_path = Path(\"data/parsed_document.md\")\n",
        "with document_path.open(\"a\") as f:\n",
        "    f.write(parsed_doc[0].text)"
      ]
    },
    {
      "cell_type": "code",
      "execution_count": 11,
      "metadata": {
        "colab": {
          "base_uri": "https://localhost:8080/"
        },
        "id": "MnHjX5no9Fzo",
        "outputId": "20923a2b-5d4b-4f8b-cdd7-11141dfb2808"
      },
      "outputs": [
        {
          "output_type": "stream",
          "name": "stderr",
          "text": [
            "[nltk_data] Downloading package averaged_perceptron_tagger to\n",
            "[nltk_data]     /root/nltk_data...\n",
            "[nltk_data]   Unzipping taggers/averaged_perceptron_tagger.zip.\n"
          ]
        }
      ],
      "source": [
        "\n",
        "loader = UnstructuredMarkdownLoader(document_path)\n",
        "loaded_documents = loader.load()\n",
        "\n"
      ]
    },
    {
      "cell_type": "code",
      "execution_count": 12,
      "metadata": {
        "colab": {
          "base_uri": "https://localhost:8080/"
        },
        "id": "tHd2dNAC-HQk",
        "outputId": "0ae638a3-4f9e-4a6e-d665-326bc1b3ec06"
      },
      "outputs": [
        {
          "output_type": "execute_result",
          "data": {
            "text/plain": [
              "49"
            ]
          },
          "metadata": {},
          "execution_count": 12
        }
      ],
      "source": [
        "text_splitter = RecursiveCharacterTextSplitter(chunk_size=2048, chunk_overlap=128)\n",
        "docs = text_splitter.split_documents(loaded_documents)\n",
        "len(docs)"
      ]
    },
    {
      "cell_type": "code",
      "execution_count": 13,
      "metadata": {
        "colab": {
          "base_uri": "https://localhost:8080/"
        },
        "id": "oGuQ3YvY-bvS",
        "outputId": "9b82a4c4-fe37-4f96-8bb4-9a2bebe07dd2"
      },
      "outputs": [
        {
          "output_type": "stream",
          "name": "stdout",
          "text": [
            "National List of Essential Medicines of India 2011\n",
            "Page 1 of 123\n",
            "\n",
            "TABLE OF CONTENTS\n",
            "\n",
            "PREAMBLE ...................................................................................................................................... 4\n",
            "\n",
            "EXECUTIVE SUMMARY ................................................................................................................... 6\n",
            "\n",
            "Salient features of NLEM 2011: ............................................................................................................ …..11\n",
            "\n",
            "The meetings/deliberations of core committee/ National consultation meetings held for\n",
            "preparing the National List of Essential Medicines 2011 ............................................................. 12\n",
            "\n",
            "PROCESS ADOPTED FOR REVISION OF NLEM .............................................................................. 13\n",
            "\n",
            "POTENTIAL USES OF NLEM ........................................................................................................... 15\n",
            "\n",
            "EXPERTS WHO PARTICIPATED IN PREPARING NLEM- 2011.......................................................... 16\n",
            "\n",
            "MEDICINES ADDED IN THE NLEM 2011 ....................................................................................... 27\n",
            "\n",
            "MEDICINES DELETED FROM NLEM 2003 ...................................................................................... 29\n",
            "\n",
            "NATIONAL LIST OF ESSENTIAL MEDICINES 2011 .......................................................................... 32\n"
          ]
        }
      ],
      "source": [
        "print(docs[0].page_content)"
      ]
    },
    {
      "cell_type": "code",
      "execution_count": 14,
      "metadata": {
        "colab": {
          "base_uri": "https://localhost:8080/",
          "height": 336,
          "referenced_widgets": [
            "dac4d76578c546e292b321607b348506",
            "5214a8743f124389ae1a1e0de73f8ad9",
            "5eb16eb6c57645b8a35d3d2c505ef91f",
            "e0929298c128479a9f73cf0ee34fb3ab",
            "b1529343bae441daa3abe9a3fc519278",
            "89cc6052aae544a6afd9d2e80e481ce9",
            "a1beaaa859d74030b95bf4be0bb869e2",
            "ba32dcb393f242b5bee4e48c337197ab",
            "b8333ee9f56b466f90e0d20c3f6ad0d1",
            "f40562bb616247a2bba375c073a6d4d6",
            "51fa2a95b54d4a02b2f797e67b2e0338",
            "2581da57ce0646ac9918b88d2502b30b",
            "ce7c9df0763e468da0a8773ab522b362",
            "a7dbc487b2344222a75be035487df4ab",
            "672f4c30427a444d8939c19e3baaa012",
            "e5bea6a76f1c4fe38a99912994e3eba6",
            "23e6deab688a4b579d6668db22491df5",
            "ab0b65e969ff417da65423dee4f91704",
            "9660d9acf5b74098934a160389809baa",
            "20f1d9744f2b409097841267a97b8eee",
            "6d7b7f2fe5b044c29eeae75f7fd2830b",
            "eb82a4477cc946c8be1d111ec2035b55",
            "452f874658054aaabd329ac303957db1",
            "2bf1b8c065cf4dbdb753cd3eeebc737e",
            "9d926b989aa840268490fa84315f0c1a",
            "abd464fff7e34a03adf71c95dacef38c",
            "365461f44a5945b2899d18980bee0fcc",
            "4461ac043da843af99648b32a4109521",
            "7ef40b3774c647afb76dae5c8083dba9",
            "7a80ba58907446ed9d9af8030339352e",
            "4eaac15941d24f12a64edf603706d9d8",
            "3bb966f1b2d84e5bb1f65cda6b8a961b",
            "235888b901594c1d9b3efbcf14f13491",
            "08fac9d478e5460bac6e74edda34b90c",
            "30b66109ebf24a43a22fee0cc06089b8",
            "05e0c2d243b24c6892fed231f14f0128",
            "a239a18ae94043efbee710e30f73613a",
            "22cb0cc004c046dea4dd4c4b0f7b77d5",
            "e521ecdd172f4ec6ac96e9d32456c8f2",
            "296047ef06c345dc8e2600e7ad2cbb33",
            "5f23c88cc71042e1acefe61514e7b544",
            "fca82a245fd44a7a810b3b3329ea55b4",
            "08c6a3e62d1d4155aaadadeb79b30d2b",
            "0963be99c7ad44399234e40a3365b087",
            "5d7144aff2d94afc90c3e266e694a5f2",
            "4f041e0767b1432a86969e7f1f0de9a8",
            "2ea7791b59404821abe80f5970445bf6",
            "184968945706457dab7b812a29ce93bf",
            "34aed588b01b43928ca0ea6d331fa07c",
            "f5cd5c94bc674d5c8748be535b078929",
            "1ce29394e7a449f48f6a25ee22b8cc02",
            "73327d24b70e4fb8a8b525fb40424f02",
            "c1d5999746b54c01821617df5dbf73e1",
            "7d3fb6dedc28407bb0fb4e115800f03a",
            "3ba25cd4d87c47d3a1977753c45266ad",
            "b04fbebd22a8456eb900c35f36791e8a",
            "310b995032f54e87b706d37f4db56577",
            "84de81ab9f1940b69d161ccf1acd9508",
            "8d7f834db0b042c08caf2087de6d4035",
            "faf67294ca954fcc9fe99a622f0a3bfa",
            "294970d7efc94fd7b9772b87ecf54a16",
            "cb5b20a58c5a4eb7b61216c6c67ce84b",
            "0ee133ac59f741f68569518462a34130",
            "ef84586e137d4a6d878edb0584e7f088",
            "327593ce7a99456b977bcb704b7c4bc2",
            "7578917b69e54dd8864be6ee3d4e81a8"
          ]
        },
        "id": "zickLdZx-eRN",
        "outputId": "89852545-bb32-40f4-e839-4873ad092d5e"
      },
      "outputs": [
        {
          "output_type": "stream",
          "name": "stderr",
          "text": [
            "/usr/local/lib/python3.10/dist-packages/huggingface_hub/utils/_token.py:88: UserWarning: \n",
            "The secret `HF_TOKEN` does not exist in your Colab secrets.\n",
            "To authenticate with the Hugging Face Hub, create a token in your settings tab (https://huggingface.co/settings/tokens), set it as secret in your Google Colab and restart your session.\n",
            "You will be able to reuse this secret in all of your notebooks.\n",
            "Please note that authentication is recommended but still optional to access public models or datasets.\n",
            "  warnings.warn(\n"
          ]
        },
        {
          "output_type": "display_data",
          "data": {
            "text/plain": [
              "Fetching 5 files:   0%|          | 0/5 [00:00<?, ?it/s]"
            ],
            "application/vnd.jupyter.widget-view+json": {
              "version_major": 2,
              "version_minor": 0,
              "model_id": "dac4d76578c546e292b321607b348506"
            }
          },
          "metadata": {}
        },
        {
          "output_type": "display_data",
          "data": {
            "text/plain": [
              "special_tokens_map.json:   0%|          | 0.00/695 [00:00<?, ?B/s]"
            ],
            "application/vnd.jupyter.widget-view+json": {
              "version_major": 2,
              "version_minor": 0,
              "model_id": "2581da57ce0646ac9918b88d2502b30b"
            }
          },
          "metadata": {}
        },
        {
          "output_type": "display_data",
          "data": {
            "text/plain": [
              "config.json:   0%|          | 0.00/740 [00:00<?, ?B/s]"
            ],
            "application/vnd.jupyter.widget-view+json": {
              "version_major": 2,
              "version_minor": 0,
              "model_id": "452f874658054aaabd329ac303957db1"
            }
          },
          "metadata": {}
        },
        {
          "output_type": "display_data",
          "data": {
            "text/plain": [
              "tokenizer.json:   0%|          | 0.00/711k [00:00<?, ?B/s]"
            ],
            "application/vnd.jupyter.widget-view+json": {
              "version_major": 2,
              "version_minor": 0,
              "model_id": "08fac9d478e5460bac6e74edda34b90c"
            }
          },
          "metadata": {}
        },
        {
          "output_type": "display_data",
          "data": {
            "text/plain": [
              "tokenizer_config.json:   0%|          | 0.00/1.24k [00:00<?, ?B/s]"
            ],
            "application/vnd.jupyter.widget-view+json": {
              "version_major": 2,
              "version_minor": 0,
              "model_id": "5d7144aff2d94afc90c3e266e694a5f2"
            }
          },
          "metadata": {}
        },
        {
          "output_type": "display_data",
          "data": {
            "text/plain": [
              "model_optimized.onnx:   0%|          | 0.00/218M [00:00<?, ?B/s]"
            ],
            "application/vnd.jupyter.widget-view+json": {
              "version_major": 2,
              "version_minor": 0,
              "model_id": "b04fbebd22a8456eb900c35f36791e8a"
            }
          },
          "metadata": {}
        }
      ],
      "source": [
        "embeddings = FastEmbedEmbeddings(model_name=\"BAAI/bge-base-en-v1.5\")"
      ]
    },
    {
      "cell_type": "code",
      "execution_count": 15,
      "metadata": {
        "id": "Ky7b6PQ2-h4r"
      },
      "outputs": [],
      "source": [
        "qdrant = Qdrant.from_documents(\n",
        "    docs,\n",
        "    embeddings,\n",
        "    # location=\":memory:\",\n",
        "    path=\"./db\",\n",
        "    collection_name=\"document_embeddings\",\n",
        ")\n"
      ]
    },
    {
      "cell_type": "code",
      "execution_count": 16,
      "metadata": {
        "colab": {
          "base_uri": "https://localhost:8080/"
        },
        "id": "UTDvApAg-kN-",
        "outputId": "5f42e5b0-6dc3-4b3a-c9dd-c3fa3e65a49d"
      },
      "outputs": [
        {
          "output_type": "stream",
          "name": "stdout",
          "text": [
            "CPU times: user 332 ms, sys: 7.04 ms, total: 339 ms\n",
            "Wall time: 342 ms\n"
          ]
        }
      ],
      "source": [
        "\n",
        "%%time\n",
        "query = \"What is Lithium Carbonate used for ?\"\n",
        "similar_docs = qdrant.similarity_search_with_score(query)"
      ]
    },
    {
      "cell_type": "code",
      "execution_count": 17,
      "metadata": {
        "colab": {
          "base_uri": "https://localhost:8080/"
        },
        "id": "itCawiyh_ixz",
        "outputId": "28d817ab-416a-4828-82cd-b5f1a7eff8ce"
      },
      "outputs": [
        {
          "output_type": "stream",
          "name": "stdout",
          "text": [
            "text: 5. Dimercaprol 6. Flumazenil 7. Methylthioninium chloride (Methylene blue) 8. N-acetylcysteine 9. Naloxone 10. Penicillamine 11. Pralidoxime Chloride(2-PAM) 12. Sodium Nitrite 13. Sodium Thiosulphate 14. Specific antisnake venom\n",
            "\n",
            "SECTION: 5 – Anticonvulsan\n",
            "\n",
            "score: 0.5375497311668944\n",
            "--------------------------------------------------------------------------------\n",
            "\n",
            "text: Page 121 of 123\n",
            "\n",
            "S.No List of Medicines in NLEM 2011 – Category Wise Category 29. Flutamide T 30. Folinic Acid T 31. Fresh frozen plasma T 32. Gemcitabine hydrochloride T 33. Glucagon T 34. Hormone Releasing IUD T 35. Ifosfamide T 36. Imatinib T 37. Intrap\n",
            "\n",
            "score: 0.5341344330801845\n",
            "--------------------------------------------------------------------------------\n",
            "\n",
            "text: Meglumine Iotroxate\n",
            "\n",
            "Melphalan\n",
            "\n",
            "Mercaptopurine\n",
            "\n",
            "Mesna\n",
            "\n",
            "Metformin\n",
            "\n",
            "Mepotrexate\n",
            "\n",
            "Mepyl Cellulose\n",
            "\n",
            "Mepyl Ergometrine\n",
            "\n",
            "Mepyldopa\n",
            "\n",
            "MepylPrednisolone\n",
            "\n",
            "Mepylrosanilinium Chloride (Gentian Violet)\n",
            "\n",
            "Mepylpioninium chloride (Mepylene blue)\n",
            "\n",
            "Metoclopramide\n",
            "\n",
            "Metoprolo\n",
            "\n",
            "score: 0.5337006382949467\n",
            "--------------------------------------------------------------------------------\n",
            "\n",
            "text: Page 75 of 123\n",
            "\n",
            "Medicines Category Route of Administration/Dosage Form Strengths Ascorbic Acid P,S,T Tablets 100 mg, 500 mg Calcium carbonate P,S,T Tablets 250 mg, 500 mg Multivitamins (As per Schedule V of Drugs and Cosmetics Rules) P,S,T Tablets Nicotina\n",
            "\n",
            "score: 0.5264676668355966\n",
            "--------------------------------------------------------------------------------\n",
            "\n"
          ]
        }
      ],
      "source": [
        "\n",
        "for doc, score in similar_docs:\n",
        "    print(f\"text: {doc.page_content[:256]}\\n\")\n",
        "    print(f\"score: {score}\")\n",
        "    print(\"-\" * 80)\n",
        "    print()"
      ]
    },
    {
      "cell_type": "code",
      "execution_count": 18,
      "metadata": {
        "colab": {
          "base_uri": "https://localhost:8080/"
        },
        "id": "MKJvdw0l_lYy",
        "outputId": "eb502b9e-1bbf-4a68-c61f-3426166183c4"
      },
      "outputs": [
        {
          "output_type": "stream",
          "name": "stdout",
          "text": [
            "CPU times: user 359 ms, sys: 4.04 ms, total: 363 ms\n",
            "Wall time: 359 ms\n"
          ]
        }
      ],
      "source": [
        "%%time\n",
        "retriever = qdrant.as_retriever(search_kwargs={\"k\": 5})\n",
        "retrieved_docs = retriever.invoke(query)"
      ]
    },
    {
      "cell_type": "code",
      "execution_count": 19,
      "metadata": {
        "colab": {
          "base_uri": "https://localhost:8080/"
        },
        "id": "D26C0Rld_p84",
        "outputId": "f9f193d1-be34-48fe-ac56-d8c0a874bdf1"
      },
      "outputs": [
        {
          "output_type": "stream",
          "name": "stdout",
          "text": [
            "id: 65f13061c40243b38a943843a9d350c7\n",
            "\n",
            "text: 5. Dimercaprol 6. Flumazenil 7. Methylthioninium chloride (Methylene blue) 8. N-acetylcysteine 9. Naloxone 10. Penicillamine 11. Pralidoxime Chloride(2-PAM) 12. Sodium Nitrite 13. Sodium Thiosulphate 14. Specific antisnake venom\n",
            "\n",
            "SECTION: 5 – Anticonvulsan\n",
            "\n",
            "--------------------------------------------------------------------------------\n",
            "\n",
            "id: f9b0939c68e94ff4b6df9abf95a5de36\n",
            "\n",
            "text: Page 121 of 123\n",
            "\n",
            "S.No List of Medicines in NLEM 2011 – Category Wise Category 29. Flutamide T 30. Folinic Acid T 31. Fresh frozen plasma T 32. Gemcitabine hydrochloride T 33. Glucagon T 34. Hormone Releasing IUD T 35. Ifosfamide T 36. Imatinib T 37. Intrap\n",
            "\n",
            "--------------------------------------------------------------------------------\n",
            "\n",
            "id: ab80c97e18ad472c838ede253d3147bf\n",
            "\n",
            "text: Meglumine Iotroxate\n",
            "\n",
            "Melphalan\n",
            "\n",
            "Mercaptopurine\n",
            "\n",
            "Mesna\n",
            "\n",
            "Metformin\n",
            "\n",
            "Mepotrexate\n",
            "\n",
            "Mepyl Cellulose\n",
            "\n",
            "Mepyl Ergometrine\n",
            "\n",
            "Mepyldopa\n",
            "\n",
            "MepylPrednisolone\n",
            "\n",
            "Mepylrosanilinium Chloride (Gentian Violet)\n",
            "\n",
            "Mepylpioninium chloride (Mepylene blue)\n",
            "\n",
            "Metoclopramide\n",
            "\n",
            "Metoprolo\n",
            "\n",
            "--------------------------------------------------------------------------------\n",
            "\n",
            "id: 79903f687dc24d169ed83d08eee7a209\n",
            "\n",
            "text: Page 75 of 123\n",
            "\n",
            "Medicines Category Route of Administration/Dosage Form Strengths Ascorbic Acid P,S,T Tablets 100 mg, 500 mg Calcium carbonate P,S,T Tablets 250 mg, 500 mg Multivitamins (As per Schedule V of Drugs and Cosmetics Rules) P,S,T Tablets Nicotina\n",
            "\n",
            "--------------------------------------------------------------------------------\n",
            "\n",
            "id: eed066476e0b48359d4e7d0fb52f44c0\n",
            "\n",
            "text: SECTION: 24 – Psychotherapeutic Medicines\n",
            "\n",
            "1. Alprazolam 2. Amitriptyline 3. Chlorpromazine hydrochloride\n",
            "\n",
            "Page 91 of 123\n",
            "\n",
            "Alphabetical List of Medicines – Therapeutic area wise\n",
            "\n",
            "4. Diazepam 5. Fluoxetine hydrochloride 6. Haloperidol 7. Imipramine 8. Lithi\n",
            "\n",
            "--------------------------------------------------------------------------------\n",
            "\n"
          ]
        }
      ],
      "source": [
        "for doc in retrieved_docs:\n",
        "    print(f\"id: {doc.metadata['_id']}\\n\")\n",
        "    print(f\"text: {doc.page_content[:256]}\\n\")\n",
        "    print(\"-\" * 80)\n",
        "    print()\n"
      ]
    },
    {
      "cell_type": "code",
      "execution_count": 20,
      "metadata": {
        "colab": {
          "base_uri": "https://localhost:8080/"
        },
        "id": "9IgleZUQ_rri",
        "outputId": "1d2a7516-c560-4fd4-a4a9-00429bf090ce"
      },
      "outputs": [
        {
          "output_type": "stream",
          "name": "stdout",
          "text": [
            "Downloading ms-marco-MiniLM-L-12-v2...\n"
          ]
        },
        {
          "output_type": "stream",
          "name": "stderr",
          "text": [
            "ms-marco-MiniLM-L-12-v2.zip: 100%|██████████| 21.6M/21.6M [00:00<00:00, 113MiB/s] \n"
          ]
        }
      ],
      "source": [
        "\n",
        "compressor = FlashrankRerank(model=\"ms-marco-MiniLM-L-12-v2\")\n",
        "compression_retriever = ContextualCompressionRetriever(\n",
        "    base_compressor=compressor, base_retriever=retriever\n",
        ")\n"
      ]
    },
    {
      "cell_type": "code",
      "execution_count": 21,
      "metadata": {
        "colab": {
          "base_uri": "https://localhost:8080/"
        },
        "id": "iy4LmU5h_u2g",
        "outputId": "096dc2bf-2f73-4bf8-f3a9-c5d4ebb85c76"
      },
      "outputs": [
        {
          "output_type": "stream",
          "name": "stdout",
          "text": [
            "Running pairwise ranking..\n",
            "CPU times: user 3.78 s, sys: 276 ms, total: 4.06 s\n",
            "Wall time: 4.16 s\n"
          ]
        },
        {
          "output_type": "execute_result",
          "data": {
            "text/plain": [
              "3"
            ]
          },
          "metadata": {},
          "execution_count": 21
        }
      ],
      "source": [
        "%%time\n",
        "reranked_docs = compression_retriever.invoke(query)\n",
        "len(reranked_docs)"
      ]
    },
    {
      "cell_type": "code",
      "execution_count": 22,
      "metadata": {
        "colab": {
          "base_uri": "https://localhost:8080/"
        },
        "id": "DU7yXbIe_wq2",
        "outputId": "92cf23a4-0866-4957-d91b-4eab91fdd2e2"
      },
      "outputs": [
        {
          "output_type": "stream",
          "name": "stdout",
          "text": [
            "id: eed066476e0b48359d4e7d0fb52f44c0\n",
            "\n",
            "text: SECTION: 24 – Psychotherapeutic Medicines\n",
            "\n",
            "1. Alprazolam 2. Amitriptyline 3. Chlorpromazine hydrochloride\n",
            "\n",
            "Page 91 of 123\n",
            "\n",
            "Alphabetical List of Medicines – Therapeutic area wise\n",
            "\n",
            "4. Diazepam 5. Fluoxetine hydrochloride 6. Haloperidol 7. Imipramine 8. Lithi\n",
            "\n",
            "score: 0.036652203649282455\n",
            "--------------------------------------------------------------------------------\n",
            "\n",
            "id: 79903f687dc24d169ed83d08eee7a209\n",
            "\n",
            "text: Page 75 of 123\n",
            "\n",
            "Medicines Category Route of Administration/Dosage Form Strengths Ascorbic Acid P,S,T Tablets 100 mg, 500 mg Calcium carbonate P,S,T Tablets 250 mg, 500 mg Multivitamins (As per Schedule V of Drugs and Cosmetics Rules) P,S,T Tablets Nicotina\n",
            "\n",
            "score: 0.00843687541782856\n",
            "--------------------------------------------------------------------------------\n",
            "\n",
            "id: f9b0939c68e94ff4b6df9abf95a5de36\n",
            "\n",
            "text: Page 121 of 123\n",
            "\n",
            "S.No List of Medicines in NLEM 2011 – Category Wise Category 29. Flutamide T 30. Folinic Acid T 31. Fresh frozen plasma T 32. Gemcitabine hydrochloride T 33. Glucagon T 34. Hormone Releasing IUD T 35. Ifosfamide T 36. Imatinib T 37. Intrap\n",
            "\n",
            "score: 0.003338712267577648\n",
            "--------------------------------------------------------------------------------\n",
            "\n"
          ]
        }
      ],
      "source": [
        "for doc in reranked_docs:\n",
        "    print(f\"id: {doc.metadata['_id']}\\n\")\n",
        "    print(f\"text: {doc.page_content[:256]}\\n\")\n",
        "    print(f\"score: {doc.metadata['relevance_score']}\")\n",
        "    print(\"-\" * 80)\n",
        "    print()"
      ]
    },
    {
      "cell_type": "code",
      "execution_count": 23,
      "metadata": {
        "id": "ZRfBE86M_ycv"
      },
      "outputs": [],
      "source": [
        "llm = ChatGroq(temperature=0, model_name=\"llama3-70b-8192\")"
      ]
    },
    {
      "cell_type": "code",
      "execution_count": 24,
      "metadata": {
        "id": "HQP3MXEu_1B6"
      },
      "outputs": [],
      "source": [
        "prompt_template = \"\"\"\n",
        "Use the following pieces of information to answer the user's question.\n",
        "If you don't know the answer, just say that you don't know, don't try to make up an answer. However, make sure you are also as enagaing as possible.\n",
        "Make you sure you intract with the user in a human like manner. and also engage with the user in a conversational and empathetic manner\n",
        "\n",
        "Context: {context}\n",
        "Question: {question}\n",
        "\n",
        "Answer the question and provide additional helpful information,\n",
        "based on the pieces of information, if applicable. Be succinct.\n",
        "\n",
        "Responses should be properly formatted to be easily read.\n",
        "\"\"\"\n",
        "\n",
        "prompt = PromptTemplate(\n",
        "    template=prompt_template, input_variables=[\"context\", \"question\"]\n",
        ")"
      ]
    },
    {
      "cell_type": "code",
      "execution_count": 25,
      "metadata": {
        "id": "1g7etYiC_3Pk"
      },
      "outputs": [],
      "source": [
        "\n",
        "qa = RetrievalQA.from_chain_type(\n",
        "    llm=llm,\n",
        "    chain_type=\"stuff\",\n",
        "    retriever=compression_retriever,\n",
        "    return_source_documents=True,\n",
        "    chain_type_kwargs={\"prompt\": prompt, \"verbose\": True},\n",
        ")"
      ]
    },
    {
      "cell_type": "code",
      "execution_count": 26,
      "metadata": {
        "colab": {
          "base_uri": "https://localhost:8080/"
        },
        "id": "1qpqyE9h_55c",
        "outputId": "6fe7dce9-d08f-48c1-95cb-2040a71af8f2"
      },
      "outputs": [
        {
          "output_type": "stream",
          "name": "stdout",
          "text": [
            "Running pairwise ranking..\n",
            "\n",
            "\n",
            "\u001b[1m> Entering new StuffDocumentsChain chain...\u001b[0m\n",
            "\n",
            "\n",
            "\u001b[1m> Entering new LLMChain chain...\u001b[0m\n",
            "Prompt after formatting:\n",
            "\u001b[32;1m\u001b[1;3m\n",
            "Use the following pieces of information to answer the user's question.\n",
            "If you don't know the answer, just say that you don't know, don't try to make up an answer. However, make sure you are also as enagaing as possible.\n",
            "Make you sure you intract with the user in a human like manner. and also engage with the user in a conversational and empathetic manner\n",
            "\n",
            "Context: SECTION: 24 – Psychotherapeutic Medicines\n",
            "\n",
            "1. Alprazolam 2. Amitriptyline 3. Chlorpromazine hydrochloride\n",
            "\n",
            "Page 91 of 123\n",
            "\n",
            "Alphabetical List of Medicines – Therapeutic area wise\n",
            "\n",
            "4. Diazepam 5. Fluoxetine hydrochloride 6. Haloperidol 7. Imipramine 8. Lithium Carbonate 9. Olanzapine 10. Sodium Valproate\n",
            "\n",
            "SECTION: 25 – Medicines acting on the respiratory tract\n",
            "\n",
            "1. Beclomethasone Dipropionate 2. Codeine phosphate 3. Dextromethorphan 4. Hydrocortisone sodium succinate 5. Ipratropium bromide 6. Salbutamol sulphate\n",
            "\n",
            "SECTION: 26 – Solutions correcting water, electrolyte and acid-base disturbances\n",
            "\n",
            "1. Glucose 2. Glucose with sodium chloride 3. N/2 Saline 4. N/5 Saline 5. Normal Saline 6. Oral Rehydration Salts 7. Potassium Chloride 8. Ringer Lactate 9. Sodium Bicarbonate 10. Water for Injection\n",
            "\n",
            "Page 92 of 123\n",
            "\n",
            "Alphabetical List of Medicines – Therapeutic area wise\n",
            "\n",
            "SECTION: 27 – Vitamins and Minerals\n",
            "1. Ascorbic Acid\n",
            "2. Calcium gluconate\n",
            "3. Calcium carbonate\n",
            "4. Multivitamins (As per Schedule V of Drugs and Cosmetics Rules)\n",
            "5. Nicotinamide\n",
            "6. Pyridoxine\n",
            "7. Riboflavin\n",
            "8. Thiamine\n",
            "9. Vitamin A\n",
            "10. Vitamin D (Ergocalciferol)\n",
            "\n",
            "Page 93 of 123\n",
            "\n",
            "S.No Alphabetical List of Medicines in NLEM 2011 1. 25% Dextrose 2. 5-Amino salicylic Acid 3. 5-Fluorouracil 4. Acetazolamide 5. Acetyl Salicylic Acid 6. Acriflavin+Glycerin 7. Actinomycin D 8. Activated Charcoal 9. Acyclovir 10. Adenosine 11. Adrenaline Bitartrate 12. Albendazole 13. Albumin 14. Allopurinol 15. Alpha Interferon 16. Alprazolam 17. Aluminium Hydroxide + Magnesium Hydroxide 18. Amikacin 19. Amiodarone 20. Amitriptyline 21. Amlodipine 22. Amoxicillin 23. Amoxicillin+Clavulinic acid 24. Amphotericin B\n",
            "\n",
            "Page 94 of 123\n",
            "\n",
            "Page 75 of 123\n",
            "\n",
            "Medicines Category Route of Administration/Dosage Form Strengths Ascorbic Acid P,S,T Tablets 100 mg, 500 mg Calcium carbonate P,S,T Tablets 250 mg, 500 mg Multivitamins (As per Schedule V of Drugs and Cosmetics Rules) P,S,T Tablets Nicotinamide P,S,T Tablets 50 mg Pyridoxine P,S,T Tablets 25 mg Riboflavin P,S,T Tablets 5 mg Thiamine P,S,T Tablets 100 mg Vitamin A P,S,T Capsules, Injection 5000 IU, 50000 IU, 100000 IU, 50000 IU/ml Vitamin D (Ergocalciferol) P,S,T Capsules 0.25 mg, 1 mg Calcium gluconate P,S,T Injection 100mg/ml in 10 ml ampoule ---\n",
            "\n",
            "Alphabetical List of Medicines – Therapeutic area wise\n",
            "\n",
            "S.No Section 1: – Anesthesia 1. Atropine Sulphate 2. Bupivacaine Hydrochloride 3. Diazepam 4. EMLA cream 5. Ether 6. Halothane with vaporizer 7. Isoflurane 8. Ketamine Hydrochloride 9. Lignocaine Hydrochloride 10. Lignocaine Hydrochloride + Adrenaline 11. Midazolam 12. Morphine Sulphate 13. Nitrous Oxide 14. Oxygen 15. Promethazine 16. Propofol 17. Sevoflurane 18. Thiopentone Sodium\n",
            "\n",
            "S.No Section 2 – Analgesics, Antipyretics, Nonsteroidal anti-inflammatory medicines, Medicines used to treat Gout and Disease Modifying Agents used in Rheumatoid Disorders 1. Acetyl Salicylic Acid 2. Allopurinol 3. Azathioprine 4. Colchicine --- # Alphabetical List of Medicines – Therapeutic area wise\n",
            "\n",
            "5. Diclofenac 6. Fentanyl 7. Hydroxychloroquine phosphate 8. Ibuprofen 9. Leflunomide 10. Methotrexate 11. Morphine Sulphate 12. Paracetamol 13. Sulfasalazine 14. Tramadol\n",
            "\n",
            "SECTION: 3 – Antiallergics and Medicines used in Anaphylaxis\n",
            "\n",
            "1. Adrenaline Bitartrate 2. Cetrizine 3. Chlorpheniramine Maleate 4. Dexamethasone 5. Dexchlorpheniramine Maleate 6. Hydrocortisone Sodium Succinate 7. Pheniramine Maleate 8. Prednisolone 9. Promethazine\n",
            "\n",
            "SECTION: 4 – Antidotes and Other Substances used in Poisonings\n",
            "\n",
            "1. Activated Charcoal 2. Atropine Sulphate 3. Calcium gluconate 4. Desferrioxamine mesylate --- # Alphabetical List of Medicines – Therapeutic area wise\n",
            "\n",
            "Page 121 of 123\n",
            "\n",
            "S.No List of Medicines in NLEM 2011 – Category Wise Category 29. Flutamide T 30. Folinic Acid T 31. Fresh frozen plasma T 32. Gemcitabine hydrochloride T 33. Glucagon T 34. Hormone Releasing IUD T 35. Ifosfamide T 36. Imatinib T 37. Intraperitoneal Dialysis Solution T 38. L- Asparaginase T 39. Lithium Carbonate T 40. Lorazepam T 41. Melphalan T 42. Mercaptopurine T 43. Mesna T 44. Methyl Cellulose T 45. Mifepristone T 46. Misoprostol T 47. Mitomycin-C T 48. Olanzapine T 49. Oxaliplatin T 50. Paclitaxel T 51. Pantoprazole T --- S.No List of Medicines in NLEM 2011 – Category Wise Category --- --- --- 52. Procainamide Hydrochloride T 53. Procarbazine T 54. Raloxifene T 55. Sevoflurane T 56. Sodium Nitroprusside T 57. Tamoxifen Citrate T 58. Urokinase T 59. Vancomycin Hydrochloride T 60. Vinblastine sulphate T 61. Vincristine T\n",
            "\n",
            "Total Medicines Category P,S,T 181 Category S,T 106 Category T 61 Total 348\n",
            "Question: What is Lithium Carbonate used for ?\n",
            "\n",
            "Answer the question and provide additional helpful information,\n",
            "based on the pieces of information, if applicable. Be succinct.\n",
            "\n",
            "Responses should be properly formatted to be easily read.\n",
            "\u001b[0m\n",
            "\n",
            "\u001b[1m> Finished chain.\u001b[0m\n",
            "\n",
            "\u001b[1m> Finished chain.\u001b[0m\n",
            "CPU times: user 3.07 s, sys: 209 ms, total: 3.28 s\n",
            "Wall time: 4.05 s\n"
          ]
        }
      ],
      "source": [
        "%%time\n",
        "response = qa.invoke(\"What is Lithium Carbonate used for ?\")"
      ]
    },
    {
      "cell_type": "code",
      "execution_count": 27,
      "metadata": {
        "colab": {
          "base_uri": "https://localhost:8080/"
        },
        "id": "JsKLTqFwAAZo",
        "outputId": "183e785d-4873-4cf3-94b8-85267d69a194"
      },
      "outputs": [
        {
          "output_type": "stream",
          "name": "stdout",
          "text": [
            "**Answer:** Unfortunately, the provided information does not explicitly state what Lithium Carbonate\n",
            "is used for. However, I can tell you that it is a psychotherapeutic medicine, as it is listed under\n",
            "SECTION: 24 – Psychotherapeutic Medicines.\n",
            "\n",
            "**Additional Information:** Lithium Carbonate is commonly used to treat bipolar disorder, a mental\n",
            "health condition characterized by periods of mania or hypomania, often alternating with episodes of\n",
            "depression. It helps to stabilize mood and reduce symptoms of mania.\n",
            "\n",
            "If you have any further questions or concerns, feel free to ask!\n"
          ]
        }
      ],
      "source": [
        "print_response(response)"
      ]
    },
    {
      "cell_type": "code",
      "execution_count": 28,
      "metadata": {
        "colab": {
          "base_uri": "https://localhost:8080/"
        },
        "id": "aBPK_xT8AF9e",
        "outputId": "50cc4626-7b3e-48df-d413-6404fd4c5ae9"
      },
      "outputs": [
        {
          "output_type": "stream",
          "name": "stdout",
          "text": [
            "Running pairwise ranking..\n",
            "\n",
            "\n",
            "\u001b[1m> Entering new StuffDocumentsChain chain...\u001b[0m\n",
            "\n",
            "\n",
            "\u001b[1m> Entering new LLMChain chain...\u001b[0m\n",
            "Prompt after formatting:\n",
            "\u001b[32;1m\u001b[1;3m\n",
            "Use the following pieces of information to answer the user's question.\n",
            "If you don't know the answer, just say that you don't know, don't try to make up an answer. However, make sure you are also as enagaing as possible.\n",
            "Make you sure you intract with the user in a human like manner. and also engage with the user in a conversational and empathetic manner\n",
            "\n",
            "Context: Medicines Category Route of Administration/Dosage Form Strengths Atropine Sulphate P, S, T Drops/Ointment 1% Homatropine P, S, T Drops 2% Phenylephrine P, S, T Drops 5%\n",
            "\n",
            "Medicines Category Route of Administration/Dosage Form Strengths Methyl Cellulose T Injection 2%\n",
            "\n",
            "Medicines Category Route of Administration/Dosage Form Strengths Methyl Ergometrine P, S, T Injection 0.2mg/ml Mifepristone T Tablets 200mg Oxytocin S, T Injection 5 IU/ml, 10 IU/ml --- Added medicines --- --- --- --- Misoprostol T Tablets 100μg Antioxytocics Medicines Category Route of Administration/ Dosage Form Strengths Terbutaline Sulphate S,T Tablets 2.5 mg Injection 0.5 mg/ml Added Medicines Nifedipine S,T Tablets 10 mg Betamethasone P,S,T Injection 4 mg/ml\n",
            "\n",
            "Page 71 of 123\n",
            "\n",
            "Section: 23 – Peritoneal Dialysis Solution\n",
            "\n",
            "Medicines Category Route of Administration/Dosage Form Strengths Intraperitoneal Dialysis Solution T 4L of approximate composition\n",
            "\n",
            "Section: 24 – Psychotherapeutic Medicines\n",
            "\n",
            "24.1: Medicines used in Psychotic Disorders\n",
            "\n",
            "Medicines Category Route of Administration/Dosage Form Strengths Chlorpromazine hydrochloride P,S,T Tablets 25 mg, 50 mg, 100 mg Chlorpromazine hydrochloride P,S,T Syrup 25 mg/5ml Chlorpromazine hydrochloride P,S,T Injection 25 mg/ml Haloperidol S, T Injection 5 mg/ml Olanzapine T Tablets 5 mg, 10 mg\n",
            "\n",
            "24.2: Medicines used in mood disorders\n",
            "\n",
            "24.2.1: Medicines used in Depressive disorders\n",
            "\n",
            "Medicines Category Route of Administration/Dosage Form Strengths Amitriptyline P,S,T Tablets 25 mg Fluoxetine hydrochloride P,S,T Capsules 20 mg Imipramine P,S,T Tablets 25 mg, 75 mg\n",
            "\n",
            "24.2.2: Medicines used in Bipolar disorders\n",
            "\n",
            "Medicines Category Route of Administration/Dosage Form Strengths Lithium Carbonate T Tablets 300 mg\n",
            "\n",
            "Page 72 of 123\n",
            "\n",
            "Added Medicines\n",
            "\n",
            "Sodium Valproate Category Route of Administration/Dosage Form Strengths Tablets P,S,T 200 mg, 500mg\n",
            "\n",
            "Medicines used for Generalized Anxiety and Sleep Disorders\n",
            "\n",
            "Page 75 of 123\n",
            "\n",
            "Medicines Category Route of Administration/Dosage Form Strengths Ascorbic Acid P,S,T Tablets 100 mg, 500 mg Calcium carbonate P,S,T Tablets 250 mg, 500 mg Multivitamins (As per Schedule V of Drugs and Cosmetics Rules) P,S,T Tablets Nicotinamide P,S,T Tablets 50 mg Pyridoxine P,S,T Tablets 25 mg Riboflavin P,S,T Tablets 5 mg Thiamine P,S,T Tablets 100 mg Vitamin A P,S,T Capsules, Injection 5000 IU, 50000 IU, 100000 IU, 50000 IU/ml Vitamin D (Ergocalciferol) P,S,T Capsules 0.25 mg, 1 mg Calcium gluconate P,S,T Injection 100mg/ml in 10 ml ampoule ---\n",
            "\n",
            "Alphabetical List of Medicines – Therapeutic area wise\n",
            "\n",
            "S.No Section 1: – Anesthesia 1. Atropine Sulphate 2. Bupivacaine Hydrochloride 3. Diazepam 4. EMLA cream 5. Ether 6. Halothane with vaporizer 7. Isoflurane 8. Ketamine Hydrochloride 9. Lignocaine Hydrochloride 10. Lignocaine Hydrochloride + Adrenaline 11. Midazolam 12. Morphine Sulphate 13. Nitrous Oxide 14. Oxygen 15. Promethazine 16. Propofol 17. Sevoflurane 18. Thiopentone Sodium\n",
            "\n",
            "S.No Section 2 – Analgesics, Antipyretics, Nonsteroidal anti-inflammatory medicines, Medicines used to treat Gout and Disease Modifying Agents used in Rheumatoid Disorders 1. Acetyl Salicylic Acid 2. Allopurinol 3. Azathioprine 4. Colchicine --- # Alphabetical List of Medicines – Therapeutic area wise\n",
            "\n",
            "5. Diclofenac 6. Fentanyl 7. Hydroxychloroquine phosphate 8. Ibuprofen 9. Leflunomide 10. Methotrexate 11. Morphine Sulphate 12. Paracetamol 13. Sulfasalazine 14. Tramadol\n",
            "\n",
            "SECTION: 3 – Antiallergics and Medicines used in Anaphylaxis\n",
            "\n",
            "1. Adrenaline Bitartrate 2. Cetrizine 3. Chlorpheniramine Maleate 4. Dexamethasone 5. Dexchlorpheniramine Maleate 6. Hydrocortisone Sodium Succinate 7. Pheniramine Maleate 8. Prednisolone 9. Promethazine\n",
            "\n",
            "SECTION: 4 – Antidotes and Other Substances used in Poisonings\n",
            "\n",
            "1. Activated Charcoal 2. Atropine Sulphate 3. Calcium gluconate 4. Desferrioxamine mesylate --- # Alphabetical List of Medicines – Therapeutic area wise\n",
            "\n",
            "Medicines used for Generalized Anxiety and Sleep Disorders\n",
            "\n",
            "Medicines Category Route of Administration/Dosage Form Strengths Alprazolam P,S,T Tablets 0.25 mg, 0.5 mg Diazepam P,S,T Tablets 2 mg, 5mg\n",
            "\n",
            "Medicines used for obsessive compulsive disorders and panic attacks\n",
            "\n",
            "Medicines Category Route of Administration/Dosage Form Strengths Fluoxetine hydrochloride P,S,T Capsules 20 mg --- Medicines Category Route of Administration/Dosage Form Strengths --- --- --- --- Beclomethasone Dipropionate P,S,T Inhalation 50 μg, 250μg/dose Hydrocortisone sodium succinate P,S,T Injection 100 mg, 200mg, 400 mg Salbutamol sulphate P,S,T Syrup 2mg/5ml Inhalation 100μg/dose Ipratropium bromide P,S,T Inhalation 20μg/metered dose\n",
            "\n",
            "Medicines Category Route of Administration/Dosage Form Strengths Codeine phosphate S,T Tablets 10mg Syrup 15mg/5ml Dextromethorphan P,S,T Tablets 30mg --- Section: 26 – Solutions correcting water, electrolyte and acid-base disturbances\n",
            "\n",
            "26.1: Oral\n",
            "\n",
            "Medicines Category Route of Administration/Dosage Form Strengths Oral Rehydration Salts P, S, T Powder for Solution As per IP\n",
            "\n",
            "26.2: Parenteral\n",
            "\n",
            "Medicines Category Route of Administration/Dosage Form Strengths Glucose P, S, T Injection 5% isotonic, 10%, 15% Glucose with sodium chloride P, S, T Injection 5% + 0.9% Normal Saline P, S, T Injection 0.9% N/2 Saline S, T Injection N/5 Saline S, T Injection Potassium Chloride P, S, T Injection 11.2% Sol. Ringer Lactate P, S, T Injection As per IP Sodium Bicarbonate P, S, T Injection As per IP\n",
            "\n",
            "26.3: Miscellaneous\n",
            "\n",
            "Medicines Category Route of Administration/Dosage Form Strengths Water for Injection P, S, T Injection 2 ml, 5 ml, 10 ml\n",
            "\n",
            "Page 75 of 123\n",
            "Question: What is Lithium Carbonate used for and what dosages can i take for a child in their teens \n",
            "\n",
            "Answer the question and provide additional helpful information,\n",
            "based on the pieces of information, if applicable. Be succinct.\n",
            "\n",
            "Responses should be properly formatted to be easily read.\n",
            "\u001b[0m\n",
            "\n",
            "\u001b[1m> Finished chain.\u001b[0m\n",
            "\n",
            "\u001b[1m> Finished chain.\u001b[0m\n",
            "CPU times: user 2.87 s, sys: 104 ms, total: 2.97 s\n",
            "Wall time: 3.93 s\n"
          ]
        }
      ],
      "source": [
        "%%time\n",
        "response = qa.invoke(\"What is Lithium Carbonate used for and what dosages can i take for a child in their teens \")"
      ]
    },
    {
      "cell_type": "code",
      "execution_count": 29,
      "metadata": {
        "colab": {
          "base_uri": "https://localhost:8080/"
        },
        "id": "ao9TW7o9AVuV",
        "outputId": "37e69920-c41c-4b71-e778-e9ba751b233c"
      },
      "outputs": [
        {
          "output_type": "stream",
          "name": "stdout",
          "text": [
            "**Lithium Carbonate: Uses and Dosages for Teenagers**\n",
            "\n",
            "According to the provided information, Lithium Carbonate is used to treat **Bipolar disorders**.\n",
            "\n",
            "The available dosage form and strength for Lithium Carbonate are:\n",
            "\n",
            "* Tablets: 300 mg\n",
            "\n",
            "Unfortunately, the provided information does not specify the dosage for children in their teens.\n",
            "It's essential to consult a healthcare professional to determine the appropriate dosage and\n",
            "treatment plan for a teenager with bipolar disorder. They will consider factors such as the child's\n",
            "age, weight, and medical history to ensure safe and effective treatment.\n",
            "\n",
            "Additionally, it's crucial to monitor the child's response to the medication and adjust the dosage\n",
            "as needed. Lithium Carbonate can have side effects, and regular check-ups with a healthcare\n",
            "professional are necessary to minimize potential risks.\n",
            "\n",
            "Remember, always consult a healthcare professional before starting any medication, especially for\n",
            "children and teenagers. They will provide personalized guidance and care to ensure the best possible\n",
            "outcome.\n"
          ]
        }
      ],
      "source": [
        "print_response(response)"
      ]
    },
    {
      "cell_type": "code",
      "execution_count": 30,
      "metadata": {
        "colab": {
          "base_uri": "https://localhost:8080/"
        },
        "id": "UiZLSGW1AXiM",
        "outputId": "1b161a28-6b4b-4a3c-b094-b2bb03aef9be"
      },
      "outputs": [
        {
          "output_type": "stream",
          "name": "stdout",
          "text": [
            "Collecting fastapi\n",
            "  Downloading fastapi-0.111.1-py3-none-any.whl (92 kB)\n",
            "\u001b[?25l     \u001b[90m━━━━━━━━━━━━━━━━━━━━━━━━━━━━━━━━━━━━━━━━\u001b[0m \u001b[32m0.0/92.2 kB\u001b[0m \u001b[31m?\u001b[0m eta \u001b[36m-:--:--\u001b[0m\r\u001b[2K     \u001b[91m━━━━━━━━━━━━━\u001b[0m\u001b[90m╺\u001b[0m\u001b[90m━━━━━━━━━━━━━━━━━━━━━━━━━━\u001b[0m \u001b[32m30.7/92.2 kB\u001b[0m \u001b[31m835.4 kB/s\u001b[0m eta \u001b[36m0:00:01\u001b[0m\r\u001b[2K     \u001b[91m━━━━━━━━━━━━━━━━━━━━━━━━━━━━━━━━━━━━━━━\u001b[0m\u001b[91m╸\u001b[0m \u001b[32m92.2/92.2 kB\u001b[0m \u001b[31m1.3 MB/s\u001b[0m eta \u001b[36m0:00:01\u001b[0m\r\u001b[2K     \u001b[90m━━━━━━━━━━━━━━━━━━━━━━━━━━━━━━━━━━━━━━━━\u001b[0m \u001b[32m92.2/92.2 kB\u001b[0m \u001b[31m1.1 MB/s\u001b[0m eta \u001b[36m0:00:00\u001b[0m\n",
            "\u001b[?25hRequirement already satisfied: nest-asyncio in /usr/local/lib/python3.10/dist-packages (1.6.0)\n",
            "Collecting pyngrok\n",
            "  Downloading pyngrok-7.2.0-py3-none-any.whl (22 kB)\n",
            "Collecting uvicorn\n",
            "  Downloading uvicorn-0.30.1-py3-none-any.whl (62 kB)\n",
            "\u001b[2K     \u001b[90m━━━━━━━━━━━━━━━━━━━━━━━━━━━━━━━━━━━━━━━━\u001b[0m \u001b[32m62.4/62.4 kB\u001b[0m \u001b[31m4.2 MB/s\u001b[0m eta \u001b[36m0:00:00\u001b[0m\n",
            "\u001b[?25hCollecting starlette<0.38.0,>=0.37.2 (from fastapi)\n",
            "  Downloading starlette-0.37.2-py3-none-any.whl (71 kB)\n",
            "\u001b[2K     \u001b[90m━━━━━━━━━━━━━━━━━━━━━━━━━━━━━━━━━━━━━━━━\u001b[0m \u001b[32m71.9/71.9 kB\u001b[0m \u001b[31m5.8 MB/s\u001b[0m eta \u001b[36m0:00:00\u001b[0m\n",
            "\u001b[?25hRequirement already satisfied: pydantic!=1.8,!=1.8.1,!=2.0.0,!=2.0.1,!=2.1.0,<3.0.0,>=1.7.4 in /usr/local/lib/python3.10/dist-packages (from fastapi) (2.8.2)\n",
            "Requirement already satisfied: typing-extensions>=4.8.0 in /usr/local/lib/python3.10/dist-packages (from fastapi) (4.12.2)\n",
            "Collecting fastapi-cli>=0.0.2 (from fastapi)\n",
            "  Downloading fastapi_cli-0.0.4-py3-none-any.whl (9.5 kB)\n",
            "Requirement already satisfied: httpx>=0.23.0 in /usr/local/lib/python3.10/dist-packages (from fastapi) (0.27.0)\n",
            "Requirement already satisfied: jinja2>=2.11.2 in /usr/local/lib/python3.10/dist-packages (from fastapi) (3.1.4)\n",
            "Collecting python-multipart>=0.0.7 (from fastapi)\n",
            "  Downloading python_multipart-0.0.9-py3-none-any.whl (22 kB)\n",
            "Collecting email_validator>=2.0.0 (from fastapi)\n",
            "  Downloading email_validator-2.2.0-py3-none-any.whl (33 kB)\n",
            "Requirement already satisfied: PyYAML>=5.1 in /usr/local/lib/python3.10/dist-packages (from pyngrok) (6.0.1)\n",
            "Requirement already satisfied: click>=7.0 in /usr/local/lib/python3.10/dist-packages (from uvicorn) (8.1.7)\n",
            "Requirement already satisfied: h11>=0.8 in /usr/local/lib/python3.10/dist-packages (from uvicorn) (0.14.0)\n",
            "Collecting dnspython>=2.0.0 (from email_validator>=2.0.0->fastapi)\n",
            "  Downloading dnspython-2.6.1-py3-none-any.whl (307 kB)\n",
            "\u001b[2K     \u001b[90m━━━━━━━━━━━━━━━━━━━━━━━━━━━━━━━━━━━━━━━━\u001b[0m \u001b[32m307.7/307.7 kB\u001b[0m \u001b[31m5.9 MB/s\u001b[0m eta \u001b[36m0:00:00\u001b[0m\n",
            "\u001b[?25hRequirement already satisfied: idna>=2.0.0 in /usr/local/lib/python3.10/dist-packages (from email_validator>=2.0.0->fastapi) (3.7)\n",
            "Requirement already satisfied: typer>=0.12.3 in /usr/local/lib/python3.10/dist-packages (from fastapi-cli>=0.0.2->fastapi) (0.12.3)\n",
            "Requirement already satisfied: anyio in /usr/local/lib/python3.10/dist-packages (from httpx>=0.23.0->fastapi) (3.7.1)\n",
            "Requirement already satisfied: certifi in /usr/local/lib/python3.10/dist-packages (from httpx>=0.23.0->fastapi) (2024.7.4)\n",
            "Requirement already satisfied: httpcore==1.* in /usr/local/lib/python3.10/dist-packages (from httpx>=0.23.0->fastapi) (1.0.5)\n",
            "Requirement already satisfied: sniffio in /usr/local/lib/python3.10/dist-packages (from httpx>=0.23.0->fastapi) (1.3.1)\n",
            "Requirement already satisfied: MarkupSafe>=2.0 in /usr/local/lib/python3.10/dist-packages (from jinja2>=2.11.2->fastapi) (2.1.5)\n",
            "Requirement already satisfied: annotated-types>=0.4.0 in /usr/local/lib/python3.10/dist-packages (from pydantic!=1.8,!=1.8.1,!=2.0.0,!=2.0.1,!=2.1.0,<3.0.0,>=1.7.4->fastapi) (0.7.0)\n",
            "Requirement already satisfied: pydantic-core==2.20.1 in /usr/local/lib/python3.10/dist-packages (from pydantic!=1.8,!=1.8.1,!=2.0.0,!=2.0.1,!=2.1.0,<3.0.0,>=1.7.4->fastapi) (2.20.1)\n",
            "Collecting httptools>=0.5.0 (from uvicorn)\n",
            "  Downloading httptools-0.6.1-cp310-cp310-manylinux_2_5_x86_64.manylinux1_x86_64.manylinux_2_17_x86_64.manylinux2014_x86_64.whl (341 kB)\n",
            "\u001b[2K     \u001b[90m━━━━━━━━━━━━━━━━━━━━━━━━━━━━━━━━━━━━━━━━\u001b[0m \u001b[32m341.4/341.4 kB\u001b[0m \u001b[31m19.8 MB/s\u001b[0m eta \u001b[36m0:00:00\u001b[0m\n",
            "\u001b[?25hCollecting python-dotenv>=0.13 (from uvicorn)\n",
            "  Downloading python_dotenv-1.0.1-py3-none-any.whl (19 kB)\n",
            "Collecting uvloop!=0.15.0,!=0.15.1,>=0.14.0 (from uvicorn)\n",
            "  Downloading uvloop-0.19.0-cp310-cp310-manylinux_2_17_x86_64.manylinux2014_x86_64.whl (3.4 MB)\n",
            "\u001b[2K     \u001b[90m━━━━━━━━━━━━━━━━━━━━━━━━━━━━━━━━━━━━━━━━\u001b[0m \u001b[32m3.4/3.4 MB\u001b[0m \u001b[31m18.6 MB/s\u001b[0m eta \u001b[36m0:00:00\u001b[0m\n",
            "\u001b[?25hCollecting watchfiles>=0.13 (from uvicorn)\n",
            "  Downloading watchfiles-0.22.0-cp310-cp310-manylinux_2_17_x86_64.manylinux2014_x86_64.whl (1.2 MB)\n",
            "\u001b[2K     \u001b[90m━━━━━━━━━━━━━━━━━━━━━━━━━━━━━━━━━━━━━━━━\u001b[0m \u001b[32m1.2/1.2 MB\u001b[0m \u001b[31m59.0 MB/s\u001b[0m eta \u001b[36m0:00:00\u001b[0m\n",
            "\u001b[?25hCollecting websockets>=10.4 (from uvicorn)\n",
            "  Downloading websockets-12.0-cp310-cp310-manylinux_2_5_x86_64.manylinux1_x86_64.manylinux_2_17_x86_64.manylinux2014_x86_64.whl (130 kB)\n",
            "\u001b[2K     \u001b[90m━━━━━━━━━━━━━━━━━━━━━━━━━━━━━━━━━━━━━━━━\u001b[0m \u001b[32m130.2/130.2 kB\u001b[0m \u001b[31m14.8 MB/s\u001b[0m eta \u001b[36m0:00:00\u001b[0m\n",
            "\u001b[?25hRequirement already satisfied: exceptiongroup in /usr/local/lib/python3.10/dist-packages (from anyio->httpx>=0.23.0->fastapi) (1.2.2)\n",
            "Requirement already satisfied: shellingham>=1.3.0 in /usr/local/lib/python3.10/dist-packages (from typer>=0.12.3->fastapi-cli>=0.0.2->fastapi) (1.5.4)\n",
            "Requirement already satisfied: rich>=10.11.0 in /usr/local/lib/python3.10/dist-packages (from typer>=0.12.3->fastapi-cli>=0.0.2->fastapi) (13.7.1)\n",
            "Requirement already satisfied: markdown-it-py>=2.2.0 in /usr/local/lib/python3.10/dist-packages (from rich>=10.11.0->typer>=0.12.3->fastapi-cli>=0.0.2->fastapi) (3.0.0)\n",
            "Requirement already satisfied: pygments<3.0.0,>=2.13.0 in /usr/local/lib/python3.10/dist-packages (from rich>=10.11.0->typer>=0.12.3->fastapi-cli>=0.0.2->fastapi) (2.16.1)\n",
            "Requirement already satisfied: mdurl~=0.1 in /usr/local/lib/python3.10/dist-packages (from markdown-it-py>=2.2.0->rich>=10.11.0->typer>=0.12.3->fastapi-cli>=0.0.2->fastapi) (0.1.2)\n",
            "Installing collected packages: websockets, uvloop, uvicorn, python-multipart, python-dotenv, pyngrok, httptools, dnspython, watchfiles, starlette, email_validator, fastapi-cli, fastapi\n",
            "Successfully installed dnspython-2.6.1 email_validator-2.2.0 fastapi-0.111.1 fastapi-cli-0.0.4 httptools-0.6.1 pyngrok-7.2.0 python-dotenv-1.0.1 python-multipart-0.0.9 starlette-0.37.2 uvicorn-0.30.1 uvloop-0.19.0 watchfiles-0.22.0 websockets-12.0\n"
          ]
        }
      ],
      "source": [
        "!pip install fastapi nest-asyncio pyngrok uvicorn\n"
      ]
    },
    {
      "cell_type": "code",
      "execution_count": 31,
      "metadata": {
        "colab": {
          "base_uri": "https://localhost:8080/"
        },
        "id": "vmoZg2_fXNI3",
        "outputId": "215b96f8-92d3-442b-d0e3-cc1b74a08adb"
      },
      "outputs": [
        {
          "output_type": "stream",
          "name": "stdout",
          "text": [
            "--2024-07-19 04:30:42--  https://bin.equinox.io/c/4VmDzA7iaHb/ngrok-stable-linux-amd64.zip\n",
            "Resolving bin.equinox.io (bin.equinox.io)... 54.161.241.46, 52.202.168.65, 18.205.222.128, ...\n",
            "Connecting to bin.equinox.io (bin.equinox.io)|54.161.241.46|:443... connected.\n",
            "HTTP request sent, awaiting response... 200 OK\n",
            "Length: 13921656 (13M) [application/octet-stream]\n",
            "Saving to: ‘ngrok-stable-linux-amd64.zip’\n",
            "\n",
            "ngrok-stable-linux- 100%[===================>]  13.28M  34.8MB/s    in 0.4s    \n",
            "\n",
            "2024-07-19 04:30:42 (34.8 MB/s) - ‘ngrok-stable-linux-amd64.zip’ saved [13921656/13921656]\n",
            "\n"
          ]
        }
      ],
      "source": [
        "!wget https://bin.equinox.io/c/4VmDzA7iaHb/ngrok-stable-linux-amd64.zip"
      ]
    },
    {
      "cell_type": "code",
      "execution_count": 32,
      "metadata": {
        "colab": {
          "base_uri": "https://localhost:8080/"
        },
        "id": "2BkUbn2GK-e_",
        "outputId": "6b1e1036-1006-4b89-94f8-1837251d8555"
      },
      "outputs": [
        {
          "output_type": "stream",
          "name": "stdout",
          "text": [
            "Archive:  ngrok-stable-linux-amd64.zip\n",
            "  inflating: ngrok                   \n"
          ]
        }
      ],
      "source": [
        "!unzip -o ngrok-stable-linux-amd64.zip"
      ]
    },
    {
      "cell_type": "code",
      "execution_count": 33,
      "metadata": {
        "id": "yVUqxrf_LDU2"
      },
      "outputs": [],
      "source": [
        "from pyngrok import conf\n",
        "os.environ[\"NGROK\"] = userdata.get(\"NGROK\")\n",
        "conf.get_default().auth_token = os.environ[\"NGROK\"]"
      ]
    },
    {
      "cell_type": "code",
      "execution_count": 34,
      "metadata": {
        "id": "dJRpntGmXGPE"
      },
      "outputs": [],
      "source": [
        "from fastapi import FastAPI, HTTPException\n",
        "from pydantic import BaseModel\n",
        "from fastapi.middleware.cors import CORSMiddleware\n",
        "\n",
        "app = FastAPI()\n",
        "\n",
        "class QuestionRequest(BaseModel):\n",
        "    question: str\n",
        "\n",
        "app.add_middleware(\n",
        "    CORSMiddleware,\n",
        "    allow_origins=['*'],\n",
        "    allow_credentials=True,\n",
        "    allow_methods=['*'],\n",
        "    allow_headers=['*'],\n",
        ")\n",
        "\n",
        "\n",
        "@app.post(\"/ask\")\n",
        "async def ask_question(request: QuestionRequest):\n",
        "    try:\n",
        "        response = qa.invoke(request.question)\n",
        "        response_txt = response[\"result\"]\n",
        "        return {\"answer\": response_txt}\n",
        "    except Exception as e:\n",
        "        raise HTTPException(status_code=500, detail=str(e))\n",
        "\n",
        "@app.get('/')\n",
        "async def root():\n",
        "    return {'hello': 'world'}"
      ]
    },
    {
      "cell_type": "code",
      "execution_count": null,
      "metadata": {
        "colab": {
          "base_uri": "https://localhost:8080/"
        },
        "id": "qkT7nc0rXK0R",
        "outputId": "afeb8fc1-63c7-43f4-c285-ec2e66edf85b"
      },
      "outputs": [
        {
          "output_type": "stream",
          "name": "stdout",
          "text": [
            "Public URL: https://5fcc-35-192-181-148.ngrok-free.app\n"
          ]
        },
        {
          "output_type": "stream",
          "name": "stderr",
          "text": [
            "INFO:     Started server process [363]\n",
            "INFO:     Waiting for application startup.\n",
            "INFO:     Application startup complete.\n",
            "INFO:     Uvicorn running on http://127.0.0.1:8000 (Press CTRL+C to quit)\n"
          ]
        }
      ],
      "source": [
        "import nest_asyncio\n",
        "from pyngrok import ngrok\n",
        "import uvicorn\n",
        "\n",
        "ngrok_tunnel = ngrok.connect(8000)\n",
        "print('Public URL:', ngrok_tunnel.public_url)\n",
        "nest_asyncio.apply()\n",
        "uvicorn.run(app, port=8000)"
      ]
    },
    {
      "cell_type": "code",
      "source": [],
      "metadata": {
        "id": "0nuBlcLpmZhB"
      },
      "execution_count": null,
      "outputs": []
    }
  ],
  "metadata": {
    "colab": {
      "provenance": [],
      "authorship_tag": "ABX9TyOiJnwy86evUWwawXDwQYYB",
      "include_colab_link": true
    },
    "kernelspec": {
      "display_name": "Python 3",
      "name": "python3"
    },
    "language_info": {
      "name": "python"
    },
    "widgets": {
      "application/vnd.jupyter.widget-state+json": {
        "dac4d76578c546e292b321607b348506": {
          "model_module": "@jupyter-widgets/controls",
          "model_name": "HBoxModel",
          "model_module_version": "1.5.0",
          "state": {
            "_dom_classes": [],
            "_model_module": "@jupyter-widgets/controls",
            "_model_module_version": "1.5.0",
            "_model_name": "HBoxModel",
            "_view_count": null,
            "_view_module": "@jupyter-widgets/controls",
            "_view_module_version": "1.5.0",
            "_view_name": "HBoxView",
            "box_style": "",
            "children": [
              "IPY_MODEL_5214a8743f124389ae1a1e0de73f8ad9",
              "IPY_MODEL_5eb16eb6c57645b8a35d3d2c505ef91f",
              "IPY_MODEL_e0929298c128479a9f73cf0ee34fb3ab"
            ],
            "layout": "IPY_MODEL_b1529343bae441daa3abe9a3fc519278"
          }
        },
        "5214a8743f124389ae1a1e0de73f8ad9": {
          "model_module": "@jupyter-widgets/controls",
          "model_name": "HTMLModel",
          "model_module_version": "1.5.0",
          "state": {
            "_dom_classes": [],
            "_model_module": "@jupyter-widgets/controls",
            "_model_module_version": "1.5.0",
            "_model_name": "HTMLModel",
            "_view_count": null,
            "_view_module": "@jupyter-widgets/controls",
            "_view_module_version": "1.5.0",
            "_view_name": "HTMLView",
            "description": "",
            "description_tooltip": null,
            "layout": "IPY_MODEL_89cc6052aae544a6afd9d2e80e481ce9",
            "placeholder": "​",
            "style": "IPY_MODEL_a1beaaa859d74030b95bf4be0bb869e2",
            "value": "Fetching 5 files: 100%"
          }
        },
        "5eb16eb6c57645b8a35d3d2c505ef91f": {
          "model_module": "@jupyter-widgets/controls",
          "model_name": "FloatProgressModel",
          "model_module_version": "1.5.0",
          "state": {
            "_dom_classes": [],
            "_model_module": "@jupyter-widgets/controls",
            "_model_module_version": "1.5.0",
            "_model_name": "FloatProgressModel",
            "_view_count": null,
            "_view_module": "@jupyter-widgets/controls",
            "_view_module_version": "1.5.0",
            "_view_name": "ProgressView",
            "bar_style": "success",
            "description": "",
            "description_tooltip": null,
            "layout": "IPY_MODEL_ba32dcb393f242b5bee4e48c337197ab",
            "max": 5,
            "min": 0,
            "orientation": "horizontal",
            "style": "IPY_MODEL_b8333ee9f56b466f90e0d20c3f6ad0d1",
            "value": 5
          }
        },
        "e0929298c128479a9f73cf0ee34fb3ab": {
          "model_module": "@jupyter-widgets/controls",
          "model_name": "HTMLModel",
          "model_module_version": "1.5.0",
          "state": {
            "_dom_classes": [],
            "_model_module": "@jupyter-widgets/controls",
            "_model_module_version": "1.5.0",
            "_model_name": "HTMLModel",
            "_view_count": null,
            "_view_module": "@jupyter-widgets/controls",
            "_view_module_version": "1.5.0",
            "_view_name": "HTMLView",
            "description": "",
            "description_tooltip": null,
            "layout": "IPY_MODEL_f40562bb616247a2bba375c073a6d4d6",
            "placeholder": "​",
            "style": "IPY_MODEL_51fa2a95b54d4a02b2f797e67b2e0338",
            "value": " 5/5 [00:02&lt;00:00,  1.59s/it]"
          }
        },
        "b1529343bae441daa3abe9a3fc519278": {
          "model_module": "@jupyter-widgets/base",
          "model_name": "LayoutModel",
          "model_module_version": "1.2.0",
          "state": {
            "_model_module": "@jupyter-widgets/base",
            "_model_module_version": "1.2.0",
            "_model_name": "LayoutModel",
            "_view_count": null,
            "_view_module": "@jupyter-widgets/base",
            "_view_module_version": "1.2.0",
            "_view_name": "LayoutView",
            "align_content": null,
            "align_items": null,
            "align_self": null,
            "border": null,
            "bottom": null,
            "display": null,
            "flex": null,
            "flex_flow": null,
            "grid_area": null,
            "grid_auto_columns": null,
            "grid_auto_flow": null,
            "grid_auto_rows": null,
            "grid_column": null,
            "grid_gap": null,
            "grid_row": null,
            "grid_template_areas": null,
            "grid_template_columns": null,
            "grid_template_rows": null,
            "height": null,
            "justify_content": null,
            "justify_items": null,
            "left": null,
            "margin": null,
            "max_height": null,
            "max_width": null,
            "min_height": null,
            "min_width": null,
            "object_fit": null,
            "object_position": null,
            "order": null,
            "overflow": null,
            "overflow_x": null,
            "overflow_y": null,
            "padding": null,
            "right": null,
            "top": null,
            "visibility": null,
            "width": null
          }
        },
        "89cc6052aae544a6afd9d2e80e481ce9": {
          "model_module": "@jupyter-widgets/base",
          "model_name": "LayoutModel",
          "model_module_version": "1.2.0",
          "state": {
            "_model_module": "@jupyter-widgets/base",
            "_model_module_version": "1.2.0",
            "_model_name": "LayoutModel",
            "_view_count": null,
            "_view_module": "@jupyter-widgets/base",
            "_view_module_version": "1.2.0",
            "_view_name": "LayoutView",
            "align_content": null,
            "align_items": null,
            "align_self": null,
            "border": null,
            "bottom": null,
            "display": null,
            "flex": null,
            "flex_flow": null,
            "grid_area": null,
            "grid_auto_columns": null,
            "grid_auto_flow": null,
            "grid_auto_rows": null,
            "grid_column": null,
            "grid_gap": null,
            "grid_row": null,
            "grid_template_areas": null,
            "grid_template_columns": null,
            "grid_template_rows": null,
            "height": null,
            "justify_content": null,
            "justify_items": null,
            "left": null,
            "margin": null,
            "max_height": null,
            "max_width": null,
            "min_height": null,
            "min_width": null,
            "object_fit": null,
            "object_position": null,
            "order": null,
            "overflow": null,
            "overflow_x": null,
            "overflow_y": null,
            "padding": null,
            "right": null,
            "top": null,
            "visibility": null,
            "width": null
          }
        },
        "a1beaaa859d74030b95bf4be0bb869e2": {
          "model_module": "@jupyter-widgets/controls",
          "model_name": "DescriptionStyleModel",
          "model_module_version": "1.5.0",
          "state": {
            "_model_module": "@jupyter-widgets/controls",
            "_model_module_version": "1.5.0",
            "_model_name": "DescriptionStyleModel",
            "_view_count": null,
            "_view_module": "@jupyter-widgets/base",
            "_view_module_version": "1.2.0",
            "_view_name": "StyleView",
            "description_width": ""
          }
        },
        "ba32dcb393f242b5bee4e48c337197ab": {
          "model_module": "@jupyter-widgets/base",
          "model_name": "LayoutModel",
          "model_module_version": "1.2.0",
          "state": {
            "_model_module": "@jupyter-widgets/base",
            "_model_module_version": "1.2.0",
            "_model_name": "LayoutModel",
            "_view_count": null,
            "_view_module": "@jupyter-widgets/base",
            "_view_module_version": "1.2.0",
            "_view_name": "LayoutView",
            "align_content": null,
            "align_items": null,
            "align_self": null,
            "border": null,
            "bottom": null,
            "display": null,
            "flex": null,
            "flex_flow": null,
            "grid_area": null,
            "grid_auto_columns": null,
            "grid_auto_flow": null,
            "grid_auto_rows": null,
            "grid_column": null,
            "grid_gap": null,
            "grid_row": null,
            "grid_template_areas": null,
            "grid_template_columns": null,
            "grid_template_rows": null,
            "height": null,
            "justify_content": null,
            "justify_items": null,
            "left": null,
            "margin": null,
            "max_height": null,
            "max_width": null,
            "min_height": null,
            "min_width": null,
            "object_fit": null,
            "object_position": null,
            "order": null,
            "overflow": null,
            "overflow_x": null,
            "overflow_y": null,
            "padding": null,
            "right": null,
            "top": null,
            "visibility": null,
            "width": null
          }
        },
        "b8333ee9f56b466f90e0d20c3f6ad0d1": {
          "model_module": "@jupyter-widgets/controls",
          "model_name": "ProgressStyleModel",
          "model_module_version": "1.5.0",
          "state": {
            "_model_module": "@jupyter-widgets/controls",
            "_model_module_version": "1.5.0",
            "_model_name": "ProgressStyleModel",
            "_view_count": null,
            "_view_module": "@jupyter-widgets/base",
            "_view_module_version": "1.2.0",
            "_view_name": "StyleView",
            "bar_color": null,
            "description_width": ""
          }
        },
        "f40562bb616247a2bba375c073a6d4d6": {
          "model_module": "@jupyter-widgets/base",
          "model_name": "LayoutModel",
          "model_module_version": "1.2.0",
          "state": {
            "_model_module": "@jupyter-widgets/base",
            "_model_module_version": "1.2.0",
            "_model_name": "LayoutModel",
            "_view_count": null,
            "_view_module": "@jupyter-widgets/base",
            "_view_module_version": "1.2.0",
            "_view_name": "LayoutView",
            "align_content": null,
            "align_items": null,
            "align_self": null,
            "border": null,
            "bottom": null,
            "display": null,
            "flex": null,
            "flex_flow": null,
            "grid_area": null,
            "grid_auto_columns": null,
            "grid_auto_flow": null,
            "grid_auto_rows": null,
            "grid_column": null,
            "grid_gap": null,
            "grid_row": null,
            "grid_template_areas": null,
            "grid_template_columns": null,
            "grid_template_rows": null,
            "height": null,
            "justify_content": null,
            "justify_items": null,
            "left": null,
            "margin": null,
            "max_height": null,
            "max_width": null,
            "min_height": null,
            "min_width": null,
            "object_fit": null,
            "object_position": null,
            "order": null,
            "overflow": null,
            "overflow_x": null,
            "overflow_y": null,
            "padding": null,
            "right": null,
            "top": null,
            "visibility": null,
            "width": null
          }
        },
        "51fa2a95b54d4a02b2f797e67b2e0338": {
          "model_module": "@jupyter-widgets/controls",
          "model_name": "DescriptionStyleModel",
          "model_module_version": "1.5.0",
          "state": {
            "_model_module": "@jupyter-widgets/controls",
            "_model_module_version": "1.5.0",
            "_model_name": "DescriptionStyleModel",
            "_view_count": null,
            "_view_module": "@jupyter-widgets/base",
            "_view_module_version": "1.2.0",
            "_view_name": "StyleView",
            "description_width": ""
          }
        },
        "2581da57ce0646ac9918b88d2502b30b": {
          "model_module": "@jupyter-widgets/controls",
          "model_name": "HBoxModel",
          "model_module_version": "1.5.0",
          "state": {
            "_dom_classes": [],
            "_model_module": "@jupyter-widgets/controls",
            "_model_module_version": "1.5.0",
            "_model_name": "HBoxModel",
            "_view_count": null,
            "_view_module": "@jupyter-widgets/controls",
            "_view_module_version": "1.5.0",
            "_view_name": "HBoxView",
            "box_style": "",
            "children": [
              "IPY_MODEL_ce7c9df0763e468da0a8773ab522b362",
              "IPY_MODEL_a7dbc487b2344222a75be035487df4ab",
              "IPY_MODEL_672f4c30427a444d8939c19e3baaa012"
            ],
            "layout": "IPY_MODEL_e5bea6a76f1c4fe38a99912994e3eba6"
          }
        },
        "ce7c9df0763e468da0a8773ab522b362": {
          "model_module": "@jupyter-widgets/controls",
          "model_name": "HTMLModel",
          "model_module_version": "1.5.0",
          "state": {
            "_dom_classes": [],
            "_model_module": "@jupyter-widgets/controls",
            "_model_module_version": "1.5.0",
            "_model_name": "HTMLModel",
            "_view_count": null,
            "_view_module": "@jupyter-widgets/controls",
            "_view_module_version": "1.5.0",
            "_view_name": "HTMLView",
            "description": "",
            "description_tooltip": null,
            "layout": "IPY_MODEL_23e6deab688a4b579d6668db22491df5",
            "placeholder": "​",
            "style": "IPY_MODEL_ab0b65e969ff417da65423dee4f91704",
            "value": "special_tokens_map.json: 100%"
          }
        },
        "a7dbc487b2344222a75be035487df4ab": {
          "model_module": "@jupyter-widgets/controls",
          "model_name": "FloatProgressModel",
          "model_module_version": "1.5.0",
          "state": {
            "_dom_classes": [],
            "_model_module": "@jupyter-widgets/controls",
            "_model_module_version": "1.5.0",
            "_model_name": "FloatProgressModel",
            "_view_count": null,
            "_view_module": "@jupyter-widgets/controls",
            "_view_module_version": "1.5.0",
            "_view_name": "ProgressView",
            "bar_style": "success",
            "description": "",
            "description_tooltip": null,
            "layout": "IPY_MODEL_9660d9acf5b74098934a160389809baa",
            "max": 695,
            "min": 0,
            "orientation": "horizontal",
            "style": "IPY_MODEL_20f1d9744f2b409097841267a97b8eee",
            "value": 695
          }
        },
        "672f4c30427a444d8939c19e3baaa012": {
          "model_module": "@jupyter-widgets/controls",
          "model_name": "HTMLModel",
          "model_module_version": "1.5.0",
          "state": {
            "_dom_classes": [],
            "_model_module": "@jupyter-widgets/controls",
            "_model_module_version": "1.5.0",
            "_model_name": "HTMLModel",
            "_view_count": null,
            "_view_module": "@jupyter-widgets/controls",
            "_view_module_version": "1.5.0",
            "_view_name": "HTMLView",
            "description": "",
            "description_tooltip": null,
            "layout": "IPY_MODEL_6d7b7f2fe5b044c29eeae75f7fd2830b",
            "placeholder": "​",
            "style": "IPY_MODEL_eb82a4477cc946c8be1d111ec2035b55",
            "value": " 695/695 [00:00&lt;00:00, 14.6kB/s]"
          }
        },
        "e5bea6a76f1c4fe38a99912994e3eba6": {
          "model_module": "@jupyter-widgets/base",
          "model_name": "LayoutModel",
          "model_module_version": "1.2.0",
          "state": {
            "_model_module": "@jupyter-widgets/base",
            "_model_module_version": "1.2.0",
            "_model_name": "LayoutModel",
            "_view_count": null,
            "_view_module": "@jupyter-widgets/base",
            "_view_module_version": "1.2.0",
            "_view_name": "LayoutView",
            "align_content": null,
            "align_items": null,
            "align_self": null,
            "border": null,
            "bottom": null,
            "display": null,
            "flex": null,
            "flex_flow": null,
            "grid_area": null,
            "grid_auto_columns": null,
            "grid_auto_flow": null,
            "grid_auto_rows": null,
            "grid_column": null,
            "grid_gap": null,
            "grid_row": null,
            "grid_template_areas": null,
            "grid_template_columns": null,
            "grid_template_rows": null,
            "height": null,
            "justify_content": null,
            "justify_items": null,
            "left": null,
            "margin": null,
            "max_height": null,
            "max_width": null,
            "min_height": null,
            "min_width": null,
            "object_fit": null,
            "object_position": null,
            "order": null,
            "overflow": null,
            "overflow_x": null,
            "overflow_y": null,
            "padding": null,
            "right": null,
            "top": null,
            "visibility": null,
            "width": null
          }
        },
        "23e6deab688a4b579d6668db22491df5": {
          "model_module": "@jupyter-widgets/base",
          "model_name": "LayoutModel",
          "model_module_version": "1.2.0",
          "state": {
            "_model_module": "@jupyter-widgets/base",
            "_model_module_version": "1.2.0",
            "_model_name": "LayoutModel",
            "_view_count": null,
            "_view_module": "@jupyter-widgets/base",
            "_view_module_version": "1.2.0",
            "_view_name": "LayoutView",
            "align_content": null,
            "align_items": null,
            "align_self": null,
            "border": null,
            "bottom": null,
            "display": null,
            "flex": null,
            "flex_flow": null,
            "grid_area": null,
            "grid_auto_columns": null,
            "grid_auto_flow": null,
            "grid_auto_rows": null,
            "grid_column": null,
            "grid_gap": null,
            "grid_row": null,
            "grid_template_areas": null,
            "grid_template_columns": null,
            "grid_template_rows": null,
            "height": null,
            "justify_content": null,
            "justify_items": null,
            "left": null,
            "margin": null,
            "max_height": null,
            "max_width": null,
            "min_height": null,
            "min_width": null,
            "object_fit": null,
            "object_position": null,
            "order": null,
            "overflow": null,
            "overflow_x": null,
            "overflow_y": null,
            "padding": null,
            "right": null,
            "top": null,
            "visibility": null,
            "width": null
          }
        },
        "ab0b65e969ff417da65423dee4f91704": {
          "model_module": "@jupyter-widgets/controls",
          "model_name": "DescriptionStyleModel",
          "model_module_version": "1.5.0",
          "state": {
            "_model_module": "@jupyter-widgets/controls",
            "_model_module_version": "1.5.0",
            "_model_name": "DescriptionStyleModel",
            "_view_count": null,
            "_view_module": "@jupyter-widgets/base",
            "_view_module_version": "1.2.0",
            "_view_name": "StyleView",
            "description_width": ""
          }
        },
        "9660d9acf5b74098934a160389809baa": {
          "model_module": "@jupyter-widgets/base",
          "model_name": "LayoutModel",
          "model_module_version": "1.2.0",
          "state": {
            "_model_module": "@jupyter-widgets/base",
            "_model_module_version": "1.2.0",
            "_model_name": "LayoutModel",
            "_view_count": null,
            "_view_module": "@jupyter-widgets/base",
            "_view_module_version": "1.2.0",
            "_view_name": "LayoutView",
            "align_content": null,
            "align_items": null,
            "align_self": null,
            "border": null,
            "bottom": null,
            "display": null,
            "flex": null,
            "flex_flow": null,
            "grid_area": null,
            "grid_auto_columns": null,
            "grid_auto_flow": null,
            "grid_auto_rows": null,
            "grid_column": null,
            "grid_gap": null,
            "grid_row": null,
            "grid_template_areas": null,
            "grid_template_columns": null,
            "grid_template_rows": null,
            "height": null,
            "justify_content": null,
            "justify_items": null,
            "left": null,
            "margin": null,
            "max_height": null,
            "max_width": null,
            "min_height": null,
            "min_width": null,
            "object_fit": null,
            "object_position": null,
            "order": null,
            "overflow": null,
            "overflow_x": null,
            "overflow_y": null,
            "padding": null,
            "right": null,
            "top": null,
            "visibility": null,
            "width": null
          }
        },
        "20f1d9744f2b409097841267a97b8eee": {
          "model_module": "@jupyter-widgets/controls",
          "model_name": "ProgressStyleModel",
          "model_module_version": "1.5.0",
          "state": {
            "_model_module": "@jupyter-widgets/controls",
            "_model_module_version": "1.5.0",
            "_model_name": "ProgressStyleModel",
            "_view_count": null,
            "_view_module": "@jupyter-widgets/base",
            "_view_module_version": "1.2.0",
            "_view_name": "StyleView",
            "bar_color": null,
            "description_width": ""
          }
        },
        "6d7b7f2fe5b044c29eeae75f7fd2830b": {
          "model_module": "@jupyter-widgets/base",
          "model_name": "LayoutModel",
          "model_module_version": "1.2.0",
          "state": {
            "_model_module": "@jupyter-widgets/base",
            "_model_module_version": "1.2.0",
            "_model_name": "LayoutModel",
            "_view_count": null,
            "_view_module": "@jupyter-widgets/base",
            "_view_module_version": "1.2.0",
            "_view_name": "LayoutView",
            "align_content": null,
            "align_items": null,
            "align_self": null,
            "border": null,
            "bottom": null,
            "display": null,
            "flex": null,
            "flex_flow": null,
            "grid_area": null,
            "grid_auto_columns": null,
            "grid_auto_flow": null,
            "grid_auto_rows": null,
            "grid_column": null,
            "grid_gap": null,
            "grid_row": null,
            "grid_template_areas": null,
            "grid_template_columns": null,
            "grid_template_rows": null,
            "height": null,
            "justify_content": null,
            "justify_items": null,
            "left": null,
            "margin": null,
            "max_height": null,
            "max_width": null,
            "min_height": null,
            "min_width": null,
            "object_fit": null,
            "object_position": null,
            "order": null,
            "overflow": null,
            "overflow_x": null,
            "overflow_y": null,
            "padding": null,
            "right": null,
            "top": null,
            "visibility": null,
            "width": null
          }
        },
        "eb82a4477cc946c8be1d111ec2035b55": {
          "model_module": "@jupyter-widgets/controls",
          "model_name": "DescriptionStyleModel",
          "model_module_version": "1.5.0",
          "state": {
            "_model_module": "@jupyter-widgets/controls",
            "_model_module_version": "1.5.0",
            "_model_name": "DescriptionStyleModel",
            "_view_count": null,
            "_view_module": "@jupyter-widgets/base",
            "_view_module_version": "1.2.0",
            "_view_name": "StyleView",
            "description_width": ""
          }
        },
        "452f874658054aaabd329ac303957db1": {
          "model_module": "@jupyter-widgets/controls",
          "model_name": "HBoxModel",
          "model_module_version": "1.5.0",
          "state": {
            "_dom_classes": [],
            "_model_module": "@jupyter-widgets/controls",
            "_model_module_version": "1.5.0",
            "_model_name": "HBoxModel",
            "_view_count": null,
            "_view_module": "@jupyter-widgets/controls",
            "_view_module_version": "1.5.0",
            "_view_name": "HBoxView",
            "box_style": "",
            "children": [
              "IPY_MODEL_2bf1b8c065cf4dbdb753cd3eeebc737e",
              "IPY_MODEL_9d926b989aa840268490fa84315f0c1a",
              "IPY_MODEL_abd464fff7e34a03adf71c95dacef38c"
            ],
            "layout": "IPY_MODEL_365461f44a5945b2899d18980bee0fcc"
          }
        },
        "2bf1b8c065cf4dbdb753cd3eeebc737e": {
          "model_module": "@jupyter-widgets/controls",
          "model_name": "HTMLModel",
          "model_module_version": "1.5.0",
          "state": {
            "_dom_classes": [],
            "_model_module": "@jupyter-widgets/controls",
            "_model_module_version": "1.5.0",
            "_model_name": "HTMLModel",
            "_view_count": null,
            "_view_module": "@jupyter-widgets/controls",
            "_view_module_version": "1.5.0",
            "_view_name": "HTMLView",
            "description": "",
            "description_tooltip": null,
            "layout": "IPY_MODEL_4461ac043da843af99648b32a4109521",
            "placeholder": "​",
            "style": "IPY_MODEL_7ef40b3774c647afb76dae5c8083dba9",
            "value": "config.json: 100%"
          }
        },
        "9d926b989aa840268490fa84315f0c1a": {
          "model_module": "@jupyter-widgets/controls",
          "model_name": "FloatProgressModel",
          "model_module_version": "1.5.0",
          "state": {
            "_dom_classes": [],
            "_model_module": "@jupyter-widgets/controls",
            "_model_module_version": "1.5.0",
            "_model_name": "FloatProgressModel",
            "_view_count": null,
            "_view_module": "@jupyter-widgets/controls",
            "_view_module_version": "1.5.0",
            "_view_name": "ProgressView",
            "bar_style": "success",
            "description": "",
            "description_tooltip": null,
            "layout": "IPY_MODEL_7a80ba58907446ed9d9af8030339352e",
            "max": 740,
            "min": 0,
            "orientation": "horizontal",
            "style": "IPY_MODEL_4eaac15941d24f12a64edf603706d9d8",
            "value": 740
          }
        },
        "abd464fff7e34a03adf71c95dacef38c": {
          "model_module": "@jupyter-widgets/controls",
          "model_name": "HTMLModel",
          "model_module_version": "1.5.0",
          "state": {
            "_dom_classes": [],
            "_model_module": "@jupyter-widgets/controls",
            "_model_module_version": "1.5.0",
            "_model_name": "HTMLModel",
            "_view_count": null,
            "_view_module": "@jupyter-widgets/controls",
            "_view_module_version": "1.5.0",
            "_view_name": "HTMLView",
            "description": "",
            "description_tooltip": null,
            "layout": "IPY_MODEL_3bb966f1b2d84e5bb1f65cda6b8a961b",
            "placeholder": "​",
            "style": "IPY_MODEL_235888b901594c1d9b3efbcf14f13491",
            "value": " 740/740 [00:00&lt;00:00, 21.0kB/s]"
          }
        },
        "365461f44a5945b2899d18980bee0fcc": {
          "model_module": "@jupyter-widgets/base",
          "model_name": "LayoutModel",
          "model_module_version": "1.2.0",
          "state": {
            "_model_module": "@jupyter-widgets/base",
            "_model_module_version": "1.2.0",
            "_model_name": "LayoutModel",
            "_view_count": null,
            "_view_module": "@jupyter-widgets/base",
            "_view_module_version": "1.2.0",
            "_view_name": "LayoutView",
            "align_content": null,
            "align_items": null,
            "align_self": null,
            "border": null,
            "bottom": null,
            "display": null,
            "flex": null,
            "flex_flow": null,
            "grid_area": null,
            "grid_auto_columns": null,
            "grid_auto_flow": null,
            "grid_auto_rows": null,
            "grid_column": null,
            "grid_gap": null,
            "grid_row": null,
            "grid_template_areas": null,
            "grid_template_columns": null,
            "grid_template_rows": null,
            "height": null,
            "justify_content": null,
            "justify_items": null,
            "left": null,
            "margin": null,
            "max_height": null,
            "max_width": null,
            "min_height": null,
            "min_width": null,
            "object_fit": null,
            "object_position": null,
            "order": null,
            "overflow": null,
            "overflow_x": null,
            "overflow_y": null,
            "padding": null,
            "right": null,
            "top": null,
            "visibility": null,
            "width": null
          }
        },
        "4461ac043da843af99648b32a4109521": {
          "model_module": "@jupyter-widgets/base",
          "model_name": "LayoutModel",
          "model_module_version": "1.2.0",
          "state": {
            "_model_module": "@jupyter-widgets/base",
            "_model_module_version": "1.2.0",
            "_model_name": "LayoutModel",
            "_view_count": null,
            "_view_module": "@jupyter-widgets/base",
            "_view_module_version": "1.2.0",
            "_view_name": "LayoutView",
            "align_content": null,
            "align_items": null,
            "align_self": null,
            "border": null,
            "bottom": null,
            "display": null,
            "flex": null,
            "flex_flow": null,
            "grid_area": null,
            "grid_auto_columns": null,
            "grid_auto_flow": null,
            "grid_auto_rows": null,
            "grid_column": null,
            "grid_gap": null,
            "grid_row": null,
            "grid_template_areas": null,
            "grid_template_columns": null,
            "grid_template_rows": null,
            "height": null,
            "justify_content": null,
            "justify_items": null,
            "left": null,
            "margin": null,
            "max_height": null,
            "max_width": null,
            "min_height": null,
            "min_width": null,
            "object_fit": null,
            "object_position": null,
            "order": null,
            "overflow": null,
            "overflow_x": null,
            "overflow_y": null,
            "padding": null,
            "right": null,
            "top": null,
            "visibility": null,
            "width": null
          }
        },
        "7ef40b3774c647afb76dae5c8083dba9": {
          "model_module": "@jupyter-widgets/controls",
          "model_name": "DescriptionStyleModel",
          "model_module_version": "1.5.0",
          "state": {
            "_model_module": "@jupyter-widgets/controls",
            "_model_module_version": "1.5.0",
            "_model_name": "DescriptionStyleModel",
            "_view_count": null,
            "_view_module": "@jupyter-widgets/base",
            "_view_module_version": "1.2.0",
            "_view_name": "StyleView",
            "description_width": ""
          }
        },
        "7a80ba58907446ed9d9af8030339352e": {
          "model_module": "@jupyter-widgets/base",
          "model_name": "LayoutModel",
          "model_module_version": "1.2.0",
          "state": {
            "_model_module": "@jupyter-widgets/base",
            "_model_module_version": "1.2.0",
            "_model_name": "LayoutModel",
            "_view_count": null,
            "_view_module": "@jupyter-widgets/base",
            "_view_module_version": "1.2.0",
            "_view_name": "LayoutView",
            "align_content": null,
            "align_items": null,
            "align_self": null,
            "border": null,
            "bottom": null,
            "display": null,
            "flex": null,
            "flex_flow": null,
            "grid_area": null,
            "grid_auto_columns": null,
            "grid_auto_flow": null,
            "grid_auto_rows": null,
            "grid_column": null,
            "grid_gap": null,
            "grid_row": null,
            "grid_template_areas": null,
            "grid_template_columns": null,
            "grid_template_rows": null,
            "height": null,
            "justify_content": null,
            "justify_items": null,
            "left": null,
            "margin": null,
            "max_height": null,
            "max_width": null,
            "min_height": null,
            "min_width": null,
            "object_fit": null,
            "object_position": null,
            "order": null,
            "overflow": null,
            "overflow_x": null,
            "overflow_y": null,
            "padding": null,
            "right": null,
            "top": null,
            "visibility": null,
            "width": null
          }
        },
        "4eaac15941d24f12a64edf603706d9d8": {
          "model_module": "@jupyter-widgets/controls",
          "model_name": "ProgressStyleModel",
          "model_module_version": "1.5.0",
          "state": {
            "_model_module": "@jupyter-widgets/controls",
            "_model_module_version": "1.5.0",
            "_model_name": "ProgressStyleModel",
            "_view_count": null,
            "_view_module": "@jupyter-widgets/base",
            "_view_module_version": "1.2.0",
            "_view_name": "StyleView",
            "bar_color": null,
            "description_width": ""
          }
        },
        "3bb966f1b2d84e5bb1f65cda6b8a961b": {
          "model_module": "@jupyter-widgets/base",
          "model_name": "LayoutModel",
          "model_module_version": "1.2.0",
          "state": {
            "_model_module": "@jupyter-widgets/base",
            "_model_module_version": "1.2.0",
            "_model_name": "LayoutModel",
            "_view_count": null,
            "_view_module": "@jupyter-widgets/base",
            "_view_module_version": "1.2.0",
            "_view_name": "LayoutView",
            "align_content": null,
            "align_items": null,
            "align_self": null,
            "border": null,
            "bottom": null,
            "display": null,
            "flex": null,
            "flex_flow": null,
            "grid_area": null,
            "grid_auto_columns": null,
            "grid_auto_flow": null,
            "grid_auto_rows": null,
            "grid_column": null,
            "grid_gap": null,
            "grid_row": null,
            "grid_template_areas": null,
            "grid_template_columns": null,
            "grid_template_rows": null,
            "height": null,
            "justify_content": null,
            "justify_items": null,
            "left": null,
            "margin": null,
            "max_height": null,
            "max_width": null,
            "min_height": null,
            "min_width": null,
            "object_fit": null,
            "object_position": null,
            "order": null,
            "overflow": null,
            "overflow_x": null,
            "overflow_y": null,
            "padding": null,
            "right": null,
            "top": null,
            "visibility": null,
            "width": null
          }
        },
        "235888b901594c1d9b3efbcf14f13491": {
          "model_module": "@jupyter-widgets/controls",
          "model_name": "DescriptionStyleModel",
          "model_module_version": "1.5.0",
          "state": {
            "_model_module": "@jupyter-widgets/controls",
            "_model_module_version": "1.5.0",
            "_model_name": "DescriptionStyleModel",
            "_view_count": null,
            "_view_module": "@jupyter-widgets/base",
            "_view_module_version": "1.2.0",
            "_view_name": "StyleView",
            "description_width": ""
          }
        },
        "08fac9d478e5460bac6e74edda34b90c": {
          "model_module": "@jupyter-widgets/controls",
          "model_name": "HBoxModel",
          "model_module_version": "1.5.0",
          "state": {
            "_dom_classes": [],
            "_model_module": "@jupyter-widgets/controls",
            "_model_module_version": "1.5.0",
            "_model_name": "HBoxModel",
            "_view_count": null,
            "_view_module": "@jupyter-widgets/controls",
            "_view_module_version": "1.5.0",
            "_view_name": "HBoxView",
            "box_style": "",
            "children": [
              "IPY_MODEL_30b66109ebf24a43a22fee0cc06089b8",
              "IPY_MODEL_05e0c2d243b24c6892fed231f14f0128",
              "IPY_MODEL_a239a18ae94043efbee710e30f73613a"
            ],
            "layout": "IPY_MODEL_22cb0cc004c046dea4dd4c4b0f7b77d5"
          }
        },
        "30b66109ebf24a43a22fee0cc06089b8": {
          "model_module": "@jupyter-widgets/controls",
          "model_name": "HTMLModel",
          "model_module_version": "1.5.0",
          "state": {
            "_dom_classes": [],
            "_model_module": "@jupyter-widgets/controls",
            "_model_module_version": "1.5.0",
            "_model_name": "HTMLModel",
            "_view_count": null,
            "_view_module": "@jupyter-widgets/controls",
            "_view_module_version": "1.5.0",
            "_view_name": "HTMLView",
            "description": "",
            "description_tooltip": null,
            "layout": "IPY_MODEL_e521ecdd172f4ec6ac96e9d32456c8f2",
            "placeholder": "​",
            "style": "IPY_MODEL_296047ef06c345dc8e2600e7ad2cbb33",
            "value": "tokenizer.json: 100%"
          }
        },
        "05e0c2d243b24c6892fed231f14f0128": {
          "model_module": "@jupyter-widgets/controls",
          "model_name": "FloatProgressModel",
          "model_module_version": "1.5.0",
          "state": {
            "_dom_classes": [],
            "_model_module": "@jupyter-widgets/controls",
            "_model_module_version": "1.5.0",
            "_model_name": "FloatProgressModel",
            "_view_count": null,
            "_view_module": "@jupyter-widgets/controls",
            "_view_module_version": "1.5.0",
            "_view_name": "ProgressView",
            "bar_style": "success",
            "description": "",
            "description_tooltip": null,
            "layout": "IPY_MODEL_5f23c88cc71042e1acefe61514e7b544",
            "max": 711396,
            "min": 0,
            "orientation": "horizontal",
            "style": "IPY_MODEL_fca82a245fd44a7a810b3b3329ea55b4",
            "value": 711396
          }
        },
        "a239a18ae94043efbee710e30f73613a": {
          "model_module": "@jupyter-widgets/controls",
          "model_name": "HTMLModel",
          "model_module_version": "1.5.0",
          "state": {
            "_dom_classes": [],
            "_model_module": "@jupyter-widgets/controls",
            "_model_module_version": "1.5.0",
            "_model_name": "HTMLModel",
            "_view_count": null,
            "_view_module": "@jupyter-widgets/controls",
            "_view_module_version": "1.5.0",
            "_view_name": "HTMLView",
            "description": "",
            "description_tooltip": null,
            "layout": "IPY_MODEL_08c6a3e62d1d4155aaadadeb79b30d2b",
            "placeholder": "​",
            "style": "IPY_MODEL_0963be99c7ad44399234e40a3365b087",
            "value": " 711k/711k [00:00&lt;00:00, 2.05MB/s]"
          }
        },
        "22cb0cc004c046dea4dd4c4b0f7b77d5": {
          "model_module": "@jupyter-widgets/base",
          "model_name": "LayoutModel",
          "model_module_version": "1.2.0",
          "state": {
            "_model_module": "@jupyter-widgets/base",
            "_model_module_version": "1.2.0",
            "_model_name": "LayoutModel",
            "_view_count": null,
            "_view_module": "@jupyter-widgets/base",
            "_view_module_version": "1.2.0",
            "_view_name": "LayoutView",
            "align_content": null,
            "align_items": null,
            "align_self": null,
            "border": null,
            "bottom": null,
            "display": null,
            "flex": null,
            "flex_flow": null,
            "grid_area": null,
            "grid_auto_columns": null,
            "grid_auto_flow": null,
            "grid_auto_rows": null,
            "grid_column": null,
            "grid_gap": null,
            "grid_row": null,
            "grid_template_areas": null,
            "grid_template_columns": null,
            "grid_template_rows": null,
            "height": null,
            "justify_content": null,
            "justify_items": null,
            "left": null,
            "margin": null,
            "max_height": null,
            "max_width": null,
            "min_height": null,
            "min_width": null,
            "object_fit": null,
            "object_position": null,
            "order": null,
            "overflow": null,
            "overflow_x": null,
            "overflow_y": null,
            "padding": null,
            "right": null,
            "top": null,
            "visibility": null,
            "width": null
          }
        },
        "e521ecdd172f4ec6ac96e9d32456c8f2": {
          "model_module": "@jupyter-widgets/base",
          "model_name": "LayoutModel",
          "model_module_version": "1.2.0",
          "state": {
            "_model_module": "@jupyter-widgets/base",
            "_model_module_version": "1.2.0",
            "_model_name": "LayoutModel",
            "_view_count": null,
            "_view_module": "@jupyter-widgets/base",
            "_view_module_version": "1.2.0",
            "_view_name": "LayoutView",
            "align_content": null,
            "align_items": null,
            "align_self": null,
            "border": null,
            "bottom": null,
            "display": null,
            "flex": null,
            "flex_flow": null,
            "grid_area": null,
            "grid_auto_columns": null,
            "grid_auto_flow": null,
            "grid_auto_rows": null,
            "grid_column": null,
            "grid_gap": null,
            "grid_row": null,
            "grid_template_areas": null,
            "grid_template_columns": null,
            "grid_template_rows": null,
            "height": null,
            "justify_content": null,
            "justify_items": null,
            "left": null,
            "margin": null,
            "max_height": null,
            "max_width": null,
            "min_height": null,
            "min_width": null,
            "object_fit": null,
            "object_position": null,
            "order": null,
            "overflow": null,
            "overflow_x": null,
            "overflow_y": null,
            "padding": null,
            "right": null,
            "top": null,
            "visibility": null,
            "width": null
          }
        },
        "296047ef06c345dc8e2600e7ad2cbb33": {
          "model_module": "@jupyter-widgets/controls",
          "model_name": "DescriptionStyleModel",
          "model_module_version": "1.5.0",
          "state": {
            "_model_module": "@jupyter-widgets/controls",
            "_model_module_version": "1.5.0",
            "_model_name": "DescriptionStyleModel",
            "_view_count": null,
            "_view_module": "@jupyter-widgets/base",
            "_view_module_version": "1.2.0",
            "_view_name": "StyleView",
            "description_width": ""
          }
        },
        "5f23c88cc71042e1acefe61514e7b544": {
          "model_module": "@jupyter-widgets/base",
          "model_name": "LayoutModel",
          "model_module_version": "1.2.0",
          "state": {
            "_model_module": "@jupyter-widgets/base",
            "_model_module_version": "1.2.0",
            "_model_name": "LayoutModel",
            "_view_count": null,
            "_view_module": "@jupyter-widgets/base",
            "_view_module_version": "1.2.0",
            "_view_name": "LayoutView",
            "align_content": null,
            "align_items": null,
            "align_self": null,
            "border": null,
            "bottom": null,
            "display": null,
            "flex": null,
            "flex_flow": null,
            "grid_area": null,
            "grid_auto_columns": null,
            "grid_auto_flow": null,
            "grid_auto_rows": null,
            "grid_column": null,
            "grid_gap": null,
            "grid_row": null,
            "grid_template_areas": null,
            "grid_template_columns": null,
            "grid_template_rows": null,
            "height": null,
            "justify_content": null,
            "justify_items": null,
            "left": null,
            "margin": null,
            "max_height": null,
            "max_width": null,
            "min_height": null,
            "min_width": null,
            "object_fit": null,
            "object_position": null,
            "order": null,
            "overflow": null,
            "overflow_x": null,
            "overflow_y": null,
            "padding": null,
            "right": null,
            "top": null,
            "visibility": null,
            "width": null
          }
        },
        "fca82a245fd44a7a810b3b3329ea55b4": {
          "model_module": "@jupyter-widgets/controls",
          "model_name": "ProgressStyleModel",
          "model_module_version": "1.5.0",
          "state": {
            "_model_module": "@jupyter-widgets/controls",
            "_model_module_version": "1.5.0",
            "_model_name": "ProgressStyleModel",
            "_view_count": null,
            "_view_module": "@jupyter-widgets/base",
            "_view_module_version": "1.2.0",
            "_view_name": "StyleView",
            "bar_color": null,
            "description_width": ""
          }
        },
        "08c6a3e62d1d4155aaadadeb79b30d2b": {
          "model_module": "@jupyter-widgets/base",
          "model_name": "LayoutModel",
          "model_module_version": "1.2.0",
          "state": {
            "_model_module": "@jupyter-widgets/base",
            "_model_module_version": "1.2.0",
            "_model_name": "LayoutModel",
            "_view_count": null,
            "_view_module": "@jupyter-widgets/base",
            "_view_module_version": "1.2.0",
            "_view_name": "LayoutView",
            "align_content": null,
            "align_items": null,
            "align_self": null,
            "border": null,
            "bottom": null,
            "display": null,
            "flex": null,
            "flex_flow": null,
            "grid_area": null,
            "grid_auto_columns": null,
            "grid_auto_flow": null,
            "grid_auto_rows": null,
            "grid_column": null,
            "grid_gap": null,
            "grid_row": null,
            "grid_template_areas": null,
            "grid_template_columns": null,
            "grid_template_rows": null,
            "height": null,
            "justify_content": null,
            "justify_items": null,
            "left": null,
            "margin": null,
            "max_height": null,
            "max_width": null,
            "min_height": null,
            "min_width": null,
            "object_fit": null,
            "object_position": null,
            "order": null,
            "overflow": null,
            "overflow_x": null,
            "overflow_y": null,
            "padding": null,
            "right": null,
            "top": null,
            "visibility": null,
            "width": null
          }
        },
        "0963be99c7ad44399234e40a3365b087": {
          "model_module": "@jupyter-widgets/controls",
          "model_name": "DescriptionStyleModel",
          "model_module_version": "1.5.0",
          "state": {
            "_model_module": "@jupyter-widgets/controls",
            "_model_module_version": "1.5.0",
            "_model_name": "DescriptionStyleModel",
            "_view_count": null,
            "_view_module": "@jupyter-widgets/base",
            "_view_module_version": "1.2.0",
            "_view_name": "StyleView",
            "description_width": ""
          }
        },
        "5d7144aff2d94afc90c3e266e694a5f2": {
          "model_module": "@jupyter-widgets/controls",
          "model_name": "HBoxModel",
          "model_module_version": "1.5.0",
          "state": {
            "_dom_classes": [],
            "_model_module": "@jupyter-widgets/controls",
            "_model_module_version": "1.5.0",
            "_model_name": "HBoxModel",
            "_view_count": null,
            "_view_module": "@jupyter-widgets/controls",
            "_view_module_version": "1.5.0",
            "_view_name": "HBoxView",
            "box_style": "",
            "children": [
              "IPY_MODEL_4f041e0767b1432a86969e7f1f0de9a8",
              "IPY_MODEL_2ea7791b59404821abe80f5970445bf6",
              "IPY_MODEL_184968945706457dab7b812a29ce93bf"
            ],
            "layout": "IPY_MODEL_34aed588b01b43928ca0ea6d331fa07c"
          }
        },
        "4f041e0767b1432a86969e7f1f0de9a8": {
          "model_module": "@jupyter-widgets/controls",
          "model_name": "HTMLModel",
          "model_module_version": "1.5.0",
          "state": {
            "_dom_classes": [],
            "_model_module": "@jupyter-widgets/controls",
            "_model_module_version": "1.5.0",
            "_model_name": "HTMLModel",
            "_view_count": null,
            "_view_module": "@jupyter-widgets/controls",
            "_view_module_version": "1.5.0",
            "_view_name": "HTMLView",
            "description": "",
            "description_tooltip": null,
            "layout": "IPY_MODEL_f5cd5c94bc674d5c8748be535b078929",
            "placeholder": "​",
            "style": "IPY_MODEL_1ce29394e7a449f48f6a25ee22b8cc02",
            "value": "tokenizer_config.json: 100%"
          }
        },
        "2ea7791b59404821abe80f5970445bf6": {
          "model_module": "@jupyter-widgets/controls",
          "model_name": "FloatProgressModel",
          "model_module_version": "1.5.0",
          "state": {
            "_dom_classes": [],
            "_model_module": "@jupyter-widgets/controls",
            "_model_module_version": "1.5.0",
            "_model_name": "FloatProgressModel",
            "_view_count": null,
            "_view_module": "@jupyter-widgets/controls",
            "_view_module_version": "1.5.0",
            "_view_name": "ProgressView",
            "bar_style": "success",
            "description": "",
            "description_tooltip": null,
            "layout": "IPY_MODEL_73327d24b70e4fb8a8b525fb40424f02",
            "max": 1242,
            "min": 0,
            "orientation": "horizontal",
            "style": "IPY_MODEL_c1d5999746b54c01821617df5dbf73e1",
            "value": 1242
          }
        },
        "184968945706457dab7b812a29ce93bf": {
          "model_module": "@jupyter-widgets/controls",
          "model_name": "HTMLModel",
          "model_module_version": "1.5.0",
          "state": {
            "_dom_classes": [],
            "_model_module": "@jupyter-widgets/controls",
            "_model_module_version": "1.5.0",
            "_model_name": "HTMLModel",
            "_view_count": null,
            "_view_module": "@jupyter-widgets/controls",
            "_view_module_version": "1.5.0",
            "_view_name": "HTMLView",
            "description": "",
            "description_tooltip": null,
            "layout": "IPY_MODEL_7d3fb6dedc28407bb0fb4e115800f03a",
            "placeholder": "​",
            "style": "IPY_MODEL_3ba25cd4d87c47d3a1977753c45266ad",
            "value": " 1.24k/1.24k [00:00&lt;00:00, 58.0kB/s]"
          }
        },
        "34aed588b01b43928ca0ea6d331fa07c": {
          "model_module": "@jupyter-widgets/base",
          "model_name": "LayoutModel",
          "model_module_version": "1.2.0",
          "state": {
            "_model_module": "@jupyter-widgets/base",
            "_model_module_version": "1.2.0",
            "_model_name": "LayoutModel",
            "_view_count": null,
            "_view_module": "@jupyter-widgets/base",
            "_view_module_version": "1.2.0",
            "_view_name": "LayoutView",
            "align_content": null,
            "align_items": null,
            "align_self": null,
            "border": null,
            "bottom": null,
            "display": null,
            "flex": null,
            "flex_flow": null,
            "grid_area": null,
            "grid_auto_columns": null,
            "grid_auto_flow": null,
            "grid_auto_rows": null,
            "grid_column": null,
            "grid_gap": null,
            "grid_row": null,
            "grid_template_areas": null,
            "grid_template_columns": null,
            "grid_template_rows": null,
            "height": null,
            "justify_content": null,
            "justify_items": null,
            "left": null,
            "margin": null,
            "max_height": null,
            "max_width": null,
            "min_height": null,
            "min_width": null,
            "object_fit": null,
            "object_position": null,
            "order": null,
            "overflow": null,
            "overflow_x": null,
            "overflow_y": null,
            "padding": null,
            "right": null,
            "top": null,
            "visibility": null,
            "width": null
          }
        },
        "f5cd5c94bc674d5c8748be535b078929": {
          "model_module": "@jupyter-widgets/base",
          "model_name": "LayoutModel",
          "model_module_version": "1.2.0",
          "state": {
            "_model_module": "@jupyter-widgets/base",
            "_model_module_version": "1.2.0",
            "_model_name": "LayoutModel",
            "_view_count": null,
            "_view_module": "@jupyter-widgets/base",
            "_view_module_version": "1.2.0",
            "_view_name": "LayoutView",
            "align_content": null,
            "align_items": null,
            "align_self": null,
            "border": null,
            "bottom": null,
            "display": null,
            "flex": null,
            "flex_flow": null,
            "grid_area": null,
            "grid_auto_columns": null,
            "grid_auto_flow": null,
            "grid_auto_rows": null,
            "grid_column": null,
            "grid_gap": null,
            "grid_row": null,
            "grid_template_areas": null,
            "grid_template_columns": null,
            "grid_template_rows": null,
            "height": null,
            "justify_content": null,
            "justify_items": null,
            "left": null,
            "margin": null,
            "max_height": null,
            "max_width": null,
            "min_height": null,
            "min_width": null,
            "object_fit": null,
            "object_position": null,
            "order": null,
            "overflow": null,
            "overflow_x": null,
            "overflow_y": null,
            "padding": null,
            "right": null,
            "top": null,
            "visibility": null,
            "width": null
          }
        },
        "1ce29394e7a449f48f6a25ee22b8cc02": {
          "model_module": "@jupyter-widgets/controls",
          "model_name": "DescriptionStyleModel",
          "model_module_version": "1.5.0",
          "state": {
            "_model_module": "@jupyter-widgets/controls",
            "_model_module_version": "1.5.0",
            "_model_name": "DescriptionStyleModel",
            "_view_count": null,
            "_view_module": "@jupyter-widgets/base",
            "_view_module_version": "1.2.0",
            "_view_name": "StyleView",
            "description_width": ""
          }
        },
        "73327d24b70e4fb8a8b525fb40424f02": {
          "model_module": "@jupyter-widgets/base",
          "model_name": "LayoutModel",
          "model_module_version": "1.2.0",
          "state": {
            "_model_module": "@jupyter-widgets/base",
            "_model_module_version": "1.2.0",
            "_model_name": "LayoutModel",
            "_view_count": null,
            "_view_module": "@jupyter-widgets/base",
            "_view_module_version": "1.2.0",
            "_view_name": "LayoutView",
            "align_content": null,
            "align_items": null,
            "align_self": null,
            "border": null,
            "bottom": null,
            "display": null,
            "flex": null,
            "flex_flow": null,
            "grid_area": null,
            "grid_auto_columns": null,
            "grid_auto_flow": null,
            "grid_auto_rows": null,
            "grid_column": null,
            "grid_gap": null,
            "grid_row": null,
            "grid_template_areas": null,
            "grid_template_columns": null,
            "grid_template_rows": null,
            "height": null,
            "justify_content": null,
            "justify_items": null,
            "left": null,
            "margin": null,
            "max_height": null,
            "max_width": null,
            "min_height": null,
            "min_width": null,
            "object_fit": null,
            "object_position": null,
            "order": null,
            "overflow": null,
            "overflow_x": null,
            "overflow_y": null,
            "padding": null,
            "right": null,
            "top": null,
            "visibility": null,
            "width": null
          }
        },
        "c1d5999746b54c01821617df5dbf73e1": {
          "model_module": "@jupyter-widgets/controls",
          "model_name": "ProgressStyleModel",
          "model_module_version": "1.5.0",
          "state": {
            "_model_module": "@jupyter-widgets/controls",
            "_model_module_version": "1.5.0",
            "_model_name": "ProgressStyleModel",
            "_view_count": null,
            "_view_module": "@jupyter-widgets/base",
            "_view_module_version": "1.2.0",
            "_view_name": "StyleView",
            "bar_color": null,
            "description_width": ""
          }
        },
        "7d3fb6dedc28407bb0fb4e115800f03a": {
          "model_module": "@jupyter-widgets/base",
          "model_name": "LayoutModel",
          "model_module_version": "1.2.0",
          "state": {
            "_model_module": "@jupyter-widgets/base",
            "_model_module_version": "1.2.0",
            "_model_name": "LayoutModel",
            "_view_count": null,
            "_view_module": "@jupyter-widgets/base",
            "_view_module_version": "1.2.0",
            "_view_name": "LayoutView",
            "align_content": null,
            "align_items": null,
            "align_self": null,
            "border": null,
            "bottom": null,
            "display": null,
            "flex": null,
            "flex_flow": null,
            "grid_area": null,
            "grid_auto_columns": null,
            "grid_auto_flow": null,
            "grid_auto_rows": null,
            "grid_column": null,
            "grid_gap": null,
            "grid_row": null,
            "grid_template_areas": null,
            "grid_template_columns": null,
            "grid_template_rows": null,
            "height": null,
            "justify_content": null,
            "justify_items": null,
            "left": null,
            "margin": null,
            "max_height": null,
            "max_width": null,
            "min_height": null,
            "min_width": null,
            "object_fit": null,
            "object_position": null,
            "order": null,
            "overflow": null,
            "overflow_x": null,
            "overflow_y": null,
            "padding": null,
            "right": null,
            "top": null,
            "visibility": null,
            "width": null
          }
        },
        "3ba25cd4d87c47d3a1977753c45266ad": {
          "model_module": "@jupyter-widgets/controls",
          "model_name": "DescriptionStyleModel",
          "model_module_version": "1.5.0",
          "state": {
            "_model_module": "@jupyter-widgets/controls",
            "_model_module_version": "1.5.0",
            "_model_name": "DescriptionStyleModel",
            "_view_count": null,
            "_view_module": "@jupyter-widgets/base",
            "_view_module_version": "1.2.0",
            "_view_name": "StyleView",
            "description_width": ""
          }
        },
        "b04fbebd22a8456eb900c35f36791e8a": {
          "model_module": "@jupyter-widgets/controls",
          "model_name": "HBoxModel",
          "model_module_version": "1.5.0",
          "state": {
            "_dom_classes": [],
            "_model_module": "@jupyter-widgets/controls",
            "_model_module_version": "1.5.0",
            "_model_name": "HBoxModel",
            "_view_count": null,
            "_view_module": "@jupyter-widgets/controls",
            "_view_module_version": "1.5.0",
            "_view_name": "HBoxView",
            "box_style": "",
            "children": [
              "IPY_MODEL_310b995032f54e87b706d37f4db56577",
              "IPY_MODEL_84de81ab9f1940b69d161ccf1acd9508",
              "IPY_MODEL_8d7f834db0b042c08caf2087de6d4035"
            ],
            "layout": "IPY_MODEL_faf67294ca954fcc9fe99a622f0a3bfa"
          }
        },
        "310b995032f54e87b706d37f4db56577": {
          "model_module": "@jupyter-widgets/controls",
          "model_name": "HTMLModel",
          "model_module_version": "1.5.0",
          "state": {
            "_dom_classes": [],
            "_model_module": "@jupyter-widgets/controls",
            "_model_module_version": "1.5.0",
            "_model_name": "HTMLModel",
            "_view_count": null,
            "_view_module": "@jupyter-widgets/controls",
            "_view_module_version": "1.5.0",
            "_view_name": "HTMLView",
            "description": "",
            "description_tooltip": null,
            "layout": "IPY_MODEL_294970d7efc94fd7b9772b87ecf54a16",
            "placeholder": "​",
            "style": "IPY_MODEL_cb5b20a58c5a4eb7b61216c6c67ce84b",
            "value": "model_optimized.onnx: 100%"
          }
        },
        "84de81ab9f1940b69d161ccf1acd9508": {
          "model_module": "@jupyter-widgets/controls",
          "model_name": "FloatProgressModel",
          "model_module_version": "1.5.0",
          "state": {
            "_dom_classes": [],
            "_model_module": "@jupyter-widgets/controls",
            "_model_module_version": "1.5.0",
            "_model_name": "FloatProgressModel",
            "_view_count": null,
            "_view_module": "@jupyter-widgets/controls",
            "_view_module_version": "1.5.0",
            "_view_name": "ProgressView",
            "bar_style": "success",
            "description": "",
            "description_tooltip": null,
            "layout": "IPY_MODEL_0ee133ac59f741f68569518462a34130",
            "max": 217824172,
            "min": 0,
            "orientation": "horizontal",
            "style": "IPY_MODEL_ef84586e137d4a6d878edb0584e7f088",
            "value": 217824172
          }
        },
        "8d7f834db0b042c08caf2087de6d4035": {
          "model_module": "@jupyter-widgets/controls",
          "model_name": "HTMLModel",
          "model_module_version": "1.5.0",
          "state": {
            "_dom_classes": [],
            "_model_module": "@jupyter-widgets/controls",
            "_model_module_version": "1.5.0",
            "_model_name": "HTMLModel",
            "_view_count": null,
            "_view_module": "@jupyter-widgets/controls",
            "_view_module_version": "1.5.0",
            "_view_name": "HTMLView",
            "description": "",
            "description_tooltip": null,
            "layout": "IPY_MODEL_327593ce7a99456b977bcb704b7c4bc2",
            "placeholder": "​",
            "style": "IPY_MODEL_7578917b69e54dd8864be6ee3d4e81a8",
            "value": " 218M/218M [00:02&lt;00:00, 115MB/s]"
          }
        },
        "faf67294ca954fcc9fe99a622f0a3bfa": {
          "model_module": "@jupyter-widgets/base",
          "model_name": "LayoutModel",
          "model_module_version": "1.2.0",
          "state": {
            "_model_module": "@jupyter-widgets/base",
            "_model_module_version": "1.2.0",
            "_model_name": "LayoutModel",
            "_view_count": null,
            "_view_module": "@jupyter-widgets/base",
            "_view_module_version": "1.2.0",
            "_view_name": "LayoutView",
            "align_content": null,
            "align_items": null,
            "align_self": null,
            "border": null,
            "bottom": null,
            "display": null,
            "flex": null,
            "flex_flow": null,
            "grid_area": null,
            "grid_auto_columns": null,
            "grid_auto_flow": null,
            "grid_auto_rows": null,
            "grid_column": null,
            "grid_gap": null,
            "grid_row": null,
            "grid_template_areas": null,
            "grid_template_columns": null,
            "grid_template_rows": null,
            "height": null,
            "justify_content": null,
            "justify_items": null,
            "left": null,
            "margin": null,
            "max_height": null,
            "max_width": null,
            "min_height": null,
            "min_width": null,
            "object_fit": null,
            "object_position": null,
            "order": null,
            "overflow": null,
            "overflow_x": null,
            "overflow_y": null,
            "padding": null,
            "right": null,
            "top": null,
            "visibility": null,
            "width": null
          }
        },
        "294970d7efc94fd7b9772b87ecf54a16": {
          "model_module": "@jupyter-widgets/base",
          "model_name": "LayoutModel",
          "model_module_version": "1.2.0",
          "state": {
            "_model_module": "@jupyter-widgets/base",
            "_model_module_version": "1.2.0",
            "_model_name": "LayoutModel",
            "_view_count": null,
            "_view_module": "@jupyter-widgets/base",
            "_view_module_version": "1.2.0",
            "_view_name": "LayoutView",
            "align_content": null,
            "align_items": null,
            "align_self": null,
            "border": null,
            "bottom": null,
            "display": null,
            "flex": null,
            "flex_flow": null,
            "grid_area": null,
            "grid_auto_columns": null,
            "grid_auto_flow": null,
            "grid_auto_rows": null,
            "grid_column": null,
            "grid_gap": null,
            "grid_row": null,
            "grid_template_areas": null,
            "grid_template_columns": null,
            "grid_template_rows": null,
            "height": null,
            "justify_content": null,
            "justify_items": null,
            "left": null,
            "margin": null,
            "max_height": null,
            "max_width": null,
            "min_height": null,
            "min_width": null,
            "object_fit": null,
            "object_position": null,
            "order": null,
            "overflow": null,
            "overflow_x": null,
            "overflow_y": null,
            "padding": null,
            "right": null,
            "top": null,
            "visibility": null,
            "width": null
          }
        },
        "cb5b20a58c5a4eb7b61216c6c67ce84b": {
          "model_module": "@jupyter-widgets/controls",
          "model_name": "DescriptionStyleModel",
          "model_module_version": "1.5.0",
          "state": {
            "_model_module": "@jupyter-widgets/controls",
            "_model_module_version": "1.5.0",
            "_model_name": "DescriptionStyleModel",
            "_view_count": null,
            "_view_module": "@jupyter-widgets/base",
            "_view_module_version": "1.2.0",
            "_view_name": "StyleView",
            "description_width": ""
          }
        },
        "0ee133ac59f741f68569518462a34130": {
          "model_module": "@jupyter-widgets/base",
          "model_name": "LayoutModel",
          "model_module_version": "1.2.0",
          "state": {
            "_model_module": "@jupyter-widgets/base",
            "_model_module_version": "1.2.0",
            "_model_name": "LayoutModel",
            "_view_count": null,
            "_view_module": "@jupyter-widgets/base",
            "_view_module_version": "1.2.0",
            "_view_name": "LayoutView",
            "align_content": null,
            "align_items": null,
            "align_self": null,
            "border": null,
            "bottom": null,
            "display": null,
            "flex": null,
            "flex_flow": null,
            "grid_area": null,
            "grid_auto_columns": null,
            "grid_auto_flow": null,
            "grid_auto_rows": null,
            "grid_column": null,
            "grid_gap": null,
            "grid_row": null,
            "grid_template_areas": null,
            "grid_template_columns": null,
            "grid_template_rows": null,
            "height": null,
            "justify_content": null,
            "justify_items": null,
            "left": null,
            "margin": null,
            "max_height": null,
            "max_width": null,
            "min_height": null,
            "min_width": null,
            "object_fit": null,
            "object_position": null,
            "order": null,
            "overflow": null,
            "overflow_x": null,
            "overflow_y": null,
            "padding": null,
            "right": null,
            "top": null,
            "visibility": null,
            "width": null
          }
        },
        "ef84586e137d4a6d878edb0584e7f088": {
          "model_module": "@jupyter-widgets/controls",
          "model_name": "ProgressStyleModel",
          "model_module_version": "1.5.0",
          "state": {
            "_model_module": "@jupyter-widgets/controls",
            "_model_module_version": "1.5.0",
            "_model_name": "ProgressStyleModel",
            "_view_count": null,
            "_view_module": "@jupyter-widgets/base",
            "_view_module_version": "1.2.0",
            "_view_name": "StyleView",
            "bar_color": null,
            "description_width": ""
          }
        },
        "327593ce7a99456b977bcb704b7c4bc2": {
          "model_module": "@jupyter-widgets/base",
          "model_name": "LayoutModel",
          "model_module_version": "1.2.0",
          "state": {
            "_model_module": "@jupyter-widgets/base",
            "_model_module_version": "1.2.0",
            "_model_name": "LayoutModel",
            "_view_count": null,
            "_view_module": "@jupyter-widgets/base",
            "_view_module_version": "1.2.0",
            "_view_name": "LayoutView",
            "align_content": null,
            "align_items": null,
            "align_self": null,
            "border": null,
            "bottom": null,
            "display": null,
            "flex": null,
            "flex_flow": null,
            "grid_area": null,
            "grid_auto_columns": null,
            "grid_auto_flow": null,
            "grid_auto_rows": null,
            "grid_column": null,
            "grid_gap": null,
            "grid_row": null,
            "grid_template_areas": null,
            "grid_template_columns": null,
            "grid_template_rows": null,
            "height": null,
            "justify_content": null,
            "justify_items": null,
            "left": null,
            "margin": null,
            "max_height": null,
            "max_width": null,
            "min_height": null,
            "min_width": null,
            "object_fit": null,
            "object_position": null,
            "order": null,
            "overflow": null,
            "overflow_x": null,
            "overflow_y": null,
            "padding": null,
            "right": null,
            "top": null,
            "visibility": null,
            "width": null
          }
        },
        "7578917b69e54dd8864be6ee3d4e81a8": {
          "model_module": "@jupyter-widgets/controls",
          "model_name": "DescriptionStyleModel",
          "model_module_version": "1.5.0",
          "state": {
            "_model_module": "@jupyter-widgets/controls",
            "_model_module_version": "1.5.0",
            "_model_name": "DescriptionStyleModel",
            "_view_count": null,
            "_view_module": "@jupyter-widgets/base",
            "_view_module_version": "1.2.0",
            "_view_name": "StyleView",
            "description_width": ""
          }
        }
      }
    }
  },
  "nbformat": 4,
  "nbformat_minor": 0
}